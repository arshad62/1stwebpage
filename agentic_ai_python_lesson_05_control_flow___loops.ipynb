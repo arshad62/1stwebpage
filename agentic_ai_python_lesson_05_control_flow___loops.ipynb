{
  "nbformat": 4,
  "nbformat_minor": 0,
  "metadata": {
    "colab": {
      "provenance": [],
      "include_colab_link": true
    },
    "kernelspec": {
      "name": "python3",
      "display_name": "Python 3"
    },
    "language_info": {
      "name": "python"
    }
  },
  "cells": [
    {
      "cell_type": "markdown",
      "metadata": {
        "id": "view-in-github",
        "colab_type": "text"
      },
      "source": [
        "<a href=\"https://colab.research.google.com/github/arshad62/1stwebpage/blob/master/agentic_ai_python_lesson_05_control_flow___loops.ipynb\" target=\"_parent\"><img src=\"https://colab.research.google.com/assets/colab-badge.svg\" alt=\"Open In Colab\"/></a>"
      ]
    },
    {
      "cell_type": "markdown",
      "source": [
        "<font color=\"#a9a56c\" size=2> **@Author: Arif Kasim Rozani - (Team Operation Badar)** </font>"
      ],
      "metadata": {
        "id": "38_QpUXJOAII"
      }
    },
    {
      "cell_type": "markdown",
      "source": [
        "# **Tutorial: Control Flow and Decision Making in Python**\n",
        "\n",
        "## **1. Introduction to Control Flow**\n",
        "\n",
        "Control flow refers to the order in which statements are executed in a program. In Python, decision-making is achieved using if, elif, and else statements, along with comparison and logical operators."
      ],
      "metadata": {
        "id": "nje0wz3tM5ZI"
      }
    },
    {
      "cell_type": "markdown",
      "source": [
        "## **2. Comparison Operators**\n",
        "\n",
        "<font color=\"Green\" size=3> (Already done in Lesson 02) </font>\n",
        "\n",
        "Comparison operators are used to compare values and return True or False. Here are the most common ones:\n",
        "\n",
        "* == (equal to)\n",
        "* != &nbsp;(not equal to)\n",
        "* \\> &nbsp;&nbsp;(greater than)\n",
        "* < &nbsp;&nbsp;(less than)\n",
        "* \\>= (greater than or equal to)\n",
        "* <= (less than or equal to)\n",
        "\n",
        "<br>\n",
        "\n",
        "Example Code:"
      ],
      "metadata": {
        "id": "cdKktT4gNNgX"
      }
    },
    {
      "cell_type": "code",
      "execution_count": null,
      "metadata": {
        "colab": {
          "base_uri": "https://localhost:8080/"
        },
        "id": "gUxrlEW-Mj--",
        "outputId": "4d923084-2708-4c91-9d3d-fe901d3c5d7d"
      },
      "outputs": [
        {
          "output_type": "stream",
          "name": "stdout",
          "text": [
            "x == y =  False\n",
            "x != y =  True\n",
            "x > y  =  False\n",
            "x < y  =  True\n",
            "x >= y =  False\n",
            "x <= y =  True\n"
          ]
        }
      ],
      "source": [
        "x: int = 10\n",
        "y: int = 20\n",
        "\n",
        "print(\"x == y = \", x == y)  # False\n",
        "print(\"x != y = \", x != y)  # True\n",
        "print(\"x > y  = \", x > y)   # False\n",
        "print(\"x < y  = \", x < y)   # True\n",
        "print(\"x >= y = \", x >= y)  # False\n",
        "print(\"x <= y = \", x <= y)  # True"
      ]
    },
    {
      "cell_type": "markdown",
      "source": [
        "# **3. Logical Operators**\n",
        "\n",
        "<font color=\"Green\" size=3> (Already done in Lesson 02) </font>\n",
        "\n",
        "\n",
        "Logical operators combine multiple conditions:\n",
        "\n",
        "* and (True if both conditions are True)\n",
        "* or (True if at least one condition is True)\n",
        "* not (reverses the result of a condition)"
      ],
      "metadata": {
        "id": "qGjQea4gOYZW"
      }
    },
    {
      "cell_type": "code",
      "source": [
        "age: int = 25\n",
        "is_student: bool = True\n",
        "\n",
        "# Check if age is greater than 18 AND is_student is True\n",
        "if age > 18 and is_student:\n",
        "    print(\"You are eligible for a student discount.\")\n",
        "\n",
        "# Check if age is less than 12 OR greater than 60\n",
        "if age < 12 or age > 60:\n",
        "    print(\"You qualify for a special discount.\")\n",
        "\n",
        "# Check if the person is NOT a student\n",
        "if not is_student:\n",
        "    print(\"You are not a student.\")"
      ],
      "metadata": {
        "colab": {
          "base_uri": "https://localhost:8080/"
        },
        "id": "Qh0hehGnOp3G",
        "outputId": "7af65d47-c41b-45db-f01f-00c4cf5006c6"
      },
      "execution_count": null,
      "outputs": [
        {
          "output_type": "stream",
          "name": "stdout",
          "text": [
            "You are eligible for a student discount.\n"
          ]
        }
      ]
    },
    {
      "cell_type": "markdown",
      "source": [
        "# **4. The if Statement**\n",
        "\n",
        "The if statement is used to execute a block of code only if a condition is True.\n",
        "\n",
        "<br>\n",
        "\n",
        "Example Code:"
      ],
      "metadata": {
        "id": "3mxsAIXFO9mV"
      }
    },
    {
      "cell_type": "code",
      "source": [
        "num: int = 10\n",
        "\n",
        "if num > 0:\n",
        "    print(\"The number is positive.\")"
      ],
      "metadata": {
        "colab": {
          "base_uri": "https://localhost:8080/"
        },
        "id": "P-Btma3SPEnV",
        "outputId": "b1dd3bbd-5cd4-4c36-d788-c13504e193c8"
      },
      "execution_count": null,
      "outputs": [
        {
          "output_type": "stream",
          "name": "stdout",
          "text": [
            "The number is positive.\n"
          ]
        }
      ]
    },
    {
      "cell_type": "markdown",
      "source": [
        "# **5. The else Statement**\n",
        "\n",
        "The else statement is used to execute a block of code if the if condition is False.\n",
        "\n",
        "<br>\n",
        "\n",
        "Example Code:"
      ],
      "metadata": {
        "id": "OKk1YFpYPIrN"
      }
    },
    {
      "cell_type": "code",
      "source": [
        "num: int = -5\n",
        "\n",
        "if num > 0:\n",
        "    print(\"The number is positive.\")\n",
        "else:\n",
        "    print(\"The number is not positive.\")"
      ],
      "metadata": {
        "colab": {
          "base_uri": "https://localhost:8080/"
        },
        "id": "iVWOSzW5POk1",
        "outputId": "f8d0005d-7cb0-4e61-e7a9-be42cdb844fc"
      },
      "execution_count": null,
      "outputs": [
        {
          "output_type": "stream",
          "name": "stdout",
          "text": [
            "The number is not positive.\n"
          ]
        }
      ]
    },
    {
      "cell_type": "markdown",
      "source": [
        "# **6. The elif Statement**\n",
        "\n",
        "The elif statement is used to check multiple conditions. It stands for \"else if.\"\n",
        "<br>\n",
        "\n",
        "Example Code:"
      ],
      "metadata": {
        "id": "xuBQJ3zqPWQF"
      }
    },
    {
      "cell_type": "code",
      "source": [
        "num: int = 0\n",
        "\n",
        "if num > 0: # Program execution step# 1 if condition = False\n",
        "    print(\"The number is positive.\")\n",
        "elif num < 0: # Program execution step# 2 if condition = False\n",
        "    print(\"The number is negative.\")\n",
        "else: # Program execution step# 3 python will execute the else block\n",
        "    print(\"The number is zero.\")"
      ],
      "metadata": {
        "colab": {
          "base_uri": "https://localhost:8080/"
        },
        "id": "Nf2lpunmPePV",
        "outputId": "e15b689d-4a29-42ba-c7f8-1046ff6c6c3c"
      },
      "execution_count": null,
      "outputs": [
        {
          "output_type": "stream",
          "name": "stdout",
          "text": [
            "The number is zero.\n"
          ]
        }
      ]
    },
    {
      "cell_type": "markdown",
      "source": [
        "# **7. Nested if Statements**\n",
        "\n",
        "if statements can be nested inside other if statements to check multiple conditions.\n",
        "\n",
        "<br>\n",
        "\n",
        "Example Code:"
      ],
      "metadata": {
        "id": "0VTvdL1wPjh1"
      }
    },
    {
      "cell_type": "code",
      "source": [
        "num: int = 9\n",
        "#num: int = -9\n",
        "\n",
        "if num > 0: # check wather the number is positive or negative\n",
        "\n",
        "    if num % 2 == 0: # Modulus operator, remainder 0 = even_number,\n",
        "        print(\"The number is positive and even.\")\n",
        "    else: # remainder 1 = odd_number,\n",
        "        print(\"The number is positive and odd.\")\n",
        "\n",
        "else:\n",
        "    print(\"The number is negative.\")"
      ],
      "metadata": {
        "colab": {
          "base_uri": "https://localhost:8080/"
        },
        "id": "Fvyg6Zc2PsV0",
        "outputId": "e838ddc7-3abc-4e52-ce2b-c1b3953a381a"
      },
      "execution_count": null,
      "outputs": [
        {
          "output_type": "stream",
          "name": "stdout",
          "text": [
            "The number is positive and odd.\n"
          ]
        }
      ]
    },
    {
      "cell_type": "markdown",
      "source": [
        "# **8. Practical Examples**\n",
        "\n",
        "Here are two practical examples to solidify these concepts.\n",
        "\n",
        "Example 1: Simple Calculator"
      ],
      "metadata": {
        "id": "dz7WWYZcRf87"
      }
    },
    {
      "cell_type": "code",
      "source": [
        "operation: str = input(\"Enter the operation (+, -, *, /): \")\n",
        "num1: float = float(input(\"Enter the first number: \"))\n",
        "num2: float = float(input(\"Enter the second number: \"))\n",
        "\n",
        "if operation == '+':\n",
        "    result = num1 + num2\n",
        "elif operation == '-':\n",
        "    result = num1 - num2\n",
        "elif operation == '*':\n",
        "    result = num1 * num2\n",
        "elif operation == '/':\n",
        "    if num2 != 0:\n",
        "        result = num1 / num2\n",
        "    else:\n",
        "        result = \"Error: Division by zero.\"\n",
        "else:\n",
        "    result = \"Invalid operation.\"\n",
        "\n",
        "print(\"Result:\", result)"
      ],
      "metadata": {
        "colab": {
          "base_uri": "https://localhost:8080/"
        },
        "id": "UHsjLNQRRj1E",
        "outputId": "30503876-9438-4148-e5b8-621ba4e529cc"
      },
      "execution_count": null,
      "outputs": [
        {
          "output_type": "stream",
          "name": "stdout",
          "text": [
            "Enter the operation (+, -, *, /): /\n",
            "Enter the first number: 8\n",
            "Enter the second number: 2\n",
            "Result: 4.0\n"
          ]
        }
      ]
    },
    {
      "cell_type": "markdown",
      "source": [
        "<font color=\"#a83285\" size=5> From now onwards you will be seeing the power of Generative AI in our tutorial </font>"
      ],
      "metadata": {
        "id": "1wPmhW5cTkhp"
      }
    },
    {
      "cell_type": "code",
      "source": [
        "# prompt: build a calculator which takes input from the user, beside basic functionality include modulus, floor division, Exponentiation\n",
        "\n",
        "def calculator():\n",
        "  \"\"\"\n",
        "  A calculator function that takes user input for numbers and operations,\n",
        "  including modulus, floor division, and exponentiation.\n",
        "  \"\"\"\n",
        "  while True:\n",
        "    operation = input(\"Enter the operation (+, -, *, /, %, //, ** or 'q' to quit): \")\n",
        "    if operation.lower() == 'q':\n",
        "      break\n",
        "    if operation not in ('+', '-', '*', '/', '%', '//', '**'):\n",
        "      print(\"Invalid operation.\")\n",
        "      continue\n",
        "\n",
        "    try:\n",
        "      num1 = float(input(\"Enter the first number: \"))\n",
        "      num2 = float(input(\"Enter the second number: \"))\n",
        "    except ValueError:\n",
        "      print(\"Invalid input. Please enter numbers only.\")\n",
        "      continue\n",
        "\n",
        "    if operation == '+':\n",
        "      result = num1 + num2\n",
        "    elif operation == '-':\n",
        "      result = num1 - num2\n",
        "    elif operation == '*':\n",
        "      result = num1 * num2\n",
        "    elif operation == '/':\n",
        "      if num2 != 0:\n",
        "        result = num1 / num2\n",
        "      else:\n",
        "        result = \"Error: Division by zero.\"\n",
        "        print(result)\n",
        "        continue\n",
        "    elif operation == '%':\n",
        "      result = num1 % num2\n",
        "    elif operation == '//':\n",
        "      if num2 != 0:\n",
        "        result = num1 // num2\n",
        "      else:\n",
        "        result = \"Error: Division by zero.\"\n",
        "        print(result)\n",
        "        continue\n",
        "    elif operation == '**':\n",
        "      result = num1 ** num2\n",
        "\n",
        "    print(\"Result:\", result)\n",
        "\n",
        "calculator()\n"
      ],
      "metadata": {
        "colab": {
          "base_uri": "https://localhost:8080/"
        },
        "id": "oWg8AtU8Rski",
        "outputId": "c3d59e93-8d0b-4155-d8ad-b5be4e95d415"
      },
      "execution_count": null,
      "outputs": [
        {
          "name": "stdout",
          "output_type": "stream",
          "text": [
            "Enter the operation (+, -, *, /, %, //, ** or 'q' to quit): //\n",
            "Enter the first number: 5\n",
            "Enter the second number: 2\n",
            "Result: 2.0\n",
            "Enter the operation (+, -, *, /, %, //, ** or 'q' to quit): /\n",
            "Enter the first number: 5\n",
            "Enter the second number: 2\n",
            "Result: 2.5\n",
            "Enter the operation (+, -, *, /, %, //, ** or 'q' to quit): q\n"
          ]
        }
      ]
    },
    {
      "cell_type": "code",
      "source": [
        "# prompt: generate a grading system for school which takes marks as an  input show grade according to the marks\n",
        "\n",
        "def grading_system(marks):\n",
        "  \"\"\"\n",
        "  This function takes marks as input and returns the corresponding grade.\n",
        "\n",
        "  Args:\n",
        "    marks: The marks obtained by the student.\n",
        "\n",
        "  Returns:\n",
        "    The grade corresponding to the marks.\n",
        "  \"\"\"\n",
        "  if marks >= 90:\n",
        "    grade = \"A+\"\n",
        "  elif marks >= 80:\n",
        "    grade = \"A\"\n",
        "  elif marks >= 70:\n",
        "    grade = \"B\"\n",
        "  elif marks >= 60:\n",
        "    grade = \"C\"\n",
        "  elif marks >= 50:\n",
        "    grade = \"D\"\n",
        "  else:\n",
        "    grade = \"F\"\n",
        "  return grade\n",
        "\n",
        "# Get marks as input from the user\n",
        "while True:\n",
        "  try:\n",
        "    marks = float(input(\"Enter the marks: \"))\n",
        "    if 0 <= marks <= 100:\n",
        "      break\n",
        "    else:\n",
        "      print(\"Marks must be between 0 and 100.\")\n",
        "  except ValueError:\n",
        "    print(\"Invalid input. Please enter a number.\")\n",
        "\n",
        "# Determine the grade\n",
        "grade = grading_system(marks)\n",
        "\n",
        "# Print the grade\n",
        "print(f\"The grade for {marks} marks is: {grade}\")\n"
      ],
      "metadata": {
        "colab": {
          "base_uri": "https://localhost:8080/"
        },
        "id": "sJNd7U_TTFmR",
        "outputId": "3c84d7bb-c13b-4acb-98b1-2034fc5ed8b6"
      },
      "execution_count": 1,
      "outputs": [
        {
          "output_type": "stream",
          "name": "stdout",
          "text": [
            "Enter the marks: 79\n",
            "The grade for 79.0 marks is: B\n"
          ]
        }
      ]
    },
    {
      "cell_type": "markdown",
      "source": [
        "## **Python `match-case` Statement**\n",
        "\n",
        "Python introduced the `match-case` statement in **Python 3.10** as a way to implement **structural pattern matching**, which provides a cleaner and more readable alternative to traditional `if-elif-else` chains.\n",
        "\n",
        "---\n",
        "\n",
        "## **1. Basic Syntax**\n",
        "The `match-case` statement works by comparing an expression against multiple patterns. The syntax is:"
      ],
      "metadata": {
        "id": "qt5olnWF_T1v"
      }
    },
    {
      "cell_type": "code",
      "source": [
        "def check_status(code):\n",
        "    match code:\n",
        "        case 200:\n",
        "            print(\"OK\")\n",
        "        case 400:\n",
        "            print(\"Bad Request\")\n",
        "        case 404:\n",
        "            print(\"Not Found\")\n",
        "        case _:\n",
        "            print(\"Unknown Status\")\n",
        "\n",
        "check_status(200)  # Output: OK\n",
        "check_status(404)  # Output: Not Found\n",
        "check_status(500)  # Output: Unknown Status"
      ],
      "metadata": {
        "colab": {
          "base_uri": "https://localhost:8080/"
        },
        "id": "sQa075B-_LTp",
        "outputId": "b2cef731-647c-4a42-8063-def92e614418"
      },
      "execution_count": 2,
      "outputs": [
        {
          "output_type": "stream",
          "name": "stdout",
          "text": [
            "OK\n",
            "Not Found\n",
            "Unknown Status\n"
          ]
        }
      ]
    },
    {
      "cell_type": "markdown",
      "source": [
        "[See appendix for more detail on match-case](https://github.com/panaversity/learn-modern-ai-python/blob/main/00_python_colab/Appendix/The%20%60match-case%60%20Statement.md)"
      ],
      "metadata": {
        "id": "VS6hMVcq_nNY"
      }
    },
    {
      "cell_type": "markdown",
      "source": [
        "# **Tutorial: Loops and Iteration in Python**\n",
        "\n",
        "## **1. Introduction to Loops**\n",
        "\n",
        "Loops are used to repeat a block of code multiple times. Python supports two types of loops:\n",
        "\n",
        "* for loops: Used to iterate over a sequence (e.g., lists, strings, or ranges).\n",
        "* while loops: Used to repeat a block of code as long as a condition is True.\n",
        "\n",
        "When to use scenario:\n",
        "\n",
        "  **A. For Loop:**\n",
        "\n",
        "  - **`Grading a class of students`**: You have a `list of 30 students` and you want to calculate the average score for each student. You use a `for` loop to iterate over the list of students and calculate the average score for each one.\n",
        "\n",
        "  - Washing Machine(number spins), Microwave Oven e.t.c.\n",
        "\n",
        "**B. While Loop:**\n",
        "\n",
        "  - **`Filling up a gas tank`**: You want to fill up your gas tank `until it's full.` You don't know how many times you'll need to fill up the tank, but you'll keep filling it up until it's full. You use a `while` loop to fill up the tank until it's full.\n",
        "\n",
        "  - Air Conditioner, Refigrator, Heater, Washing Machine(filling water) e.t.c."
      ],
      "metadata": {
        "id": "owZCVAzMYXuk"
      }
    },
    {
      "cell_type": "markdown",
      "source": [
        "## **2. The for Loop**\n",
        "\n",
        "The for loop iterates over a sequence (like a list, string, or range) and executes a block of code for each item `for a specified or fixed number of times`.\n",
        "\n",
        "Example Code:"
      ],
      "metadata": {
        "id": "YpIiRimQZNTz"
      }
    },
    {
      "cell_type": "code",
      "source": [
        "# Iterate over a list\n",
        "fruits: list = [\"apple\", \"banana\", \"cherry\"]\n",
        "for fruit in fruits:\n",
        "    print(fruit)\n",
        "\n",
        "# Note: Membership Operators in Python in, not in"
      ],
      "metadata": {
        "colab": {
          "base_uri": "https://localhost:8080/"
        },
        "id": "EijmL3ZQZbGE",
        "outputId": "b1cf988c-0266-416c-e78b-6f6a10ce715a"
      },
      "execution_count": 3,
      "outputs": [
        {
          "output_type": "stream",
          "name": "stdout",
          "text": [
            "apple\n",
            "banana\n",
            "cherry\n"
          ]
        }
      ]
    },
    {
      "cell_type": "code",
      "source": [
        "# Iterate over a string\n",
        "word: str = \"Python\"\n",
        "for letter in word:\n",
        "    print(letter)"
      ],
      "metadata": {
        "colab": {
          "base_uri": "https://localhost:8080/"
        },
        "id": "o7irFcDpcUJ6",
        "outputId": "8f982c4c-a604-4fee-8261-8a5eac6a5789"
      },
      "execution_count": 4,
      "outputs": [
        {
          "output_type": "stream",
          "name": "stdout",
          "text": [
            "P\n",
            "y\n",
            "t\n",
            "h\n",
            "o\n",
            "n\n"
          ]
        }
      ]
    },
    {
      "cell_type": "markdown",
      "source": [
        "## **for Loop with else in Python**\n",
        "\n",
        "In Python, a for loop can have an else block. The else block runs only if the loop completes without a break statement.\n",
        "\n",
        "*(Contributor: Daniel Hashmi from Karachi)*"
      ],
      "metadata": {
        "id": "ojHRbf4XX0ty"
      }
    },
    {
      "cell_type": "markdown",
      "source": [
        "## **Example 1: for loop with else (No break)**"
      ],
      "metadata": {
        "id": "0g6CuSppX75P"
      }
    },
    {
      "cell_type": "code",
      "source": [
        "numbers = [1, 2, 3, 4, 5]\n",
        "\n",
        "for num in numbers:\n",
        "    print(num)\n",
        "else:\n",
        "    print(\"Loop completed successfully!\")"
      ],
      "metadata": {
        "colab": {
          "base_uri": "https://localhost:8080/"
        },
        "id": "S70vV677X-nf",
        "outputId": "0ca75098-67af-4e7a-cab4-5e1bf2ab886d"
      },
      "execution_count": 5,
      "outputs": [
        {
          "output_type": "stream",
          "name": "stdout",
          "text": [
            "1\n",
            "2\n",
            "3\n",
            "4\n",
            "5\n",
            "Loop completed successfully!\n"
          ]
        }
      ]
    },
    {
      "cell_type": "markdown",
      "source": [
        "## **Example 2: for loop with break (Skipping else)**"
      ],
      "metadata": {
        "id": "fwOAXMHlYK8_"
      }
    },
    {
      "cell_type": "code",
      "source": [
        "numbers = [1, 2, 3, 4, 5]\n",
        "\n",
        "for num in numbers:\n",
        "    print(num)\n",
        "    if num == 3:\n",
        "        print(\"Breaking the loop!\")\n",
        "        break\n",
        "else:\n",
        "    print(\"Loop completed successfully!\")  # This will NOT run"
      ],
      "metadata": {
        "colab": {
          "base_uri": "https://localhost:8080/"
        },
        "id": "7_-6MufBYNKH",
        "outputId": "2be30115-c486-4144-d699-1d5b0c786fc8"
      },
      "execution_count": 6,
      "outputs": [
        {
          "output_type": "stream",
          "name": "stdout",
          "text": [
            "1\n",
            "2\n",
            "3\n",
            "Breaking the loop!\n"
          ]
        }
      ]
    },
    {
      "cell_type": "markdown",
      "source": [
        "## **Example 3: Searching with else**"
      ],
      "metadata": {
        "id": "-HvAZx3zYTNR"
      }
    },
    {
      "cell_type": "code",
      "source": [
        "numbers = [1, 2, 3, 4, 5]\n",
        "\n",
        "for num in numbers:\n",
        "    if num == 6:\n",
        "        print(\"Number found!\")\n",
        "        break\n",
        "else:\n",
        "    print(\"Number not found!\")  # Runs because 6 is not in the list"
      ],
      "metadata": {
        "colab": {
          "base_uri": "https://localhost:8080/"
        },
        "id": "S71XjOgBYVHh",
        "outputId": "050f9392-cbc1-4152-cd23-deb86ce1b8d7"
      },
      "execution_count": 7,
      "outputs": [
        {
          "output_type": "stream",
          "name": "stdout",
          "text": [
            "Number not found!\n"
          ]
        }
      ]
    },
    {
      "cell_type": "markdown",
      "source": [
        "<font color=\"Green\" size=3> In Lesson 01 we learned about range() </font>"
      ],
      "metadata": {
        "id": "PrlehLuCazVL"
      }
    },
    {
      "cell_type": "code",
      "source": [
        "# Print numbers from 0 to 4\n",
        "for i in range(5):\n",
        "    print(i)"
      ],
      "metadata": {
        "colab": {
          "base_uri": "https://localhost:8080/"
        },
        "id": "5Tm1WArNafKD",
        "outputId": "4f946c4b-f0ac-4283-e095-715a94e8a07b"
      },
      "execution_count": 8,
      "outputs": [
        {
          "output_type": "stream",
          "name": "stdout",
          "text": [
            "0\n",
            "1\n",
            "2\n",
            "3\n",
            "4\n"
          ]
        }
      ]
    },
    {
      "cell_type": "code",
      "source": [
        "# Print even numbers from 2 to 10\n",
        "for i in range(2, 11, 2):\n",
        "    print(i)"
      ],
      "metadata": {
        "colab": {
          "base_uri": "https://localhost:8080/"
        },
        "id": "F50qApdlcaa5",
        "outputId": "f02ebcc3-daab-4130-c5b4-067a224a2b26"
      },
      "execution_count": 9,
      "outputs": [
        {
          "output_type": "stream",
          "name": "stdout",
          "text": [
            "2\n",
            "4\n",
            "6\n",
            "8\n",
            "10\n"
          ]
        }
      ]
    },
    {
      "cell_type": "markdown",
      "source": [
        "`_` (*underscore*) This is a **`throwaway variable`**, which is a common Python convention for a variable that you **`don't plan to use`**. In this case, the loop variable is not used within the loop, so it's assigned to `_`.\n",
        "\n",
        "If you want to use the loop variable, you can replace `_` with a more meaningful variable name. For example:"
      ],
      "metadata": {
        "id": "e8oUU81zRdth"
      }
    },
    {
      "cell_type": "code",
      "source": [
        "for _ in range(10): # Just to show that _ is a loop variable, but its throwaway variable\n",
        "    # Code to be executed 100,000 times\n",
        "    print(f\"Hello, World! Iteration { _ }\")"
      ],
      "metadata": {
        "colab": {
          "base_uri": "https://localhost:8080/"
        },
        "id": "IN8mIoFoRhAR",
        "outputId": "c4688469-d5cc-4d5d-e6d7-882fc71c8766"
      },
      "execution_count": 10,
      "outputs": [
        {
          "output_type": "stream",
          "name": "stdout",
          "text": [
            "Hello, World! Iteration 0\n",
            "Hello, World! Iteration 1\n",
            "Hello, World! Iteration 2\n",
            "Hello, World! Iteration 3\n",
            "Hello, World! Iteration 4\n",
            "Hello, World! Iteration 5\n",
            "Hello, World! Iteration 6\n",
            "Hello, World! Iteration 7\n",
            "Hello, World! Iteration 8\n",
            "Hello, World! Iteration 9\n"
          ]
        }
      ]
    },
    {
      "cell_type": "markdown",
      "source": [
        "## **3. The while Loop**\n",
        "\n",
        "The while loop repeats a block of code `as long as a condition is True.`\n",
        "\n",
        "<br>\n",
        "\n",
        "Example Code:"
      ],
      "metadata": {
        "id": "qUifWJgZbgNa"
      }
    },
    {
      "cell_type": "code",
      "source": [
        "# Print numbers from 1 to 5\n",
        "count: int = 1\n",
        "while count <= 5:\n",
        "    print(count)\n",
        "    count += 1"
      ],
      "metadata": {
        "colab": {
          "base_uri": "https://localhost:8080/"
        },
        "id": "nittGh5gbrx6",
        "outputId": "755a0f78-a12c-47d1-ce51-5f89b62d67dc"
      },
      "execution_count": 11,
      "outputs": [
        {
          "output_type": "stream",
          "name": "stdout",
          "text": [
            "1\n",
            "2\n",
            "3\n",
            "4\n",
            "5\n"
          ]
        }
      ]
    },
    {
      "cell_type": "markdown",
      "source": [
        "## **4. Controlling Loops**\n",
        "\n",
        "Python provides two keywords (`break` & `continue`) to control loops:\n",
        "\n",
        "* **break**: `Exits` the loop immediately.\n",
        "* **continue**: `Skips` the rest of the code in the current iteration and moves to the next iteration.\n",
        "\n",
        "<br>\n",
        "\n",
        "\n",
        "Example Code:"
      ],
      "metadata": {
        "id": "yHMeShp0b87i"
      }
    },
    {
      "cell_type": "code",
      "source": [
        "# Break example\n",
        "for i in range(10):\n",
        "    if i == 5:\n",
        "        break\n",
        "    print(i)  # Prints 0, 1, 2, 3, 4"
      ],
      "metadata": {
        "colab": {
          "base_uri": "https://localhost:8080/"
        },
        "id": "BMXsZH8ocGLz",
        "outputId": "0530e8a7-be01-452e-ed2c-ca71d1a0ea30"
      },
      "execution_count": 12,
      "outputs": [
        {
          "output_type": "stream",
          "name": "stdout",
          "text": [
            "0\n",
            "1\n",
            "2\n",
            "3\n",
            "4\n"
          ]
        }
      ]
    },
    {
      "cell_type": "code",
      "source": [
        "# Continue example\n",
        "for i in range(5):\n",
        "    if i == 3:\n",
        "        continue\n",
        "    print(i)  # Prints 0, 1, 2, 4"
      ],
      "metadata": {
        "colab": {
          "base_uri": "https://localhost:8080/"
        },
        "id": "sNCH9A7jcfnB",
        "outputId": "178b6a81-1637-442d-bdf3-1c9fd14a0cd8"
      },
      "execution_count": 13,
      "outputs": [
        {
          "output_type": "stream",
          "name": "stdout",
          "text": [
            "0\n",
            "1\n",
            "2\n",
            "4\n"
          ]
        }
      ]
    },
    {
      "cell_type": "markdown",
      "source": [
        "## **5. Nested Loops**\n",
        "\n",
        "### **What are nested loops?**\n",
        "\n",
        "Nested loops, also known as inner loops or nested iterations, refer to the process of placing one loop inside another loop. The inner loop will iterate through its entire cycle for each iteration of the outer loop.\n",
        "\n",
        "<br>\n",
        "\n",
        "\n",
        "### **Example Code:**"
      ],
      "metadata": {
        "id": "jzqau7uVeu2v"
      }
    },
    {
      "cell_type": "code",
      "source": [
        "# Multiplication table\n",
        "for outer in range(1, 6): # outer loop\n",
        "    print(f\"Multiplication table for {outer}:\")\n",
        "    for inner in range(1, 11): # nested inner loop\n",
        "        print(f\"{outer} * {inner} = {outer * inner}\")\n",
        "    print()  # Add a blank line after each row"
      ],
      "metadata": {
        "colab": {
          "base_uri": "https://localhost:8080/"
        },
        "id": "RRVuaE8Ye1dv",
        "outputId": "31ca9cc5-b52f-48f0-95f6-d99c6855d75d"
      },
      "execution_count": 14,
      "outputs": [
        {
          "output_type": "stream",
          "name": "stdout",
          "text": [
            "Multiplication table for 1:\n",
            "1 * 1 = 1\n",
            "1 * 2 = 2\n",
            "1 * 3 = 3\n",
            "1 * 4 = 4\n",
            "1 * 5 = 5\n",
            "1 * 6 = 6\n",
            "1 * 7 = 7\n",
            "1 * 8 = 8\n",
            "1 * 9 = 9\n",
            "1 * 10 = 10\n",
            "\n",
            "Multiplication table for 2:\n",
            "2 * 1 = 2\n",
            "2 * 2 = 4\n",
            "2 * 3 = 6\n",
            "2 * 4 = 8\n",
            "2 * 5 = 10\n",
            "2 * 6 = 12\n",
            "2 * 7 = 14\n",
            "2 * 8 = 16\n",
            "2 * 9 = 18\n",
            "2 * 10 = 20\n",
            "\n",
            "Multiplication table for 3:\n",
            "3 * 1 = 3\n",
            "3 * 2 = 6\n",
            "3 * 3 = 9\n",
            "3 * 4 = 12\n",
            "3 * 5 = 15\n",
            "3 * 6 = 18\n",
            "3 * 7 = 21\n",
            "3 * 8 = 24\n",
            "3 * 9 = 27\n",
            "3 * 10 = 30\n",
            "\n",
            "Multiplication table for 4:\n",
            "4 * 1 = 4\n",
            "4 * 2 = 8\n",
            "4 * 3 = 12\n",
            "4 * 4 = 16\n",
            "4 * 5 = 20\n",
            "4 * 6 = 24\n",
            "4 * 7 = 28\n",
            "4 * 8 = 32\n",
            "4 * 9 = 36\n",
            "4 * 10 = 40\n",
            "\n",
            "Multiplication table for 5:\n",
            "5 * 1 = 5\n",
            "5 * 2 = 10\n",
            "5 * 3 = 15\n",
            "5 * 4 = 20\n",
            "5 * 5 = 25\n",
            "5 * 6 = 30\n",
            "5 * 7 = 35\n",
            "5 * 8 = 40\n",
            "5 * 9 = 45\n",
            "5 * 10 = 50\n",
            "\n"
          ]
        }
      ]
    },
    {
      "cell_type": "markdown",
      "source": [
        "**Use Cases for Nested Loops**\n",
        "\n",
        "Nested loops are useful in various scenarios, such as:\n",
        "\n",
        "1. **Matrix operations**: When working with matrices, you often need to iterate over each element in a two-dimensional array. Nested loops can help you achieve this.\n",
        "\n",
        "2. **Iterating over multiple lists**: If you have multiple lists and want to perform operations on each combination of elements, nested loops can be used.\n",
        "3. **Games and simulations**: Nested loops can be used to create game boards, simulate complex systems, or iterate over multiple levels of data.\n",
        "4. **Data processing**: When dealing with large datasets, nested loops can help you process and analyze the data by iterating over each element and performing operations.\n",
        "\n",
        "**Best Practices for Using Nested Loops**\n",
        "\n",
        "While nested loops can be powerful, it's essential to use them wisely to avoid performance issues and improve readability:\n",
        "\n",
        "1. **Minimize nesting**: Try to limit the number of nested loops to three levels or less, as excessive nesting can lead to performance degradation and decreased readability.\n",
        "\n",
        "2. **Use meaningful variable names**: Use clear and descriptive variable names to help distinguish between the outer and inner loops.\n",
        "3. **Optimize loop conditions**: Ensure that the loop conditions are optimized to minimize unnecessary iterations.\n"
      ],
      "metadata": {
        "id": "UUnJw84gxJof"
      }
    },
    {
      "cell_type": "markdown",
      "source": [
        "## **6. Practical Examples**\n",
        "\n",
        "Here are two practical examples to solidify these concepts.\n",
        "\n",
        "<br>\n",
        "\n",
        "**Example 1**: Sum of Numbers"
      ],
      "metadata": {
        "id": "A9-H8UiDfX0_"
      }
    },
    {
      "cell_type": "code",
      "source": [
        "# Sum numbers from 1 to 1000\n",
        "total: int = 0\n",
        "for i in range(1, 1001):\n",
        "    total += i\n",
        "print(\"Sum of numbers from 1 to 1000:\", total)"
      ],
      "metadata": {
        "colab": {
          "base_uri": "https://localhost:8080/"
        },
        "id": "WoCMtfLefeo-",
        "outputId": "463f0208-1bcb-4035-d3aa-42131ac17d8f"
      },
      "execution_count": 16,
      "outputs": [
        {
          "output_type": "stream",
          "name": "stdout",
          "text": [
            "Sum of numbers from 1 to 1000: 500500\n"
          ]
        }
      ]
    },
    {
      "cell_type": "markdown",
      "source": [
        "**Example 2**: Finding Factors of a Number"
      ],
      "metadata": {
        "id": "drUiYA7jfjWW"
      }
    },
    {
      "cell_type": "code",
      "source": [
        "# Find factors of a number\n",
        "num: int = 24\n",
        "factors = []\n",
        "for i in range(1, num + 1):\n",
        "    if num % i == 0:\n",
        "        factors.append(i)\n",
        "print(f\"Factors of {num}: {factors}\")"
      ],
      "metadata": {
        "colab": {
          "base_uri": "https://localhost:8080/"
        },
        "id": "RsuhaHi_fk0X",
        "outputId": "4f81612b-2d14-415f-bba5-d20df46bd4d4"
      },
      "execution_count": 17,
      "outputs": [
        {
          "output_type": "stream",
          "name": "stdout",
          "text": [
            "Factors of 24: [1, 2, 3, 4, 6, 8, 12, 24]\n"
          ]
        }
      ]
    }
  ]
}