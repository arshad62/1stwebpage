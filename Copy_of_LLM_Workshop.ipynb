{
  "nbformat": 4,
  "nbformat_minor": 0,
  "metadata": {
    "colab": {
      "provenance": [],
      "include_colab_link": true
    },
    "kernelspec": {
      "name": "python3",
      "display_name": "Python 3"
    },
    "language_info": {
      "name": "python"
    }
  },
  "cells": [
    {
      "cell_type": "markdown",
      "metadata": {
        "id": "view-in-github",
        "colab_type": "text"
      },
      "source": [
        "<a href=\"https://colab.research.google.com/github/arshad62/1stwebpage/blob/master/Copy_of_LLM_Workshop.ipynb\" target=\"_parent\"><img src=\"https://colab.research.google.com/assets/colab-badge.svg\" alt=\"Open In Colab\"/></a>"
      ]
    },
    {
      "cell_type": "markdown",
      "source": [
        "# Problem Statement: Resume Evaluation System\n",
        "\n",
        "In the hiring process, recruiters and HR professionals often need to evaluate a large number of resumes to identify the most suitable candidates for a given job position. This process is time-consuming, requiring manual review of resumes against the job description, and may introduce human biases."
      ],
      "metadata": {
        "id": "CeZ8IbFQcajR"
      }
    },
    {
      "cell_type": "code",
      "source": [
        "!pip install langchain langchain_google_genai --quiet"
      ],
      "metadata": {
        "id": "AKtoGIdmLwhz",
        "colab": {
          "base_uri": "https://localhost:8080/"
        },
        "outputId": "6435565b-1315-4770-a6a6-2caa17390ab3"
      },
      "execution_count": 1,
      "outputs": [
        {
          "output_type": "stream",
          "name": "stdout",
          "text": [
            "\u001b[?25l   \u001b[90m━━━━━━━━━━━━━━━━━━━━━━━━━━━━━━━━━━━━━━━━\u001b[0m \u001b[32m0.0/41.7 kB\u001b[0m \u001b[31m?\u001b[0m eta \u001b[36m-:--:--\u001b[0m\r\u001b[2K   \u001b[90m━━━━━━━━━━━━━━━━━━━━━━━━━━━━━━━━━━━━━━━━\u001b[0m \u001b[32m41.7/41.7 kB\u001b[0m \u001b[31m1.7 MB/s\u001b[0m eta \u001b[36m0:00:00\u001b[0m\n",
            "\u001b[?25h"
          ]
        }
      ]
    },
    {
      "cell_type": "code",
      "execution_count": 2,
      "metadata": {
        "id": "U-OH8cEELkFH"
      },
      "outputs": [],
      "source": [
        "from langchain.chains import LLMChain\n",
        "from langchain.prompts import PromptTemplate\n",
        "from langchain_google_genai import ChatGoogleGenerativeAI\n",
        "from google.colab import userdata"
      ]
    },
    {
      "cell_type": "code",
      "source": [
        "template = \"\"\"\n",
        "You are an HR assistant. Evaluate the resume based on the job description.\n",
        "Job Description: {job_description}\n",
        "Resume: {resume}\n",
        "\n",
        "Provide a score from 1 to 10 and give a short reason for the score.\n",
        "\"\"\"\n",
        "\n",
        "prompt = PromptTemplate(input_variables=[\"job_description\", \"resume\"], template=template)"
      ],
      "metadata": {
        "id": "3BZyTWwqMse1"
      },
      "execution_count": 7,
      "outputs": []
    },
    {
      "cell_type": "code",
      "source": [
        "llm = ChatGoogleGenerativeAI(model=\"gemini-pro\",\n",
        "                             verbose=True,\n",
        "                             temperature=0.0,\n",
        "                             google_api_key=userdata.get(\"GOOGLE_API_KEY\"))"
      ],
      "metadata": {
        "id": "Yy9x6KIIPCAl"
      },
      "execution_count": 4,
      "outputs": []
    },
    {
      "cell_type": "code",
      "source": [
        "llm_chain = LLMChain(llm=llm, prompt=prompt)"
      ],
      "metadata": {
        "id": "RnSxCHyZL2UK",
        "colab": {
          "base_uri": "https://localhost:8080/"
        },
        "outputId": "3b5751d4-4a26-4f87-852c-7edcd2493027"
      },
      "execution_count": 8,
      "outputs": [
        {
          "output_type": "stream",
          "name": "stderr",
          "text": [
            "<ipython-input-8-8a5533dae036>:1: LangChainDeprecationWarning: The class `LLMChain` was deprecated in LangChain 0.1.17 and will be removed in 1.0. Use :meth:`~RunnableSequence, e.g., `prompt | llm`` instead.\n",
            "  llm_chain = LLMChain(llm=llm, prompt=prompt)\n"
          ]
        }
      ]
    },
    {
      "cell_type": "code",
      "source": [
        "job_description = \"\"\"\n",
        "We are looking for a software engineer with experience in Python, machine learning, and cloud computing.\n",
        "The ideal candidate will have strong problem-solving skills and the ability to work in a team environment.\n",
        "\"\"\"\n",
        "\n",
        "resume = \"\"\"\n",
        "Experienced software engineer with 3 years of experience in Python and machine learning.\n",
        "Proficient in building scalable solutions and cloud-based architectures.\n",
        "\"\"\"\n",
        "\n",
        "result = llm_chain.invoke({\"job_description\": job_description, \"resume\": resume})\n",
        "print(result)"
      ],
      "metadata": {
        "colab": {
          "base_uri": "https://localhost:8080/"
        },
        "id": "V8pekFrgN6Tl",
        "outputId": "432a0361-7125-4ad9-fcef-1070cf20fa25"
      },
      "execution_count": 9,
      "outputs": [
        {
          "output_type": "stream",
          "name": "stdout",
          "text": [
            "{'job_description': '\\nWe are looking for a software engineer with experience in Python, machine learning, and cloud computing.\\nThe ideal candidate will have strong problem-solving skills and the ability to work in a team environment.\\n', 'resume': '\\nExperienced software engineer with 3 years of experience in Python and machine learning.\\nProficient in building scalable solutions and cloud-based architectures.\\n', 'text': 'Score: 8/10\\n\\nThe resume meets most of the requirements of the job description. The candidate has experience in Python and machine learning, which are essential for the role. They also have experience in building scalable solutions and cloud-based architectures, which are desirable skills. However, the resume does not mention any experience in problem-solving or teamwork, which are also important requirements for the role. Overall, the resume is strong and the candidate is a good fit for the position.'}\n"
          ]
        }
      ]
    },
    {
      "cell_type": "markdown",
      "source": [
        "# Deprecation Part Solve\n",
        "\n"
      ],
      "metadata": {
        "id": "ktHyeJbtcVTy"
      }
    },
    {
      "cell_type": "code",
      "source": [
        "from langchain_core.runnables import RunnablePassthrough"
      ],
      "metadata": {
        "id": "ahod7gQbWaQQ"
      },
      "execution_count": null,
      "outputs": []
    },
    {
      "cell_type": "code",
      "source": [
        "chain = (\n",
        "             {\"job_description\": RunnablePassthrough(), \"resume\": RunnablePassthrough()}\n",
        "             | prompt\n",
        "        | llm\n",
        "    )"
      ],
      "metadata": {
        "id": "aCESacjBRkYM"
      },
      "execution_count": null,
      "outputs": []
    },
    {
      "cell_type": "markdown",
      "source": [
        "uses RunnablePassthrough() to pass the input and output between the prompt and the model, creating a more flexible chain."
      ],
      "metadata": {
        "id": "vNnQVtfgaEBS"
      }
    },
    {
      "cell_type": "code",
      "source": [
        "chain.invoke({\"job_description\": job_description, \"resume\": resume})"
      ],
      "metadata": {
        "colab": {
          "base_uri": "https://localhost:8080/"
        },
        "id": "6agL9aszQS1i",
        "outputId": "10e93d5b-6b17-4758-cf8d-8e9dbf723ab8"
      },
      "execution_count": null,
      "outputs": [
        {
          "output_type": "execute_result",
          "data": {
            "text/plain": [
              "AIMessage(content='Score: 8/10\\n\\nThe resume matches the job description well. The candidate has experience in Python, machine learning, and cloud computing, which are all required skills for the job. The candidate also has strong problem-solving skills and the ability to work in a team environment, which are both important for the job. The only thing that is missing from the resume is experience in building scalable solutions and cloud-based architectures, which is a preferred skill for the job. Overall, the resume is a good match for the job description and the candidate is likely to be a good fit for the position.', additional_kwargs={}, response_metadata={'prompt_feedback': {'block_reason': 0, 'safety_ratings': []}, 'finish_reason': 'STOP', 'safety_ratings': [{'category': 'HARM_CATEGORY_SEXUALLY_EXPLICIT', 'probability': 'NEGLIGIBLE', 'blocked': False}, {'category': 'HARM_CATEGORY_HATE_SPEECH', 'probability': 'NEGLIGIBLE', 'blocked': False}, {'category': 'HARM_CATEGORY_HARASSMENT', 'probability': 'NEGLIGIBLE', 'blocked': False}, {'category': 'HARM_CATEGORY_DANGEROUS_CONTENT', 'probability': 'NEGLIGIBLE', 'blocked': False}]}, id='run-240a8fb3-58e9-41af-bb72-d3811412b363-0', usage_metadata={'input_tokens': 213, 'output_tokens': 122, 'total_tokens': 335, 'input_token_details': {'cache_read': 0}})"
            ]
          },
          "metadata": {},
          "execution_count": 49
        }
      ]
    },
    {
      "cell_type": "markdown",
      "source": [
        "# Problem : Resume FIle"
      ],
      "metadata": {
        "id": "haF3ruJfcRcu"
      }
    },
    {
      "cell_type": "code",
      "source": [
        "!pip install PyMuPDF"
      ],
      "metadata": {
        "colab": {
          "base_uri": "https://localhost:8080/"
        },
        "id": "pMpmmf-8cDzM",
        "outputId": "956c6fed-6feb-482c-894d-045907d92fcd"
      },
      "execution_count": null,
      "outputs": [
        {
          "output_type": "stream",
          "name": "stdout",
          "text": [
            "Collecting PyMuPDF\n",
            "  Downloading pymupdf-1.25.3-cp39-abi3-manylinux2014_x86_64.manylinux_2_17_x86_64.whl.metadata (3.4 kB)\n",
            "Downloading pymupdf-1.25.3-cp39-abi3-manylinux2014_x86_64.manylinux_2_17_x86_64.whl (20.0 MB)\n",
            "\u001b[2K   \u001b[90m━━━━━━━━━━━━━━━━━━━━━━━━━━━━━━━━━━━━━━━━\u001b[0m \u001b[32m20.0/20.0 MB\u001b[0m \u001b[31m44.9 MB/s\u001b[0m eta \u001b[36m0:00:00\u001b[0m\n",
            "\u001b[?25hInstalling collected packages: PyMuPDF\n",
            "Successfully installed PyMuPDF-1.25.3\n"
          ]
        }
      ]
    },
    {
      "cell_type": "code",
      "source": [
        "import fitz  # PyMuPDF\n",
        "\n",
        "# Function to extract text from PDF\n",
        "def extract_text_from_pdf(pdf_path):\n",
        "    doc = fitz.open(pdf_path)\n",
        "    text = \"\"\n",
        "    for page in doc:\n",
        "        text += page.get_text()\n",
        "    return text"
      ],
      "metadata": {
        "id": "QDWas0HhQTIa"
      },
      "execution_count": null,
      "outputs": []
    },
    {
      "cell_type": "code",
      "source": [
        "pdf_path = \"/content/resume.pdf\""
      ],
      "metadata": {
        "id": "vqwGQbP5b7i0"
      },
      "execution_count": null,
      "outputs": []
    },
    {
      "cell_type": "code",
      "source": [
        "resume_text = extract_text_from_pdf(pdf_path)"
      ],
      "metadata": {
        "id": "nw6_O5P-b6zX"
      },
      "execution_count": null,
      "outputs": []
    },
    {
      "cell_type": "code",
      "source": [
        "resume_text"
      ],
      "metadata": {
        "colab": {
          "base_uri": "https://localhost:8080/",
          "height": 123
        },
        "id": "HO2Nn7NMcGBS",
        "outputId": "ecc14059-3b0b-4b1d-f898-158a3460b682"
      },
      "execution_count": null,
      "outputs": [
        {
          "output_type": "execute_result",
          "data": {
            "text/plain": [
              "'John Doe \\nEmail: john.doe@example.com | Phone: (123) 456-7890 \\nLinkedIn: linkedin.com/in/johndoe | GitHub: github.com/johndoe \\n \\nObjective \\nA highly motivated and detail-oriented software engineer with 3+ years of experience in \\nsoftware development, machine learning, and cloud computing. Seeking a challenging \\nposition to leverage my skills in Python, data analysis, and problem-solving to contribute to \\ninnovative projects. \\n \\nSkills \\nProgramming Languages: Python, JavaScript, C++ \\nTechnologies: Flask, Django, Node.js, React \\nMachine Learning: TensorFlow, Scikit-learn, Pandas, NumPy \\nCloud Computing: AWS, Google Cloud, Docker \\nVersion Control: Git, GitHub, GitLab \\nTools & Frameworks: VS Code, Jupyter, PostgreSQL, MySQL \\nProfessional Experience \\nSoftware Engineer \\nXYZ Technologies, San Francisco, CA \\nJune 2022 – Present \\n \\nDeveloped and maintained scalable web applications using Python (Flask, Django) and \\nJavaScript (React). \\nImplemented machine learning models for data analysis, recommendation systems, and \\ncustomer insights. \\nCollaborated with cross-functional teams to define technical requirements and deliver quality \\nsolutions. \\nLed cloud infrastructure setup and deployment using AWS and Docker. \\nJunior Software Developer \\nABC Solutions, San Francisco, CA \\nJanuary 2020 – May 2022 \\n \\nWorked on building and maintaining company’s internal tools using Python and JavaScript. \\nAssisted in developing RESTful APIs for backend services and improved system \\nperformance. \\nContributed to team meetings, troubleshooting, and debugging issues to ensure timely \\ndelivery. \\nEducation \\nBachelor of Science in Computer Science \\nUniversity of California, Berkeley, CA \\nGraduated: May 2019 \\n \\nRelevant coursework: Algorithms, Data Structures, Machine Learning, Cloud Computing. \\nProjects \\nAI-based Resume Screening System \\n \\nCreated a machine learning-based system that evaluates resumes based on job descriptions \\nand ranks candidates. \\nUsed NLP techniques and TensorFlow for data analysis and model training. \\nWeather App \\n \\nDeveloped a weather forecasting app using React for frontend and Python (Flask) for \\nbackend API. \\nCertifications \\nAWS Certified Solutions Architect – Associate \\nGoogle Cloud Professional Data Engineer \\nLanguages \\nEnglish (Fluent) \\nSpanish (Intermediate) \\n \\n'"
            ],
            "application/vnd.google.colaboratory.intrinsic+json": {
              "type": "string"
            }
          },
          "metadata": {},
          "execution_count": 57
        }
      ]
    },
    {
      "cell_type": "code",
      "source": [
        "chain.invoke({\"job_description\": job_description, \"resume\": resume_text})"
      ],
      "metadata": {
        "colab": {
          "base_uri": "https://localhost:8080/"
        },
        "id": "LOOF92-ZcHjC",
        "outputId": "463fda27-6eee-4d6d-bb9b-a01444bebcd4"
      },
      "execution_count": null,
      "outputs": [
        {
          "output_type": "execute_result",
          "data": {
            "text/plain": [
              "AIMessage(content=\"Score: 9/10\\n\\nThe resume is well-written and easy to read. It highlights the candidate's skills and experience in Python, machine learning, and cloud computing, which are all required for the job. The candidate also has a strong academic background and has completed several relevant projects. Overall, the resume is a good match for the job description and the candidate is likely to be a strong candidate for the position.\", additional_kwargs={}, response_metadata={'prompt_feedback': {'block_reason': 0, 'safety_ratings': []}, 'finish_reason': 'STOP', 'safety_ratings': [{'category': 'HARM_CATEGORY_SEXUALLY_EXPLICIT', 'probability': 'NEGLIGIBLE', 'blocked': False}, {'category': 'HARM_CATEGORY_HATE_SPEECH', 'probability': 'NEGLIGIBLE', 'blocked': False}, {'category': 'HARM_CATEGORY_HARASSMENT', 'probability': 'NEGLIGIBLE', 'blocked': False}, {'category': 'HARM_CATEGORY_DANGEROUS_CONTENT', 'probability': 'NEGLIGIBLE', 'blocked': False}]}, id='run-8a7c0721-97c4-415f-a007-8ad30c9dca45-0', usage_metadata={'input_tokens': 1247, 'output_tokens': 87, 'total_tokens': 1334, 'input_token_details': {'cache_read': 0}})"
            ]
          },
          "metadata": {},
          "execution_count": 58
        }
      ]
    },
    {
      "cell_type": "code",
      "source": [],
      "metadata": {
        "id": "b2zTXpFHcPce"
      },
      "execution_count": null,
      "outputs": []
    }
  ]
}