{
  "cells": [
    {
      "cell_type": "markdown",
      "metadata": {
        "id": "view-in-github",
        "colab_type": "text"
      },
      "source": [
        "<a href=\"https://colab.research.google.com/github/arshad62/1stwebpage/blob/master/04_natural_language_programming/02_ai_python_for_beginners/course3_working_with_data/Lesson_7/Lesson_7.ipynb\" target=\"_parent\"><img src=\"https://colab.research.google.com/assets/colab-badge.svg\" alt=\"Open In Colab\"/></a>"
      ]
    },
    {
      "cell_type": "markdown",
      "metadata": {
        "id": "LMC9F20tm5Hj"
      },
      "source": [
        "# Lesson 7: Creating itineraries for multiple cities"
      ]
    },
    {
      "cell_type": "markdown",
      "metadata": {
        "id": "1nND0L-hm5Hl"
      },
      "source": [
        "In this lesson, you will use everything you have seen so far to plan the perfect vacation around the world!\n",
        "\n",
        "To get started, import some helper functions:"
      ]
    },
    {
      "cell_type": "code",
      "execution_count": null,
      "metadata": {
        "height": 64,
        "id": "qPe64sUDm5Hm"
      },
      "outputs": [],
      "source": [
        "from helper_functions import print_llm_response, get_llm_response, display_table\n",
        "from IPython.display import Markdown\n",
        "import csv"
      ]
    },
    {
      "cell_type": "markdown",
      "metadata": {
        "id": "pdIbShVxm5Ho"
      },
      "source": [
        "## Reading travel itineraries from a CSV file"
      ]
    },
    {
      "cell_type": "markdown",
      "metadata": {
        "id": "MfGglxZTm5Ho"
      },
      "source": [
        "First, define a new function that reads data stored in a CSV file and returns it as a dictionary variable:"
      ]
    },
    {
      "cell_type": "code",
      "execution_count": null,
      "metadata": {
        "height": 183,
        "id": "t-isjBA7m5Ho"
      },
      "outputs": [],
      "source": [
        "def read_csv(file):\n",
        "    f = open(file, \"r\")\n",
        "\n",
        "    csv_reader = csv.DictReader(f)\n",
        "    data = []\n",
        "    for row in csv_reader:\n",
        "        data.append(row)\n",
        "    f.close()\n",
        "\n",
        "    return data"
      ]
    },
    {
      "cell_type": "markdown",
      "metadata": {
        "id": "qQEXUsBMm5Hp"
      },
      "source": [
        "Next, load itineraries from `itinerary.csv` using the function you just defined (notice how much less code this is!) and then display the table of itineraries:"
      ]
    },
    {
      "cell_type": "code",
      "execution_count": null,
      "metadata": {
        "height": 98,
        "id": "TiQp3WZdm5Hp"
      },
      "outputs": [],
      "source": [
        "# Read the itinerary.csv file\n",
        "itinerary = read_csv(\"itinerary.csv\")\n",
        "\n",
        "# Display the itinerary\n",
        "display_table(itinerary)"
      ]
    },
    {
      "cell_type": "markdown",
      "metadata": {
        "id": "9UFLOaPym5Hp"
      },
      "source": [
        "## Reading restaurant information from food journal entries"
      ]
    },
    {
      "cell_type": "markdown",
      "metadata": {
        "id": "akEa0vxem5Hq"
      },
      "source": [
        "Now create a new function called `read_journal` that reads in the contents of a plain text file with '.txt' extension and stores it into a string variable:"
      ]
    },
    {
      "cell_type": "code",
      "execution_count": null,
      "metadata": {
        "height": 149,
        "id": "En7bJG3mm5Hq"
      },
      "outputs": [],
      "source": [
        "# The function called 'read_journal'\n",
        "def read_journal(journal_file):\n",
        "    f = open(journal_file, \"r\")\n",
        "    journal = f.read()\n",
        "    f.close()\n",
        "\n",
        "    # Return the journal content\n",
        "    return journal"
      ]
    },
    {
      "cell_type": "markdown",
      "metadata": {
        "id": "EYb_JiU1m5Hr"
      },
      "source": [
        "Note that you used this function in an earlier lesson - now you know how it works!\n",
        "\n",
        "You can now use the `read_journal` function to read in a food journal file - let's start with Sydney:"
      ]
    },
    {
      "cell_type": "code",
      "execution_count": null,
      "metadata": {
        "height": 64,
        "id": "6LhZxo7um5Hr"
      },
      "outputs": [],
      "source": [
        "journal = read_journal(\"sydney.txt\")\n",
        "\n",
        "print(journal)"
      ]
    },
    {
      "cell_type": "markdown",
      "metadata": {
        "id": "ga3BhyJOm5Hr"
      },
      "source": [
        "Write a prompt that extracts restaurant and specialty dish information from the journal text and stores it in CSV format:"
      ]
    },
    {
      "cell_type": "code",
      "execution_count": null,
      "metadata": {
        "height": 319,
        "id": "nJEiedwLm5Hs"
      },
      "outputs": [],
      "source": [
        "# Write the prompt\n",
        "prompt = f\"\"\"Please extract a comprehensive list of the restaurants\n",
        "and their respective specialties mentioned in the following journal entry.\n",
        "Ensure that each restaurant name is accurately identified and listed.\n",
        "Provide your answer in CSV format, ready to save.\n",
        "Exclude the \"```csv\" declaration, don't add spaces after the comma, include column headers.\n",
        "\n",
        "Format:\n",
        "Restaurant, Specialty\n",
        "Res_1, Sp_1\n",
        "...\n",
        "\n",
        "Journal entry:\n",
        "{journal}\n",
        "\"\"\"\n",
        "\n",
        "# Print the prompt\n",
        "print_llm_response(prompt)"
      ]
    },
    {
      "cell_type": "markdown",
      "metadata": {
        "id": "R06vcUHrm5Hs"
      },
      "source": [
        "Read in restaurant information from `Sydney.csv` file that was created for you and display it using the `display_table` function:"
      ]
    },
    {
      "cell_type": "code",
      "execution_count": null,
      "metadata": {
        "height": 81,
        "id": "TRwuNHT-m5Hs"
      },
      "outputs": [],
      "source": [
        "# Use the read_csv function\n",
        "sydney_restaurants = read_csv(\"Sydney.csv\")\n",
        "\n",
        "display_table(sydney_restaurants)"
      ]
    },
    {
      "cell_type": "markdown",
      "metadata": {
        "id": "78XIeF8km5Hs"
      },
      "source": [
        "## Creating detailed itineraries with restaurant suggestions"
      ]
    },
    {
      "cell_type": "markdown",
      "metadata": {
        "id": "KX22gfsNm5Ht"
      },
      "source": [
        "In this section, you'll combine the data in the journal and the itinerary to create a detailed plan for your visit to Sydney.\n",
        "\n",
        "To access Sydney's data in the ```itinerary``` list, you have to use index '6' since Sydney is the seventh trip destination."
      ]
    },
    {
      "cell_type": "code",
      "execution_count": null,
      "metadata": {
        "height": 47,
        "id": "p1iWTPGGm5Ht"
      },
      "outputs": [],
      "source": [
        "# Select Sydney from the 'itinerary' list\n",
        "trip_stop = itinerary[6]"
      ]
    },
    {
      "cell_type": "markdown",
      "metadata": {
        "id": "qdqOImq1m5Ht"
      },
      "source": [
        "Next, store all the information from that ```trip_stop```, as well as the restaurant information you read in above, in separate variables:"
      ]
    },
    {
      "cell_type": "code",
      "execution_count": null,
      "metadata": {
        "height": 98,
        "id": "SZgW7fkPm5Ht"
      },
      "outputs": [],
      "source": [
        "city = trip_stop[\"City\"]\n",
        "country = trip_stop[\"Country\"]\n",
        "arrival = trip_stop[\"Arrival\"]\n",
        "departure = trip_stop[\"Departure\"]\n",
        "restaurants = sydney_restaurants"
      ]
    },
    {
      "cell_type": "markdown",
      "metadata": {
        "id": "1JXGzPt-m5Hu"
      },
      "source": [
        "Pass all of this information in a detailed prompt to an LLM to create a detailed itinerary:"
      ]
    },
    {
      "cell_type": "code",
      "execution_count": null,
      "metadata": {
        "height": 319,
        "id": "v4RoQg42m5Hu"
      },
      "outputs": [],
      "source": [
        "# Write the prompt\n",
        "prompt = f\"\"\"I will visit {city}, {country} from {arrival} to {departure}.\n",
        "Create a daily itinerary with detailed activities.\n",
        "Designate times for breakfast, lunch, and dinner.\n",
        "\n",
        "I want to visit the restaurants listed in the restaurant dictionary\n",
        "without repeating any place. Make sure to mention the specialty\n",
        "that I should try at each of them.\n",
        "\n",
        "Restaurant dictionary:\n",
        "{restaurants}\n",
        "\n",
        "\"\"\"\n",
        "\n",
        "response = get_llm_response(prompt)\n",
        "\n",
        "# Print the LLM response in Markdown format\n",
        "display(Markdown(response))"
      ]
    },
    {
      "cell_type": "markdown",
      "metadata": {
        "id": "AlhmUFiem5Hu"
      },
      "source": [
        "## Create detailed itineraries for all the cities in your trip"
      ]
    },
    {
      "cell_type": "markdown",
      "metadata": {
        "id": "-v2lL8vDm5Hv"
      },
      "source": [
        "You'll use a 'for' loop to iterate over all the cities in the ```itinerary``` list and create a detailed itinerary for each location:"
      ]
    },
    {
      "cell_type": "code",
      "execution_count": null,
      "metadata": {
        "height": 472,
        "id": "tARiEqGZm5Hv"
      },
      "outputs": [],
      "source": [
        "# Create an empty dictionary to store the itinerary for each destination\n",
        "detailed_itinerary = {}\n",
        "\n",
        " # Use the 'for' loop over the 'itinerary' list\n",
        "for trip_stop in itinerary:\n",
        "    city = trip_stop[\"City\"]\n",
        "    country = trip_stop[\"Country\"]\n",
        "    arrival = trip_stop[\"Arrival\"]\n",
        "    departure = trip_stop[\"Departure\"]\n",
        "\n",
        "    rest_dict = read_csv(f\"{city}.csv\")\n",
        "\n",
        "    print(f\"Creating detailed itinerary for {city}, {country}.\")\n",
        "\n",
        "    prompt = f\"\"\"I will visit {city}, {country} from {arrival} to {departure}.\n",
        "    Create a daily itinerary with detailed activities.\n",
        "    Designate times for breakfast, lunch, and dinner.\n",
        "\n",
        "    I want to visit the restaurants listed in the restaurant dictionary without repeating any place.\n",
        "    Make sure to mention the specialty that I should try at each of them.\n",
        "\n",
        "    Restaurant dictionary:\n",
        "    {rest_dict}\n",
        "\n",
        "    \"\"\"\n",
        "    # Store the detailed itinerary for the city to the dictionary\n",
        "    detailed_itinerary[city] = get_llm_response(prompt)"
      ]
    },
    {
      "cell_type": "markdown",
      "metadata": {
        "id": "5y6DRw-Vm5Hv"
      },
      "source": [
        "You can now access the detailed itinerary for any city by passing in the city name as the key to the `detailed_itinerary` dictionary:"
      ]
    },
    {
      "cell_type": "code",
      "execution_count": null,
      "metadata": {
        "height": 47,
        "id": "IE75fF6wm5Hw"
      },
      "outputs": [],
      "source": [
        "# Print in Markdown format\n",
        "display(Markdown(detailed_itinerary[\"Tokyo\"]))"
      ]
    },
    {
      "cell_type": "markdown",
      "metadata": {
        "id": "YnII7Qc9m5Hw"
      },
      "source": [
        "## Try it yourself!\n",
        "\n",
        "Update the code below to check out the itinerary for another city.\n",
        "\n",
        "**Options:**\n",
        "- Cape Town\n",
        "- Istanbul\n",
        "- New York\n",
        "- Paris\n",
        "- Rio de Janeiro\n",
        "- Sydney\n",
        "- Tokyo"
      ]
    },
    {
      "cell_type": "code",
      "execution_count": null,
      "metadata": {
        "height": 47,
        "id": "ELLsqvHVm5Hw"
      },
      "outputs": [],
      "source": [
        "# Update the next line of code to view a different city\n",
        "display(Markdown(detailed_itinerary[\"YOUR CITY HERE\"]))"
      ]
    },
    {
      "cell_type": "markdown",
      "metadata": {
        "id": "Bjmi-S-Bm5Hw"
      },
      "source": [
        "## Congratulations on completing this course! 🎉🎉🎉\n",
        "\n",
        "Please go onto the fourth and final course of this sequence where you'll learn how to extend the capabilities of Python using code written by other programmers!"
      ]
    }
  ],
  "metadata": {
    "kernelspec": {
      "display_name": "Python 3 (ipykernel)",
      "language": "python",
      "name": "python3"
    },
    "language_info": {
      "codemirror_mode": {
        "name": "ipython",
        "version": 3
      },
      "file_extension": ".py",
      "mimetype": "text/x-python",
      "name": "python",
      "nbconvert_exporter": "python",
      "pygments_lexer": "ipython3",
      "version": "3.9.19"
    },
    "colab": {
      "provenance": [],
      "include_colab_link": true
    }
  },
  "nbformat": 4,
  "nbformat_minor": 0
}