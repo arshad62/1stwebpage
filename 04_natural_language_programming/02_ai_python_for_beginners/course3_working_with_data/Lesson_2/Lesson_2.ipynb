{
  "cells": [
    {
      "cell_type": "markdown",
      "metadata": {
        "id": "view-in-github",
        "colab_type": "text"
      },
      "source": [
        "<a href=\"https://colab.research.google.com/github/arshad62/1stwebpage/blob/master/04_natural_language_programming/02_ai_python_for_beginners/course3_working_with_data/Lesson_2/Lesson_2.ipynb\" target=\"_parent\"><img src=\"https://colab.research.google.com/assets/colab-badge.svg\" alt=\"Open In Colab\"/></a>"
      ]
    },
    {
      "cell_type": "markdown",
      "metadata": {
        "id": "FbWoGOis4KoG"
      },
      "source": [
        "# Lesson 2: Loading and using your own data"
      ]
    },
    {
      "cell_type": "markdown",
      "metadata": {
        "id": "5N5RfAVMmVc1"
      },
      "source": [
        "In this notebook, you will get a chance to work with one of your own text files (.txt).\n",
        "If you don't have any, you can create one by copying and pasting text into Notepad, MS Word, or Google Docs and saving it as a .txt file."
      ]
    },
    {
      "cell_type": "markdown",
      "metadata": {
        "id": "zOjsZmN5mVc2"
      },
      "source": [
        "## Reading files in the working directory\n",
        "\n",
        "To access data you have stored in files and folders on your computer, you need to tell Python where to find them. By default, Python will always look first for files in the folder your Jupyter notebook is in."
      ]
    },
    {
      "cell_type": "markdown",
      "metadata": {
        "id": "o0WSeB7LmVc2"
      },
      "source": [
        "<p style=\"background-color:#F5C780; padding:15px\"> 🤖 <b>Use the Chatbot</b>:\n",
        "    <br><br>\n",
        "    What is the folder called where Python looks first for files, and which folder is that by default?\n",
        "</p>"
      ]
    },
    {
      "cell_type": "markdown",
      "metadata": {
        "id": "Z25kg_1cmVc3"
      },
      "source": [
        "* Load some functions to use in this notebook (note there are some new ones here, and they will be explained as you use them):"
      ]
    },
    {
      "cell_type": "code",
      "execution_count": null,
      "metadata": {
        "height": 30,
        "id": "dI5VXl05mVc3"
      },
      "outputs": [],
      "source": [
        "from helper_functions import upload_txt_file, list_files_in_directory, print_llm_response"
      ]
    },
    {
      "cell_type": "markdown",
      "metadata": {
        "id": "oaVv-wDlmVc4"
      },
      "source": [
        "* Use the 'list_files_in_directory' function to list out the files in the current working directory:"
      ]
    },
    {
      "cell_type": "code",
      "execution_count": null,
      "metadata": {
        "height": 30,
        "id": "HC2OZmo_mVc4"
      },
      "outputs": [],
      "source": [
        "list_files_in_directory()"
      ]
    },
    {
      "cell_type": "markdown",
      "metadata": {
        "id": "MQ1FMLLsmVc5"
      },
      "source": [
        "The function lists all of the files that are in the same folder as the Jupyter notebook for this lesson.\n",
        "\n",
        "Jupyter notebooks have a **.ipynb** extension and Python files have a **.py** extension.\n",
        "\n",
        "The Python file here is the ```helper_function.py``` file, which it is loaded with some pre-defined functions. You will learn more about this file and how it works in Course 4.\n",
        "\n",
        "There are also two plain text files, `email.txt` and `recipe.txt`. Let's take a look at those files:"
      ]
    },
    {
      "cell_type": "code",
      "execution_count": null,
      "metadata": {
        "height": 115,
        "id": "kHNWPvlqmVc5"
      },
      "outputs": [],
      "source": [
        "# Open the email.txt file and print its contents\n",
        "f = open(\"email.txt\", \"r\")\n",
        "email = f.read()\n",
        "f.close()\n",
        "\n",
        "print(email)"
      ]
    },
    {
      "cell_type": "code",
      "execution_count": null,
      "metadata": {
        "height": 115,
        "id": "I6d6YESEmVc6"
      },
      "outputs": [],
      "source": [
        "# Open the recipe.txt file and print its contents\n",
        "f = open(\"recipe.txt\", \"r\")\n",
        "recipe = f.read()\n",
        "f.close()\n",
        "\n",
        "print(recipe)"
      ]
    },
    {
      "cell_type": "markdown",
      "metadata": {
        "id": "yZsLM1KkmVc6"
      },
      "source": [
        "## Uploading and reading your own text files"
      ]
    },
    {
      "cell_type": "markdown",
      "metadata": {
        "id": "jrbw4BHGmVc6"
      },
      "source": [
        "You can upload a text file to this folder using the button that appears after running the next cell.\n",
        "\n",
        "Here are some notes about the file you can upload...\n",
        "* It can be any plain text file with a .txt extension.\n",
        "* Make sure the file size doesn't exceed 3 KB (about 3000 characters)\n",
        "* You can create a plain text file by copying and pasting text into a text editor on your computer like Notepad (windows) or TextEdit (mac).\n",
        "* You can also use a Google Doc and download it as a plain text '.txt' file.\n",
        "* **Don't upload anything confidential!**\n",
        "\n",
        "Run the next cell to open the upload file button:\n"
      ]
    },
    {
      "cell_type": "code",
      "execution_count": null,
      "metadata": {
        "height": 30,
        "id": "rZASXwtAmVc6"
      },
      "outputs": [],
      "source": [
        "upload_txt_file()"
      ]
    },
    {
      "cell_type": "markdown",
      "metadata": {
        "id": "8VdkO7uKmVc7"
      },
      "source": [
        "* See that your file is now in the same folder with the other files you listed above:"
      ]
    },
    {
      "cell_type": "code",
      "execution_count": null,
      "metadata": {
        "height": 47,
        "id": "51A3KOBLmVc7"
      },
      "outputs": [],
      "source": [
        "# Print the list of the files inside this folder\n",
        "list_files_in_directory()"
      ]
    },
    {
      "cell_type": "markdown",
      "metadata": {
        "id": "qnBNmVtgmVc7"
      },
      "source": [
        "* Open and print your own file content."
      ]
    },
    {
      "cell_type": "code",
      "execution_count": null,
      "metadata": {
        "height": 98,
        "id": "NxC0JfcTmVc7"
      },
      "outputs": [],
      "source": [
        "# Change the file name on the next line to the one you uploaded.\n",
        "# Make sure you keep the double quotation marks around the file name!\n",
        "f = open(\"your_file.txt\", \"r\")\n",
        "your_file_content = f.read()\n",
        "f.close()"
      ]
    },
    {
      "cell_type": "code",
      "execution_count": null,
      "metadata": {
        "height": 30,
        "id": "0SDAFWwXmVc7"
      },
      "outputs": [],
      "source": [
        "print(your_file_content)"
      ]
    },
    {
      "cell_type": "markdown",
      "metadata": {
        "id": "O5PSUnKmmVc8"
      },
      "source": [
        "## Use AI to summarize your file contents"
      ]
    },
    {
      "cell_type": "markdown",
      "metadata": {
        "id": "8Cc3RMjpmVc8"
      },
      "source": [
        "* Ask an LLM to create a summary of your file content"
      ]
    },
    {
      "cell_type": "code",
      "execution_count": null,
      "metadata": {
        "height": 98,
        "id": "IK7wouMtmVc8"
      },
      "outputs": [],
      "source": [
        "prompt = f\"\"\"Summarize the content from the following text\n",
        "in at most two sentences.\n",
        "\n",
        "Text:\n",
        "{your_file_content}\"\"\""
      ]
    },
    {
      "cell_type": "markdown",
      "metadata": {
        "id": "11K2QfpYmVc8"
      },
      "source": [
        "* Print out the prompt - notice that it now contains the content of your file:"
      ]
    },
    {
      "cell_type": "code",
      "execution_count": null,
      "metadata": {
        "height": 30,
        "id": "HL100Tm9mVc8"
      },
      "outputs": [],
      "source": [
        "print(prompt)"
      ]
    },
    {
      "cell_type": "markdown",
      "metadata": {
        "id": "8YUkl-E7mVc9"
      },
      "source": [
        "* Print out the response from the LLM"
      ]
    },
    {
      "cell_type": "code",
      "execution_count": null,
      "metadata": {
        "height": 30,
        "id": "s9JTvXP8mVc9"
      },
      "outputs": [],
      "source": [
        "print_llm_response(prompt)"
      ]
    },
    {
      "cell_type": "markdown",
      "metadata": {
        "id": "MgFOpWj4mVc9"
      },
      "source": [
        "## Extra Practice\n",
        "\n",
        "Try the exercises below to practice some of the techniques you learned in this lesson.\n",
        "\n",
        "### Exercise 1\n",
        "\n",
        "Modify the prompt below to ask the LLM a different question about your text data."
      ]
    },
    {
      "cell_type": "code",
      "execution_count": null,
      "metadata": {
        "height": 149,
        "id": "MSCF8DMRmVc9"
      },
      "outputs": [],
      "source": [
        "# Modify the prompt below to ask the LLM a different question about\n",
        "# your data\n",
        "prompt = f\"\"\"ADD YOUR INSTRUCTION HERE.\n",
        "\n",
        "Text:\n",
        "{your_file_content}\"\"\"\n",
        "\n",
        "print_llm_response(prompt)"
      ]
    },
    {
      "cell_type": "markdown",
      "metadata": {
        "id": "ymcR5BAhmVc-"
      },
      "source": [
        "### Exercise 2\n",
        "\n",
        "Modify the prompt to use the data that you loaded in from `recipe.txt`.\n",
        "\n",
        "**Hint:** look back throughout the notebook for the variable you stored the recipe data in."
      ]
    },
    {
      "cell_type": "code",
      "execution_count": null,
      "metadata": {
        "height": 183,
        "id": "LWZvfj3jmVc-"
      },
      "outputs": [],
      "source": [
        "# Modify the prompt to use the data that you loaded in from recipe.txt\n",
        "# Hint: look back throughout the notebook for the variable you stored\n",
        "# the recipe data in.\n",
        "prompt = f\"\"\"Identify all of the cooking techniques used in the\n",
        "following recipe:\n",
        "\n",
        "Recipe:\n",
        "{your_file_content}\"\"\"\n",
        "\n",
        "print_llm_response(prompt)"
      ]
    }
  ],
  "metadata": {
    "colab": {
      "provenance": [],
      "include_colab_link": true
    },
    "kernelspec": {
      "display_name": "Python 3 (ipykernel)",
      "language": "python",
      "name": "python3"
    },
    "language_info": {
      "codemirror_mode": {
        "name": "ipython",
        "version": 3
      },
      "file_extension": ".py",
      "mimetype": "text/x-python",
      "name": "python",
      "nbconvert_exporter": "python",
      "pygments_lexer": "ipython3",
      "version": "3.9.19"
    }
  },
  "nbformat": 4,
  "nbformat_minor": 0
}