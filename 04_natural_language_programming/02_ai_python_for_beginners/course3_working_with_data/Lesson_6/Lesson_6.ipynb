{
  "cells": [
    {
      "cell_type": "markdown",
      "metadata": {
        "id": "view-in-github",
        "colab_type": "text"
      },
      "source": [
        "<a href=\"https://colab.research.google.com/github/arshad62/1stwebpage/blob/master/04_natural_language_programming/02_ai_python_for_beginners/course3_working_with_data/Lesson_6/Lesson_6.ipynb\" target=\"_parent\"><img src=\"https://colab.research.google.com/assets/colab-badge.svg\" alt=\"Open In Colab\"/></a>"
      ]
    },
    {
      "cell_type": "markdown",
      "metadata": {
        "id": "D4qWck-ymy2l"
      },
      "source": [
        "# Lesson 6: Turning code blocks into reusable functions"
      ]
    },
    {
      "cell_type": "markdown",
      "metadata": {
        "id": "I4NObLXRmy2n"
      },
      "source": [
        "Through this and the previous courses, you have been using several different **functions**.\n",
        "\n",
        "In this lesson, you'll learn how to create your own, and see how they can help you avoid writing lines of code over and over again.\n",
        "\n",
        "Let's start by importing the helper functions you'll use:"
      ]
    },
    {
      "cell_type": "code",
      "execution_count": null,
      "metadata": {
        "height": 47,
        "id": "zUWVg9Zvmy2o"
      },
      "outputs": [],
      "source": [
        "from helper_functions import print_llm_response\n",
        "from IPython.display import Markdown, display"
      ]
    },
    {
      "cell_type": "markdown",
      "metadata": {
        "id": "bHrjcoLMmy2q"
      },
      "source": [
        "## Revisiting functions you've already used\n",
        "\n",
        "Here are some of the functions you've encountered so far in these courses.\n",
        "\n",
        "The `print` function displays data to the screen:"
      ]
    },
    {
      "cell_type": "code",
      "execution_count": null,
      "metadata": {
        "height": 30,
        "id": "98V9evemmy2q"
      },
      "outputs": [],
      "source": [
        "print(\"Hello World!\")"
      ]
    },
    {
      "cell_type": "markdown",
      "metadata": {
        "id": "mMk62J01my2q"
      },
      "source": [
        "The `len` function returns the number of items, or elements, in a list:"
      ]
    },
    {
      "cell_type": "code",
      "execution_count": null,
      "metadata": {
        "height": 98,
        "id": "KWKZt9Gemy2r"
      },
      "outputs": [],
      "source": [
        "# Create a list of friends\n",
        "friends_list = [\"Tommy\", \"Isabel\", \"Daniel\", \"Otto\"]\n",
        "\n",
        "# Return the number of friends in the list\n",
        "len(friends_list)"
      ]
    },
    {
      "cell_type": "markdown",
      "metadata": {
        "id": "A9808x18my2r"
      },
      "source": [
        "And you've been using a special helper function called `print_llm_response` to pass prompts to an LLM and display the response to screen:"
      ]
    },
    {
      "cell_type": "code",
      "execution_count": null,
      "metadata": {
        "height": 47,
        "id": "SOSxu3z-my2r"
      },
      "outputs": [],
      "source": [
        "# The 'print_llm_response' function is in the helper_functions.py file\n",
        "print_llm_response(\"What is the capital of France\")"
      ]
    },
    {
      "cell_type": "markdown",
      "metadata": {
        "id": "XKKkJ7-Lmy2s"
      },
      "source": [
        "## Defining your own functions"
      ]
    },
    {
      "cell_type": "markdown",
      "metadata": {
        "id": "rtDs0H4Omy2s"
      },
      "source": [
        "Defining functions can help you avoid typing the same code over and over.\n",
        "\n",
        "For example, to read in the text from different food journals, you'd need to repeat the following code:"
      ]
    },
    {
      "cell_type": "code",
      "execution_count": null,
      "metadata": {
        "height": 98,
        "id": "aUwITf-Mmy2s"
      },
      "outputs": [],
      "source": [
        "# read in the Cape Town journal\n",
        "f = open(\"cape_town.txt\", \"r\")\n",
        "journal_cape_town = f.read()\n",
        "f.close()\n",
        "print(journal_cape_town)"
      ]
    },
    {
      "cell_type": "code",
      "execution_count": null,
      "metadata": {
        "height": 98,
        "id": "03rdbIDomy2t"
      },
      "outputs": [],
      "source": [
        "# read in the Paris journal\n",
        "f = open(\"paris.txt\", \"r\")\n",
        "journal_paris = f.read()\n",
        "f.close()\n",
        "print(journal_paris)"
      ]
    },
    {
      "cell_type": "markdown",
      "metadata": {
        "id": "R_k81Lsxmy2t"
      },
      "source": [
        "If you need to load multiple files, you'll have to repeat these three lines for each file.\n",
        "\n",
        "To avoid this, you can instead define a **function** to read in a file and store the contents to a variable:"
      ]
    },
    {
      "cell_type": "code",
      "execution_count": null,
      "metadata": {
        "height": 98,
        "id": "0aJqQ9NWmy2t"
      },
      "outputs": [],
      "source": [
        "def print_journal(file):\n",
        "    f = open(file, \"r\")\n",
        "    journal = f.read()\n",
        "    f.close()\n",
        "    print(journal)"
      ]
    },
    {
      "cell_type": "markdown",
      "metadata": {
        "id": "2zzYm9h7my2t"
      },
      "source": [
        "Now that you have created this function, you can reuse it to read in different files:"
      ]
    },
    {
      "cell_type": "code",
      "execution_count": null,
      "metadata": {
        "height": 47,
        "id": "dv_VUjQbmy2u"
      },
      "outputs": [],
      "source": [
        "# Read in the Sydney journal\n",
        "print_journal(\"sydney.txt\")"
      ]
    },
    {
      "cell_type": "markdown",
      "metadata": {
        "id": "dTrxc0yPmy2u"
      },
      "source": [
        "You can define a function that **returns** a variable, rather than printing to screen:"
      ]
    },
    {
      "cell_type": "code",
      "execution_count": null,
      "metadata": {
        "height": 115,
        "id": "UU3-M_9emy2u"
      },
      "outputs": [],
      "source": [
        "def read_journal(file):\n",
        "    f = open(file, \"r\")\n",
        "    journal = f.read()\n",
        "    f.close()\n",
        "    # print(journal)\n",
        "    return journal"
      ]
    },
    {
      "cell_type": "markdown",
      "metadata": {
        "id": "8Tsa2ewxmy2u"
      },
      "source": [
        "Use the `read_journal` function to store the contents of the Tokyo journal in a variable:"
      ]
    },
    {
      "cell_type": "code",
      "execution_count": null,
      "metadata": {
        "height": 30,
        "id": "BSqtD4zumy2u"
      },
      "outputs": [],
      "source": [
        "journal_tokyo = read_journal(\"tokyo.txt\")"
      ]
    },
    {
      "cell_type": "markdown",
      "metadata": {
        "id": "Py-8uhiXmy2v"
      },
      "source": [
        "Print out the Tokyo journal content:"
      ]
    },
    {
      "cell_type": "code",
      "execution_count": null,
      "metadata": {
        "height": 30,
        "id": "z9qpaBr_my2v"
      },
      "outputs": [],
      "source": [
        "print(journal_tokyo)"
      ]
    },
    {
      "cell_type": "markdown",
      "metadata": {
        "id": "QzElOFCqmy2v"
      },
      "source": [
        "Print out the length of the journal - the value is the number of individual characters in the string variable `journal_tokyo`:"
      ]
    },
    {
      "cell_type": "code",
      "execution_count": null,
      "metadata": {
        "height": 30,
        "id": "grvTn7FHmy2v"
      },
      "outputs": [],
      "source": [
        "print(len(journal_tokyo))"
      ]
    },
    {
      "cell_type": "markdown",
      "metadata": {
        "id": "cqIyBDCJmy2v"
      },
      "source": [
        "## Parameters in functions"
      ]
    },
    {
      "cell_type": "markdown",
      "metadata": {
        "id": "cVTkp1pKmy2v"
      },
      "source": [
        "Previously, you saw how to use Python to carry out calculations that convert degrees Fahrenheit to degrees Celsius:"
      ]
    },
    {
      "cell_type": "code",
      "execution_count": null,
      "metadata": {
        "height": 132,
        "id": "D838kkqLmy2v"
      },
      "outputs": [],
      "source": [
        "# Value of temperature in Fahrenheit\n",
        "fahrenheit = 72\n",
        "# Calculation for getting the temperature in Celsius\n",
        "celsius = (fahrenheit - 32) * 5 / 9\n",
        "\n",
        "# Print the results\n",
        "print(f\"{fahrenheit}°F is equivalent to {celsius:.2f}°C\")"
      ]
    },
    {
      "cell_type": "markdown",
      "metadata": {
        "id": "OlW0_gevmy2w"
      },
      "source": [
        "If you want to convert another temperature, you have to write the code again, replacing the value for the ```fahrenheit``` variable with the new temperature to convert:"
      ]
    },
    {
      "cell_type": "code",
      "execution_count": null,
      "metadata": {
        "height": 132,
        "id": "ELuUUR-Xmy2w"
      },
      "outputs": [],
      "source": [
        "# Value of temperature in Fahrenheit\n",
        "fahrenheit = 68\n",
        "# Calculation for getting the temperature in Celsius\n",
        "celsius = (fahrenheit - 32) * 5 / 9\n",
        "\n",
        "# Print the results\n",
        "print(f\"{fahrenheit}°F is equivalent to {celsius:.2f}°C\")"
      ]
    },
    {
      "cell_type": "markdown",
      "metadata": {
        "id": "tAwkjuH0my2w"
      },
      "source": [
        "You can do this as many times as you need"
      ]
    },
    {
      "cell_type": "code",
      "execution_count": null,
      "metadata": {
        "height": 132,
        "id": "SwqgouzGmy2w"
      },
      "outputs": [],
      "source": [
        "# Value of temperature in Fahrenheit\n",
        "fahrenheit = 76\n",
        "# Calculation for getting the temperature in Celsius\n",
        "celsius = (fahrenheit - 32) * 5 / 9\n",
        "\n",
        "# Print the results\n",
        "print(f\"{fahrenheit}°F is equivalent to {celsius:.2f}°C\")"
      ]
    },
    {
      "cell_type": "markdown",
      "metadata": {
        "id": "ofYtu93Umy2x"
      },
      "source": [
        "Again, this is a lot of typing! You can avoid this by writing a function for converting Fahrenheit to Celsius. Here is the code:"
      ]
    },
    {
      "cell_type": "code",
      "execution_count": null,
      "metadata": {
        "height": 98,
        "id": "V_zjZCvFmy2x"
      },
      "outputs": [],
      "source": [
        "def fahrenheit_to_celsius(fahrenheit):\n",
        "    # Calculation for getting the temperature in celsius\n",
        "    celsius = (fahrenheit - 32) * 5 / 9\n",
        "    # Print the results\n",
        "    print(f\"{fahrenheit}°F is equivalent to {celsius:.2f}°C\")"
      ]
    },
    {
      "cell_type": "markdown",
      "metadata": {
        "id": "dzXjkHAymy2x"
      },
      "source": [
        "Now, instead of changing the value of the ```fahrenheit``` variable directly each time, you'll pass the desired value to the function as a ***parameter***. A parameter is a variable that is used in functions to pass in information to the function - in this case the temperature in Fahrenheit that you want to covert to Celsius."
      ]
    },
    {
      "cell_type": "markdown",
      "metadata": {
        "id": "fgnE1gGUmy2x"
      },
      "source": [
        "Let's use the ```fahrenheit_to_celsius``` function and pass in a temperature as the input parameter!"
      ]
    },
    {
      "cell_type": "code",
      "execution_count": null,
      "metadata": {
        "height": 30,
        "id": "_mRVwYeSmy2y"
      },
      "outputs": [],
      "source": [
        "fahrenheit_to_celsius(71)"
      ]
    },
    {
      "cell_type": "code",
      "execution_count": null,
      "metadata": {
        "height": 30,
        "id": "jKcBsQs2my2y"
      },
      "outputs": [],
      "source": [
        "fahrenheit_to_celsius(70)"
      ]
    },
    {
      "cell_type": "code",
      "execution_count": null,
      "metadata": {
        "height": 30,
        "id": "sbNbKe3Imy2y"
      },
      "outputs": [],
      "source": [
        "fahrenheit_to_celsius(212)"
      ]
    },
    {
      "cell_type": "markdown",
      "metadata": {
        "id": "0nLwBQMimy23"
      },
      "source": [
        "## Returning values"
      ]
    },
    {
      "cell_type": "markdown",
      "metadata": {
        "id": "2TopiUoCmy23"
      },
      "source": [
        "To be able to save the result from the temperature conversion function, you need to include a ```return``` statement.\n",
        "\n",
        "Here is a modification of the `fahrenheit_to_celsius` function that returns the converted temperature as a variable:"
      ]
    },
    {
      "cell_type": "code",
      "execution_count": null,
      "metadata": {
        "height": 115,
        "id": "_fC9HEn1my23"
      },
      "outputs": [],
      "source": [
        "def fahrenheit_to_celsius(fahrenheit):\n",
        "    celsius = (fahrenheit - 32) * 5 / 9\n",
        "    # print(f\"{fahrenheit}°F is equivalent to {celsius:.2f}°C\")\n",
        "\n",
        "    # Return the calculated value (not to print it, as before)\n",
        "    return celsius"
      ]
    },
    {
      "cell_type": "markdown",
      "metadata": {
        "id": "eW-Ypn66my23"
      },
      "source": [
        "So when you run this function, the result is stored in a variable:"
      ]
    },
    {
      "cell_type": "code",
      "execution_count": null,
      "metadata": {
        "height": 64,
        "id": "GbdFf6utmy24"
      },
      "outputs": [],
      "source": [
        "# The value of temperature in Fahrenheit is 45\n",
        "fahrenheit = 45\n",
        "celsius = fahrenheit_to_celsius(fahrenheit)"
      ]
    },
    {
      "cell_type": "markdown",
      "metadata": {
        "id": "c6wn4-a7my24"
      },
      "source": [
        "You can now print the result:"
      ]
    },
    {
      "cell_type": "code",
      "execution_count": null,
      "metadata": {
        "height": 30,
        "id": "DjWAZfU9my24"
      },
      "outputs": [],
      "source": [
        "print(celsius)"
      ]
    },
    {
      "cell_type": "markdown",
      "metadata": {
        "id": "RIH5x4sNmy24"
      },
      "source": [
        "Note that this function returns a number, in this case a `float`:"
      ]
    },
    {
      "cell_type": "code",
      "execution_count": null,
      "metadata": {
        "height": 30,
        "id": "cMeRRoD2my24"
      },
      "outputs": [],
      "source": [
        "type(celsius)"
      ]
    },
    {
      "cell_type": "markdown",
      "metadata": {
        "id": "-ls-XHPVmy25"
      },
      "source": [
        "## Extra practice\n",
        "\n",
        "Try the exercises below to practice what you have learned in this lesson!\n",
        "\n",
        "### Exercise 1\n",
        "\n",
        "Complete the code below to create a function that converts Celsius to Fahrenheit and displays the result to the screen.\n",
        "\n",
        "**Hint:** Use the code from Fahrenheit to Celsius to help you!\n"
      ]
    },
    {
      "cell_type": "code",
      "execution_count": null,
      "metadata": {
        "height": 132,
        "id": "TIMN9tvSmy25"
      },
      "outputs": [],
      "source": [
        "\n",
        "def celsius_to_fahrenheit():\n",
        "    # WRITE YOUR CODE HERE\n",
        "\n",
        "celsius_to_fahrenheit(0)   # Should print 32\n",
        "celsius_to_fahrenheit(100) # Should print 212\n",
        "celsius_to_fahrenheit(13)  # Should print 55.4"
      ]
    },
    {
      "cell_type": "markdown",
      "metadata": {
        "id": "9BMU5ecCmy25"
      },
      "source": [
        "### Exercise 2\n",
        "\n",
        "Write a function below that converts a length in **meters** to a length in **feet**, then returns the result.\n",
        "\n",
        "Ask the chatbot if you're not certain of the equation!\n"
      ]
    },
    {
      "cell_type": "code",
      "execution_count": null,
      "metadata": {
        "height": 115,
        "id": "MzybcHeVmy25"
      },
      "outputs": [],
      "source": [
        "\n",
        "def meters_to_feet:\n",
        "    # WRITE YOUR CODE HERE\n",
        "\n",
        "print(meters_to_feet(10)) # Should print 32.8084\n",
        "print(meters_to_feet(0.7)) # Should print 2.29659"
      ]
    },
    {
      "cell_type": "markdown",
      "metadata": {
        "id": "bBnPoBzfmy25"
      },
      "source": [
        "### Challenge exercise!\n",
        "\n",
        "Write a function that takes in a **filename** as a parameter, uses an LLM to create a three bullet point summary, and returns the bullets as a string.\n",
        "\n",
        "Use the chatbot for help when you need it!"
      ]
    },
    {
      "cell_type": "code",
      "execution_count": null,
      "metadata": {
        "height": 302,
        "id": "KQxny93xmy26"
      },
      "outputs": [],
      "source": [
        "\n",
        "\n",
        "def create_bullet_points(file):\n",
        "    # Complete code below to read in the file and store the contents as a string\n",
        "    f = open(file, \"r\")\n",
        "    file_contents =\n",
        "\n",
        "    # Write a prompt and pass to an LLM\n",
        "    prompt = f\"\"\"YOUR PROMPT HERE\n",
        "    \"\"\"\n",
        "    bullets = print_llm_response() # Don't forget to add your prompt!\n",
        "\n",
        "    # Return the bullet points\n",
        "    return bullets\n",
        "\n",
        "# This line of code runs your function for istanbul.txt\n",
        "create_bullet_points(\"istanbul.txt\")"
      ]
    }
  ],
  "metadata": {
    "kernelspec": {
      "display_name": "Python 3 (ipykernel)",
      "language": "python",
      "name": "python3"
    },
    "language_info": {
      "codemirror_mode": {
        "name": "ipython",
        "version": 3
      },
      "file_extension": ".py",
      "mimetype": "text/x-python",
      "name": "python",
      "nbconvert_exporter": "python",
      "pygments_lexer": "ipython3",
      "version": "3.9.19"
    },
    "colab": {
      "provenance": [],
      "include_colab_link": true
    }
  },
  "nbformat": 4,
  "nbformat_minor": 0
}