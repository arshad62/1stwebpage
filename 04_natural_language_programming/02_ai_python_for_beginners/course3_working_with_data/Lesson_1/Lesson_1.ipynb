{
  "cells": [
    {
      "cell_type": "markdown",
      "metadata": {
        "id": "view-in-github",
        "colab_type": "text"
      },
      "source": [
        "<a href=\"https://colab.research.google.com/github/arshad62/1stwebpage/blob/master/04_natural_language_programming/02_ai_python_for_beginners/course3_working_with_data/Lesson_1/Lesson_1.ipynb\" target=\"_parent\"><img src=\"https://colab.research.google.com/assets/colab-badge.svg\" alt=\"Open In Colab\"/></a>"
      ]
    },
    {
      "cell_type": "markdown",
      "metadata": {
        "id": "WMGxBP-yQoCl"
      },
      "source": [
        "# Lesson 1: Using files in Python\n",
        "\n",
        "Hit the play button on the video next to this Jupyter notebook to start the video and follow along as Andrew explains how to work through this lesson.\n",
        "\n",
        "So far, if you have taken the previous courses in this sequence,\n",
        "* You have worked with data that is created and assigned to variables within Jupyter notebooks.\n",
        "* You have created multi-line strings.\n",
        "* You have created lists and dictionaries.\n",
        "* You have automated tasks using `for` loops and `if` statements.\n",
        "\n",
        "\n",
        "In this lesson, you will read files using Python!\n",
        "\n",
        "Let's start by loading some functions you'll use in this notebook:"
      ]
    },
    {
      "cell_type": "code",
      "execution_count": null,
      "metadata": {
        "height": 47,
        "id": "3IHOUuLRls_i"
      },
      "outputs": [],
      "source": [
        "from helper_functions import get_llm_response\n",
        "from IPython.display import display, Markdown"
      ]
    },
    {
      "cell_type": "markdown",
      "metadata": {
        "id": "PPdsx5jzls_k"
      },
      "source": [
        "* Write a prompt to create a recipe using `get_llm_response`."
      ]
    },
    {
      "cell_type": "code",
      "execution_count": null,
      "metadata": {
        "height": 251,
        "id": "XK0UbFz4ls_l"
      },
      "outputs": [],
      "source": [
        "# Write a list of ingredients\n",
        "ingredients = ['chicken', 'broccoli', 'rice']\n",
        "\n",
        "# Write the prompt\n",
        "prompt = f\"\"\"\n",
        "    Create a short recipe that uses the following ingredients:\n",
        "    {ingredients}\n",
        "\"\"\"\n",
        "\n",
        "# Get the response from the LLM\n",
        "response = get_llm_response(prompt)\n",
        "\n",
        "# Print the LLM response\n",
        "print(response)"
      ]
    },
    {
      "cell_type": "markdown",
      "metadata": {
        "id": "63SPBgpHls_m"
      },
      "source": [
        "## Opening a text file and saving it as a string"
      ]
    },
    {
      "cell_type": "markdown",
      "metadata": {
        "id": "C5Bh-xlVls_m"
      },
      "source": [
        "You will load data that has already been created and is stored 📁 for you in files.\n",
        "\n",
        "* Start by loading an email that Daniel sent recently. It is stored in a '.txt' file."
      ]
    },
    {
      "cell_type": "code",
      "execution_count": null,
      "metadata": {
        "height": 64,
        "id": "wNi5xZQ5ls_m"
      },
      "outputs": [],
      "source": [
        "f = open(\"email.txt\", \"r\")\n",
        "email = f.read()\n",
        "f.close()"
      ]
    },
    {
      "cell_type": "markdown",
      "metadata": {
        "id": "o-BWiAPlls_m"
      },
      "source": [
        "* Print what it is 'inside' the email ✉️."
      ]
    },
    {
      "cell_type": "code",
      "execution_count": null,
      "metadata": {
        "height": 30,
        "id": "IWHoYIb1ls_n"
      },
      "outputs": [],
      "source": [
        "print(email)"
      ]
    },
    {
      "cell_type": "markdown",
      "metadata": {
        "id": "qJiMtVeRls_n"
      },
      "source": [
        "<p style=\"background-color:#F5C780; padding:15px\"> 🤖 <b>Use the Chatbot</b>:\n",
        "    <br><br>\n",
        "    Explain this code line by line:\n",
        "    <br><br>f = open(\"email.txt\", \"r\")\n",
        "    <br>email = f.read()\n",
        "    <br>f.close()\n",
        "</p>"
      ]
    },
    {
      "cell_type": "markdown",
      "metadata": {
        "id": "xXN_9PF-ls_n"
      },
      "source": [
        "<p style=\"background-color:#F5C780; padding:15px\"> 🤖 <b>Use the Chatbot</b>:\n",
        "    <br><br>\n",
        "    What happens if I don't close a file?\n",
        "</p>"
      ]
    },
    {
      "cell_type": "markdown",
      "metadata": {
        "id": "lwFcoZg4ls_n"
      },
      "source": [
        "## Using LLMs to extract bullet points from the email"
      ]
    },
    {
      "cell_type": "markdown",
      "metadata": {
        "id": "bX-OlkcHls_n"
      },
      "source": [
        "* Create a prompt to extract bullet points from Daniel's email ✉️."
      ]
    },
    {
      "cell_type": "code",
      "execution_count": null,
      "metadata": {
        "height": 132,
        "id": "_AX1dSHIls_o"
      },
      "outputs": [],
      "source": [
        "prompt = f\"\"\"Extract bullet points from the following email.\n",
        "Include the sender information.\n",
        "\n",
        "Email:\n",
        "{email}\"\"\"\n",
        "\n",
        "print(prompt)"
      ]
    },
    {
      "cell_type": "markdown",
      "metadata": {
        "id": "yw8FJbAols_o"
      },
      "source": [
        "* Run the ```get_llm_response``` function to get the response with bullet points."
      ]
    },
    {
      "cell_type": "code",
      "execution_count": null,
      "metadata": {
        "height": 47,
        "id": "fZO5QXg1ls_o"
      },
      "outputs": [],
      "source": [
        "bullet_points = get_llm_response(prompt)\n",
        "print(bullet_points)"
      ]
    },
    {
      "cell_type": "markdown",
      "metadata": {
        "id": "Dp91tiCtls_o"
      },
      "source": [
        "* Print the LLM response in Markdown format."
      ]
    },
    {
      "cell_type": "code",
      "execution_count": null,
      "metadata": {
        "height": 47,
        "id": "tWW06ukYls_o"
      },
      "outputs": [],
      "source": [
        "# Print in Markdown format\n",
        "display(Markdown(bullet_points))"
      ]
    },
    {
      "cell_type": "markdown",
      "metadata": {
        "id": "jDnuhN3Nls_o"
      },
      "source": [
        "## Extra practice\n",
        "\n",
        "Try the exercises below to get an LLM to carry out different tasks using the email text you read in from file:\n",
        "\n",
        "### Exercise 1\n",
        "\n",
        "Complete the code below to identify all the **countries** mentioned in the email."
      ]
    },
    {
      "cell_type": "code",
      "execution_count": null,
      "metadata": {
        "height": 183,
        "id": "9CcoKY8tls_p"
      },
      "outputs": [],
      "source": [
        "# Complete the code below to identify all of the countries mentioned\n",
        "# in the email\n",
        "prompt = f\"\"\"WRITE YOUR PROMPT HERE\n",
        "\n",
        "Email:\n",
        "{email}\n",
        "\"\"\"\n",
        "\n",
        "countries = get_llm_response(prompt)\n",
        "print(countries)"
      ]
    },
    {
      "cell_type": "markdown",
      "metadata": {
        "id": "6Za6g0vols_p"
      },
      "source": [
        "### Exercise 2\n",
        "\n",
        "Write code below to list all of the activities that Daniel did on his trip. You'll need to create a prompt and use either `get_llm_response` or `print_llm_response`."
      ]
    },
    {
      "cell_type": "code",
      "execution_count": null,
      "metadata": {
        "height": 81,
        "id": "poItnTiols_p"
      },
      "outputs": [],
      "source": [
        "# Write code below to list all of the activities that Daniel did on\n",
        "# his trip. You'll need to create a prompt and use either\n",
        "# get_llm_response or print_llm_response\n",
        "# START YOUR CODE HERE"
      ]
    }
  ],
  "metadata": {
    "colab": {
      "gpuType": "T4",
      "provenance": [],
      "include_colab_link": true
    },
    "kernelspec": {
      "display_name": "Python 3 (ipykernel)",
      "language": "python",
      "name": "python3"
    },
    "language_info": {
      "codemirror_mode": {
        "name": "ipython",
        "version": 3
      },
      "file_extension": ".py",
      "mimetype": "text/x-python",
      "name": "python",
      "nbconvert_exporter": "python",
      "pygments_lexer": "ipython3",
      "version": "3.9.19"
    }
  },
  "nbformat": 4,
  "nbformat_minor": 0
}