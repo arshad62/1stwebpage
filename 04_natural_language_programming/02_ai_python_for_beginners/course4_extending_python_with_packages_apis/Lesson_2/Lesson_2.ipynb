{
  "cells": [
    {
      "cell_type": "markdown",
      "metadata": {
        "id": "view-in-github",
        "colab_type": "text"
      },
      "source": [
        "<a href=\"https://colab.research.google.com/github/arshad62/1stwebpage/blob/master/04_natural_language_programming/02_ai_python_for_beginners/course4_extending_python_with_packages_apis/Lesson_2/Lesson_2.ipynb\" target=\"_parent\"><img src=\"https://colab.research.google.com/assets/colab-badge.svg\" alt=\"Open In Colab\"/></a>"
      ]
    },
    {
      "cell_type": "markdown",
      "metadata": {
        "id": "FbWoGOis4KoG"
      },
      "source": [
        "# Lesson 2: Built-in packages"
      ]
    },
    {
      "cell_type": "markdown",
      "metadata": {
        "id": "-mBRJ4FSpSvA"
      },
      "source": [
        "In this lesson, you'll learn how to work with **packages** (sometimes called **modules**) that are built-in to Python.\n",
        "\n",
        "These packages contain functions that can be made available in your programs using the same `import` statements you learned in the last lesson."
      ]
    },
    {
      "cell_type": "markdown",
      "metadata": {
        "id": "6FFIyAdCpSvA"
      },
      "source": [
        "## The `math` package"
      ]
    },
    {
      "cell_type": "markdown",
      "metadata": {
        "id": "aO3e4daTpSvB"
      },
      "source": [
        "Imagine that you want to show your neighbor's kid how to double-check his trigonometry homework using Python.\n",
        "\n",
        "Python contains functions in the ```math``` package that can let you do trigonometry. Let's load the ```cos, sin``` and ```pi``` functions and use them.\n",
        "\n",
        "You make these functions available with the following code:"
      ]
    },
    {
      "cell_type": "code",
      "execution_count": null,
      "metadata": {
        "height": 47,
        "id": "LAOWQAjHpSvB"
      },
      "outputs": [],
      "source": [
        "# Import from the math package the cos, sin and pi functions\n",
        "from math import cos, sin, pi"
      ]
    },
    {
      "cell_type": "markdown",
      "metadata": {
        "id": "XLVAtM-opSvC"
      },
      "source": [
        "The `pi` you just loaded isn't actually a function, it's a single number:"
      ]
    },
    {
      "cell_type": "code",
      "execution_count": null,
      "metadata": {
        "height": 30,
        "id": "3w702i-DpSvC"
      },
      "outputs": [],
      "source": [
        "print(pi)"
      ]
    },
    {
      "cell_type": "markdown",
      "metadata": {
        "id": "ZLoUwG0bpSvC"
      },
      "source": [
        "You can check the data type using the `type` function:"
      ]
    },
    {
      "cell_type": "code",
      "execution_count": null,
      "metadata": {
        "height": 30,
        "id": "UndknQHQpSvD"
      },
      "outputs": [],
      "source": [
        "type(pi)"
      ]
    },
    {
      "cell_type": "markdown",
      "metadata": {
        "id": "D9uXTAgWpSvD"
      },
      "source": [
        "Next, define a list of values for which you want to compute ```cos``` and ```sin```:"
      ]
    },
    {
      "cell_type": "code",
      "execution_count": null,
      "metadata": {
        "height": 30,
        "id": "qsfRl0kFpSvD"
      },
      "outputs": [],
      "source": [
        "values = [0, pi/2, pi, 3/2*pi, 2*pi]"
      ]
    },
    {
      "cell_type": "markdown",
      "metadata": {
        "id": "x0c7pGLTpSvD"
      },
      "source": [
        "Iterate through the list of values using a ```for``` loop and calculate the ```cos``` function for each value:"
      ]
    },
    {
      "cell_type": "code",
      "execution_count": null,
      "metadata": {
        "height": 47,
        "id": "-Ltq1L3ApSvD"
      },
      "outputs": [],
      "source": [
        "for value in values:\n",
        "    print(f\"The cosine of {value:.2f} is {cos(value):.2f}\")"
      ]
    },
    {
      "cell_type": "markdown",
      "metadata": {
        "id": "NxZ-2KsVpSvD"
      },
      "source": [
        "### Try for yourself!\n",
        "\n",
        "Pause the video and update the code below to calculate the sine instead of cosine!"
      ]
    },
    {
      "cell_type": "code",
      "execution_count": null,
      "metadata": {
        "height": 47,
        "id": "-LENtCjhpSvE"
      },
      "outputs": [],
      "source": [
        "for value in values:\n",
        "    print(f\"The sine of {value:.2f} is {cos(value):.2f}\")"
      ]
    },
    {
      "cell_type": "markdown",
      "metadata": {
        "id": "oG-ziTx8pSvE"
      },
      "source": [
        "The `math` package contains a function called `floor` that rounds values down to the nearest whole number.\n",
        "\n",
        "Try the code below to use it\n",
        "* 🚨 Alert! This will return an error!"
      ]
    },
    {
      "cell_type": "code",
      "execution_count": null,
      "metadata": {
        "height": 30,
        "id": "xjymigWJpSvE"
      },
      "outputs": [],
      "source": [
        "floor(5.7)"
      ]
    },
    {
      "cell_type": "markdown",
      "metadata": {
        "id": "YQ2i_QWhpSvE"
      },
      "source": [
        "This code gave an error because you hadn't yet imported the function so that it could be used. Let's do that now:"
      ]
    },
    {
      "cell_type": "code",
      "execution_count": null,
      "metadata": {
        "height": 30,
        "id": "EzPBenDupSvE"
      },
      "outputs": [],
      "source": [
        "from math import floor"
      ]
    },
    {
      "cell_type": "markdown",
      "metadata": {
        "id": "595SzwoipSvF"
      },
      "source": [
        "Now you can run the code:"
      ]
    },
    {
      "cell_type": "code",
      "execution_count": null,
      "metadata": {
        "height": 47,
        "id": "VDTX68E_pSvF"
      },
      "outputs": [],
      "source": [
        "# Try again\n",
        "floor(5.7)"
      ]
    },
    {
      "cell_type": "markdown",
      "metadata": {
        "id": "MUw5Bx8cpSvF"
      },
      "source": [
        "You can ask the chatbot to tell you about more functions in the `math` package, or look up the documentation [here](https://docs.python.org/3/library/math.html)."
      ]
    },
    {
      "cell_type": "markdown",
      "metadata": {
        "id": "yaWBPJyupSvF"
      },
      "source": [
        "## Calculating useful statistics with `statistics`"
      ]
    },
    {
      "cell_type": "markdown",
      "metadata": {
        "id": "PjXe8S-6pSvF"
      },
      "source": [
        "Python also comes with a package for ```statistics```. You can use it to compute common statistics like mean, median, or standard deviation.\n",
        "\n",
        "To try it out, let's import the ```mean``` and ```stdev``` functions from the `math` package:"
      ]
    },
    {
      "cell_type": "code",
      "execution_count": null,
      "metadata": {
        "height": 30,
        "id": "2pLvmFmvpSvF"
      },
      "outputs": [],
      "source": [
        "from statistics import mean, stdev"
      ]
    },
    {
      "cell_type": "markdown",
      "metadata": {
        "id": "jXN46ZAspSvF"
      },
      "source": [
        "First, create a list that contains the heights of a group of friend's heights:"
      ]
    },
    {
      "cell_type": "code",
      "execution_count": null,
      "metadata": {
        "height": 30,
        "id": "tiVP9vSgpSvF"
      },
      "outputs": [],
      "source": [
        "my_friends_heights = [160, 172, 155, 180, 165, 170, 158, 182, 175, 168]"
      ]
    },
    {
      "cell_type": "markdown",
      "metadata": {
        "id": "ug6FIMm3pSvG"
      },
      "source": [
        "You can now calculate the ```mean``` value of the list of heights using the `mean` function:"
      ]
    },
    {
      "cell_type": "code",
      "execution_count": null,
      "metadata": {
        "height": 30,
        "id": "p3p2prmopSvG"
      },
      "outputs": [],
      "source": [
        "mean(my_friends_heights)"
      ]
    },
    {
      "cell_type": "markdown",
      "metadata": {
        "id": "tTcagXn-pSvG"
      },
      "source": [
        "You can also calculate the standard deviation of the heights using the ```stdev``` function:"
      ]
    },
    {
      "cell_type": "code",
      "execution_count": null,
      "metadata": {
        "height": 30,
        "id": "57Y36zxZpSvG"
      },
      "outputs": [],
      "source": [
        "stdev(my_friends_heights)"
      ]
    },
    {
      "cell_type": "markdown",
      "metadata": {
        "id": "ijBu97JCpSvG"
      },
      "source": [
        "There are other functions in the statistics package that you can import to calculate other statistics, like median, etc. You can read more about the statistics package [here](https://docs.python.org/3/library/statistics.html) - or ask the chatbot!"
      ]
    },
    {
      "cell_type": "markdown",
      "metadata": {
        "id": "XzFaUBo_pSvG"
      },
      "source": [
        "## Introducting randomness to your programs with `random`"
      ]
    },
    {
      "cell_type": "markdown",
      "metadata": {
        "id": "2Za9P1CCpSvG"
      },
      "source": [
        "Python also comes with a ```random``` package that generates random numbers and selects random elements from a list. This can be very useful in coding projects! You can read more about `random` [here](https://docs.python.org/3/library/random.html).\n",
        "\n",
        "You'll write code here to randomly sample from a list of items. To get started, import the ```sample``` function from the ```random``` module:"
      ]
    },
    {
      "cell_type": "code",
      "execution_count": null,
      "metadata": {
        "height": 30,
        "id": "LOjZcS_IpSvH"
      },
      "outputs": [],
      "source": [
        "from random import sample"
      ]
    },
    {
      "cell_type": "markdown",
      "metadata": {
        "id": "2lv8LMa2pSvH"
      },
      "source": [
        "<p style=\"background-color:#F5C780; padding:15px\"> 🤖 <b>Use the Chatbot</b>:\n",
        "<br>Explain how to use the function sample from the random module.</p>"
      ]
    },
    {
      "cell_type": "markdown",
      "metadata": {
        "id": "2jiSBQlfpSvH"
      },
      "source": [
        "Create lists of ingredients and that you'll select from and pass to the LLM for recipe suggestions:"
      ]
    },
    {
      "cell_type": "code",
      "execution_count": null,
      "metadata": {
        "height": 64,
        "id": "otWYOfpnpSvH"
      },
      "outputs": [],
      "source": [
        "spices = [\"cumin\", \"turmeric\", \"oregano\", \"paprika\"]\n",
        "vegetables = [\"lettuce\", \"tomato\", \"carrot\", \"broccoli\"]\n",
        "proteins = [\"chicken\", \"tofu\", \"beef\", \"fish\", \"tempeh\"]"
      ]
    },
    {
      "cell_type": "markdown",
      "metadata": {
        "id": "wbRGm5m3pSvH"
      },
      "source": [
        "You can use Python to select random ingredients for you from these lists.\n",
        "\n",
        "The ```sample``` function takes two parameters: the list you want to select from, and the number of items you want to select:"
      ]
    },
    {
      "cell_type": "code",
      "execution_count": null,
      "metadata": {
        "height": 64,
        "id": "sAMG-Sr5pSvM"
      },
      "outputs": [],
      "source": [
        "random_spices = sample(spices, 2)\n",
        "random_vegetables = sample(vegetables, 2)\n",
        "random_protein = sample(proteins, 1)"
      ]
    },
    {
      "cell_type": "markdown",
      "metadata": {
        "id": "RZhmSkTLpSvM"
      },
      "source": [
        "See what ingredients you selected:"
      ]
    },
    {
      "cell_type": "code",
      "execution_count": null,
      "metadata": {
        "height": 30,
        "id": "KLSs57O_pSvM"
      },
      "outputs": [],
      "source": [
        "print(random_protein)"
      ]
    },
    {
      "cell_type": "markdown",
      "metadata": {
        "id": "ihYVGIt4pSvM"
      },
      "source": [
        "## Try for yourself!\n",
        "\n",
        "Pause the video here, and try running the last two cells again.\n",
        "* You'll see that you get different ingredients each time!\n",
        "* Check the `random_spices` and `random_vegetables` variables too and see that they also change"
      ]
    },
    {
      "cell_type": "markdown",
      "metadata": {
        "id": "Em7y_qrupSvM"
      },
      "source": [
        "## Use an LLM to suggest a recipe for you using those 'randomly selected' ingredients.\n",
        "\n",
        "Create a prompt that asks an LLM to create a recipe using your randomly selected ingredients:"
      ]
    },
    {
      "cell_type": "code",
      "execution_count": null,
      "metadata": {
        "height": 115,
        "id": "9f4XAZN2pSvN"
      },
      "outputs": [],
      "source": [
        "prompt = f\"\"\"Please suggest a recipe that includes the following ingredients.\n",
        "\n",
        "Spices: {random_spices}\n",
        "Vegetables: {random_vegetables}\n",
        "Proteins: {random_protein}\n",
        "\"\"\""
      ]
    },
    {
      "cell_type": "markdown",
      "metadata": {
        "id": "rJ0XA2uOpSvN"
      },
      "source": [
        "Check the prompt to see the ingredients:"
      ]
    },
    {
      "cell_type": "code",
      "execution_count": null,
      "metadata": {
        "height": 30,
        "id": "z9lE_BUspSvN"
      },
      "outputs": [],
      "source": [
        "print(prompt)"
      ]
    },
    {
      "cell_type": "markdown",
      "metadata": {
        "id": "03-EsKmypSvN"
      },
      "source": [
        "Next, import the `get_llm_response` function from `helper_functions.py` to use to generate the recipe:"
      ]
    },
    {
      "cell_type": "code",
      "execution_count": null,
      "metadata": {
        "height": 30,
        "id": "op-FqXBxpSvN"
      },
      "outputs": [],
      "source": [
        "from helper_functions import get_llm_response"
      ]
    },
    {
      "cell_type": "markdown",
      "metadata": {
        "id": "kbrN5D9TpSvN"
      },
      "source": [
        "Next, pass the prompt to the LLM, store the response in a variable named `recipe`, and then print the result:"
      ]
    },
    {
      "cell_type": "code",
      "execution_count": null,
      "metadata": {
        "height": 64,
        "id": "_N5tnSFrpSvO"
      },
      "outputs": [],
      "source": [
        "recipe = get_llm_response(prompt)\n",
        "\n",
        "print(recipe)"
      ]
    },
    {
      "cell_type": "markdown",
      "metadata": {
        "id": "wIwfCVxIpSvO"
      },
      "source": [
        "## Extra practice\n",
        "\n",
        "Try the following exercises to practice what you have learned. If you need help, don't hesitate to ask the 🤖 chatbot!\n",
        "\n",
        "### Exercise 1\n",
        "\n",
        "Write code to import the `tan` (tangent) function from `math`, then calculate and print the tan of each value.\n"
      ]
    },
    {
      "cell_type": "code",
      "execution_count": null,
      "metadata": {
        "height": 149,
        "id": "xlQuBnhhpSvO"
      },
      "outputs": [],
      "source": [
        "# Write code to import the tan (tangent) function from math\n",
        "from math\n",
        "\n",
        "values = [0, pi/2, pi, 3/2*pi, 2*pi]\n",
        "\n",
        "# Complete the following code to calculate the tan of each value:\n",
        "for value in values:\n",
        "    print (f\"The tangent of {value:.2f} is    \")"
      ]
    },
    {
      "cell_type": "markdown",
      "metadata": {
        "id": "GZBGJXNypSvO"
      },
      "source": [
        "### Exercise 2\n",
        "\n",
        "Write code to calculate the median score in the list of scores below. You'll need to write an import statement as well as use the `median` function on your data."
      ]
    },
    {
      "cell_type": "code",
      "execution_count": null,
      "metadata": {
        "height": 166,
        "id": "SGtVqhpGpSvO"
      },
      "outputs": [],
      "source": [
        "\n",
        "scores = [28, 14, 15, 25, 21, 26, 30, 8, 36]\n",
        "\n",
        "# Write code to import the median function from the statistics package\n",
        "from\n",
        "\n",
        "# Calculate the median score\n",
        "median_score =\n",
        "print(median_score)"
      ]
    },
    {
      "cell_type": "markdown",
      "metadata": {
        "id": "wPIHEyDipSvP"
      },
      "source": [
        "### Challenge exercise!\n",
        "\n",
        "Write code using Python's built-in random package to print a random number between 1 and 10.\n",
        "\n",
        "Work with a chatbot, or consult the `random` package's [documentation website](https://docs.python.org/3/library/random.html) when you need help."
      ]
    },
    {
      "cell_type": "code",
      "execution_count": null,
      "metadata": {
        "height": 30,
        "id": "BBFRZg8zpSvP"
      },
      "outputs": [],
      "source": [
        "# YOUR CODE HERE"
      ]
    }
  ],
  "metadata": {
    "colab": {
      "provenance": [],
      "include_colab_link": true
    },
    "kernelspec": {
      "display_name": "Python 3 (ipykernel)",
      "language": "python",
      "name": "python3"
    },
    "language_info": {
      "codemirror_mode": {
        "name": "ipython",
        "version": 3
      },
      "file_extension": ".py",
      "mimetype": "text/x-python",
      "name": "python",
      "nbconvert_exporter": "python",
      "pygments_lexer": "ipython3",
      "version": "3.9.19"
    }
  },
  "nbformat": 4,
  "nbformat_minor": 0
}