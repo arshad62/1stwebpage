{
  "cells": [
    {
      "cell_type": "markdown",
      "metadata": {
        "id": "view-in-github",
        "colab_type": "text"
      },
      "source": [
        "<a href=\"https://colab.research.google.com/github/arshad62/1stwebpage/blob/master/04_natural_language_programming/02_ai_python_for_beginners/course4_extending_python_with_packages_apis/Lesson_1/Lesson_1.ipynb\" target=\"_parent\"><img src=\"https://colab.research.google.com/assets/colab-badge.svg\" alt=\"Open In Colab\"/></a>"
      ]
    },
    {
      "cell_type": "markdown",
      "metadata": {
        "id": "WMGxBP-yQoCl"
      },
      "source": [
        "# Lesson 1: Using functions from a local file"
      ]
    },
    {
      "cell_type": "markdown",
      "metadata": {
        "id": "4rXExNNuoC7c"
      },
      "source": [
        "Hit the play button on the video next to this Jupyter notebook to start the video and follow along as Andrew explains how to work through this lesson!\n",
        "\n",
        "In all of the courses so far, you have used a set of helper functions that were made available to you in the learning environment.\n",
        "\n",
        "In this lesson, you will see how these functions are stored in Python files and loaded into the notebook for you to use with the `import` command."
      ]
    },
    {
      "cell_type": "markdown",
      "metadata": {
        "id": "edW2MltFoC7c"
      },
      "source": [
        "## Revisiting the temperature conversion example"
      ]
    },
    {
      "cell_type": "markdown",
      "metadata": {
        "id": "s1qMM6tJoC7d"
      },
      "source": [
        "Here is the function you saw in the last course for converting temperatures from Fahrenheit to Celsius. Run the next cell to define the function:"
      ]
    },
    {
      "cell_type": "code",
      "execution_count": null,
      "metadata": {
        "height": 64,
        "id": "mZBiT7xUoC7d"
      },
      "outputs": [],
      "source": [
        "def fahrenheit_to_celsius(fahrenheit):\n",
        "    celsius = (fahrenheit - 32) * 5 / 9\n",
        "    print(f\"{fahrenheit}°F is equivalent to {celsius:.2f}°C\")"
      ]
    },
    {
      "cell_type": "markdown",
      "metadata": {
        "id": "L05QjFcCoC7e"
      },
      "source": [
        "And run the next cell to use the function!"
      ]
    },
    {
      "cell_type": "code",
      "execution_count": null,
      "metadata": {
        "height": 30,
        "id": "amFwV7NDoC7e"
      },
      "outputs": [],
      "source": [
        "fahrenheit_to_celsius(68)"
      ]
    },
    {
      "cell_type": "markdown",
      "metadata": {
        "id": "yz_Ui5k9oC7f"
      },
      "source": [
        "In the cells above, you directly defined the function and then used it.\n",
        "\n",
        "Throughout the previous courses, you used functions that you imported from `helper_functions`.\n",
        "\n",
        "It turns out these were stored in a local file in the same directory as the notebook called `helper_functions.py`.\n",
        "\n",
        "A related function to the `fahrenheit_to_celsius` function above is also included in the `helper_functions.py` file. It's called `celsius_to_fahrenheit` and does the temperature conversion in the other direction."
      ]
    },
    {
      "cell_type": "code",
      "execution_count": null,
      "metadata": {
        "height": 30,
        "id": "eVvHU8tYoC7f"
      },
      "outputs": [],
      "source": [
        "celsius_to_fahrenheit(20)"
      ]
    },
    {
      "cell_type": "markdown",
      "metadata": {
        "id": "74tpq1LroC7f"
      },
      "source": [
        "This code doesn't work because you haven't made the function available to Python yet. Let's ask the chatbot how to do that:"
      ]
    },
    {
      "cell_type": "markdown",
      "metadata": {
        "id": "V-EMyVLooC7f"
      },
      "source": [
        "<p style=\"background-color:#F5C780; padding:15px\"> 🤖 <b>Use the Chatbot</b>: I have the celsius_to_fahrenheit function in the file helper_functions.py. How do I load it into my Jupyter notebook?</p>"
      ]
    },
    {
      "cell_type": "markdown",
      "metadata": {
        "id": "6WSlEB3voC7f"
      },
      "source": [
        "Import the `celsius_to_fahrenheit` function from the `helper_functions.py` file:"
      ]
    },
    {
      "cell_type": "code",
      "execution_count": null,
      "metadata": {
        "height": 30,
        "id": "TcWPkFQHoC7g"
      },
      "outputs": [],
      "source": [
        "from helper_functions import celsius_to_fahrenheit"
      ]
    },
    {
      "cell_type": "markdown",
      "metadata": {
        "id": "z786Wd62oC7g"
      },
      "source": [
        "You can now use the function!"
      ]
    },
    {
      "cell_type": "code",
      "execution_count": null,
      "metadata": {
        "height": 30,
        "id": "SdzTAt2MoC7g"
      },
      "outputs": [],
      "source": [
        "celsius_to_fahrenheit(20)"
      ]
    },
    {
      "cell_type": "markdown",
      "metadata": {
        "id": "Q5mxh4aBoC7g"
      },
      "source": [
        "## Different ways to import functions from a file"
      ]
    },
    {
      "cell_type": "markdown",
      "metadata": {
        "id": "TRA88ifSoC7g"
      },
      "source": [
        "Python has a few different ways to import functions from a file. Run the code below to import all functions in a file:"
      ]
    },
    {
      "cell_type": "code",
      "execution_count": null,
      "metadata": {
        "height": 30,
        "id": "znpfIRxJoC7g"
      },
      "outputs": [],
      "source": [
        "import helper_functions"
      ]
    },
    {
      "cell_type": "markdown",
      "metadata": {
        "id": "By49UAJFoC7g"
      },
      "source": [
        "To use this, you must five the name of the file *and* the name of the function, separated by a `.` character:"
      ]
    },
    {
      "cell_type": "code",
      "execution_count": null,
      "metadata": {
        "height": 30,
        "id": "OA1g5f8KoC7h"
      },
      "outputs": [],
      "source": [
        "helper_functions.print_llm_response(\"What is the capital of France?\")"
      ]
    },
    {
      "cell_type": "markdown",
      "metadata": {
        "id": "10uesgcfoC7h"
      },
      "source": [
        "Note that you must include the `.` for this to work. For example, if you want to use `get_llm_response` - which is also defined in `helper_functions.py` - and you try the following code, it won't work:"
      ]
    },
    {
      "cell_type": "markdown",
      "metadata": {
        "id": "XDJiHAptoC7h"
      },
      "source": [
        "* 🚨 Alert: running the next cell will return an error!"
      ]
    },
    {
      "cell_type": "code",
      "execution_count": null,
      "metadata": {
        "height": 30,
        "id": "rS4nspchoC7h"
      },
      "outputs": [],
      "source": [
        "response = get_llm_response(\"What is the capital of France?\")"
      ]
    },
    {
      "cell_type": "markdown",
      "metadata": {
        "id": "hngpQ5gRoC7h"
      },
      "source": [
        "To fix this, you must include the file name and the `.` character as with `print_llm_above`:"
      ]
    },
    {
      "cell_type": "code",
      "execution_count": null,
      "metadata": {
        "height": 47,
        "id": "EKL6aC6EoC7h"
      },
      "outputs": [],
      "source": [
        "response = helper_functions.get_llm_response(\"What is the capital of France?\")\n",
        "print(response)"
      ]
    },
    {
      "cell_type": "markdown",
      "metadata": {
        "id": "7LiaxNODoC7h"
      },
      "source": [
        "There is another way to import all of the functions in a file that avoids the `.` notation above. You can use a `*` character and the following command:"
      ]
    },
    {
      "cell_type": "code",
      "execution_count": null,
      "metadata": {
        "height": 30,
        "id": "QyYuobVmoC7i"
      },
      "outputs": [],
      "source": [
        "from helper_functions import *"
      ]
    },
    {
      "cell_type": "markdown",
      "metadata": {
        "id": "Lq6z21kDoC7i"
      },
      "source": [
        "This imports all the functions in a file and makes them available without `.` notation."
      ]
    },
    {
      "cell_type": "code",
      "execution_count": null,
      "metadata": {
        "height": 47,
        "id": "B57TSvLGoC7i"
      },
      "outputs": [],
      "source": [
        "# Try again\n",
        "response = get_llm_response(\"Give me three tips to become a good learner.\")"
      ]
    },
    {
      "cell_type": "code",
      "execution_count": null,
      "metadata": {
        "height": 47,
        "id": "us4br2IloC7i"
      },
      "outputs": [],
      "source": [
        "# It worked!\n",
        "print(response)"
      ]
    },
    {
      "cell_type": "markdown",
      "metadata": {
        "id": "s_Iz1DfeoC7i"
      },
      "source": [
        "**Note:** Using the `from file import *` notation can cause unexpected results in some cases.\n",
        "\n",
        "Instead, it is recommended to only load what you need (e.g. `from helper_functions import print_llm_response`), or to import that whole file and use the `.` notation."
      ]
    }
  ],
  "metadata": {
    "colab": {
      "gpuType": "T4",
      "provenance": [],
      "include_colab_link": true
    },
    "kernelspec": {
      "display_name": "Python 3 (ipykernel)",
      "language": "python",
      "name": "python3"
    },
    "language_info": {
      "codemirror_mode": {
        "name": "ipython",
        "version": 3
      },
      "file_extension": ".py",
      "mimetype": "text/x-python",
      "name": "python",
      "nbconvert_exporter": "python",
      "pygments_lexer": "ipython3",
      "version": "3.9.19"
    }
  },
  "nbformat": 4,
  "nbformat_minor": 0
}