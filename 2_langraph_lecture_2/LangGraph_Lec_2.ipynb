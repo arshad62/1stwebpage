{
  "nbformat": 4,
  "nbformat_minor": 0,
  "metadata": {
    "colab": {
      "provenance": [],
      "include_colab_link": true
    },
    "kernelspec": {
      "name": "python3",
      "display_name": "Python 3"
    },
    "language_info": {
      "name": "python"
    }
  },
  "cells": [
    {
      "cell_type": "markdown",
      "metadata": {
        "id": "view-in-github",
        "colab_type": "text"
      },
      "source": [
        "<a href=\"https://colab.research.google.com/github/arshad62/1stwebpage/blob/master/2_langraph_lecture_2/LangGraph_Lec_2.ipynb\" target=\"_parent\"><img src=\"https://colab.research.google.com/assets/colab-badge.svg\" alt=\"Open In Colab\"/></a>"
      ]
    },
    {
      "cell_type": "markdown",
      "source": [
        "# What we will cover in this lecture:\n",
        "- Chaining\n",
        "- Router\n",
        "- Agents"
      ],
      "metadata": {
        "id": "Wl5q5JuPZKxc"
      }
    },
    {
      "cell_type": "markdown",
      "source": [
        "# Chaining\n",
        "\n",
        "## Goals\n",
        "\n",
        "Now, let's build up to a simple chain that combines 4 [concepts](https://python.langchain.com/v0.2/docs/concepts/):\n",
        "\n",
        "* Using [chat messages](https://python.langchain.com/v0.2/docs/concepts/#messages) as our graph state\n",
        "* Using [chat models](https://python.langchain.com/v0.2/docs/concepts/#chat-models) in graph nodes\n",
        "* [Binding tools](https://python.langchain.com/v0.2/docs/concepts/#tools) to our chat model\n",
        "* [Executing tool calls](https://python.langchain.com/v0.2/docs/concepts/#functiontool-calling) in graph nodes\n",
        "\n",
        "![Screenshot 2024-08-21 at 9.24.03 AM.png](https://cdn.prod.website-files.com/65b8cd72835ceeacd4449a53/66dbab08dd607b08df5e1101_chain1.png)"
      ],
      "metadata": {
        "id": "KOfOfagXcTAd"
      }
    },
    {
      "cell_type": "markdown",
      "source": [
        "# Chat Messages:\n",
        "\n",
        "## Messages in LangGraph:\n",
        "When you interact with a language model in LangGraph, messages are used to communicate between the user, the AI, and sometimes even tools or systems. Let's break it down step-by-step with an example.\n",
        "\n",
        "**1. Role (Who is speaking?)**\n",
        "- **User:** The person using the system (e.g., a student).\n",
        "- **Assistant:** The AI responding to the user.\n",
        "- **System:** Instructions that guide how the AI should respond.\n",
        "- **Tool:** A message from a tool the AI has used to help with the answer.\n",
        "\n",
        "**Example:**\n",
        "\n",
        "- **User:** \"Tell me what photosynthesis is.\"\n",
        "- **Assistant:** \"Photosynthesis is the process by which plants convert sunlight into energy.\"\n",
        "- **System:** (You don't see this, but it might be something like \"Explain scientific terms clearly.\")\n",
        "- **Tool:** (If the AI used a dictionary or reference tool to check the definition, it might show the result here.)\n",
        "\n",
        "**2. Content (What is the message?)**: <br/>\n",
        "The content is the actual message or text. It can be a string (simple text) or more complex information, like a list or dictionary.\n",
        "\n",
        "**Example:**\n",
        "\n",
        "- **User:** \"Define gravity.\"\n",
        "- **Assistant:** \"Gravity is a force that pulls objects toward each other, like the Earth pulling objects toward its surface.\"\n",
        "\n",
        "**3. Name (Who said it, if there are multiple people?):** <br/>\n",
        "- If there are multiple users or assistants, messages may have a name to tell them apart.\n",
        "**For example**, in a group chat with two students, you could have \"Student 1\" and \"Student 2.\"\n",
        "\n",
        "## Types of Messages (with Example):\n",
        "**1. HumanMessage:** <br/>\n",
        "This is the message from the user (you).\n",
        "\n",
        "**Example:**\n",
        "\n",
        "- **User:** \"Explain Newton's First Law of Motion.\"\n",
        "\n",
        "**2. AIMessage:**\n",
        "\n",
        "This is the message from the assistant (the AI), which may include extra details like:\n",
        "\n",
        "- **Response metadata:** Additional info like how many words the response used.\n",
        "- **Tool calls:** If the AI uses a tool, it shows which tool and what it sent to the tool.\n",
        "\n",
        "**Example:**\n",
        "\n",
        "- **Assistant:** \"Newton's First Law of Motion states that an object will remain at rest or move at a constant speed in a straight line unless acted upon by an external force.\"\n",
        "- **Tool call:** If the AI used a science database to check the law, you might see a tool call like:\n",
        "    - **Tool name:** \"PhysicsAPI\"\n",
        "    - **Arguments:** \"Newton's First Law of Motion\"\n",
        "    - **ID:** \"tool12345\"\n",
        "\n",
        "**3. SystemMessage:** <br/>\n",
        "These are hidden instructions telling the AI how to respond.\n",
        "\n",
        "**Example:**\n",
        "\n",
        "- The system might have a hidden message like \"Explain answers at a 6th-grade level.\"\n",
        "\n",
        "**4. ToolMessage:** <br/>\n",
        "This represents the result of a tool the AI has used to answer the question.\n",
        "\n",
        "**Example:**\n",
        "\n",
        "- **ToolMessage:** \"The PhysicsAPI tool returned: 'Newton’s First Law means no force = no change in motion.'\"\n",
        "\n"
      ],
      "metadata": {
        "id": "6fJYWCIIlDVv"
      }
    },
    {
      "cell_type": "code",
      "source": [
        "%%capture --no-stderr\n",
        "%pip install --quiet -U langchain_google_genai langchain_core langgraph"
      ],
      "metadata": {
        "id": "FPnE62nAxfP-"
      },
      "execution_count": null,
      "outputs": []
    },
    {
      "cell_type": "code",
      "execution_count": null,
      "metadata": {
        "colab": {
          "base_uri": "https://localhost:8080/"
        },
        "id": "I-EbzBqKY1C6",
        "outputId": "26fcf62f-22a1-4fd5-fbd7-ba3c8388d768"
      },
      "outputs": [
        {
          "output_type": "stream",
          "name": "stdout",
          "text": [
            "==================================\u001b[1m Ai Message \u001b[0m==================================\n",
            "Name: Model\n",
            "\n",
            "So you said you were researching ocean mammals?\n",
            "================================\u001b[1m Human Message \u001b[0m=================================\n",
            "Name: Lance\n",
            "\n",
            "Yes, that's right.\n",
            "==================================\u001b[1m Ai Message \u001b[0m==================================\n",
            "Name: Model\n",
            "\n",
            "Great, what would you like to learn about.\n",
            "================================\u001b[1m Human Message \u001b[0m=================================\n",
            "Name: Lance\n",
            "\n",
            "I want to learn about the best place to see Orcas in the US.\n"
          ]
        }
      ],
      "source": [
        "from pprint import pprint\n",
        "from langchain_core.messages import AIMessage, HumanMessage\n",
        "\n",
        "messages = [AIMessage(content=f\"So you said you were researching ocean mammals?\", name=\"Model\")]\n",
        "messages.append(HumanMessage(content=f\"Yes, that's right.\",name=\"Lance\"))\n",
        "messages.append(AIMessage(content=f\"Great, what would you like to learn about.\", name=\"Model\"))\n",
        "messages.append(HumanMessage(content=f\"I want to learn about the best place to see Orcas in the US.\", name=\"Lance\"))\n",
        "\n",
        "for m in messages:\n",
        "    m.pretty_print()"
      ]
    },
    {
      "cell_type": "markdown",
      "source": [
        "# Chat Models\n",
        "\n",
        "### What are Chat Models?\n",
        "\n",
        "Chat models are a type of language model that take a series of **messages** as input and return a message as a response. Unlike older models (LLMs), chat models can handle different **roles** in a conversation:\n",
        "- **User**: The person asking the question (e.g., a student).\n",
        "- **Assistant**: The AI that provides answers.\n",
        "- **System**: Instructions that guide how the AI responds.\n",
        "\n",
        "**Example**:\n",
        "- **User**: \"What is the capital of France?\"\n",
        "- **Assistant**: \"The capital of France is Paris.\"\n",
        "\n",
        "### How They Work\n",
        "If you provide a plain text input, LangChain automatically converts it into a **HumanMessage** and processes it through the chat model. So, you can use chat models similarly to older LLMs.\n",
        "\n",
        "\n",
        "\n",
        "### Key Parameters\n",
        "\n",
        "When setting up a chat model, you can control its behavior with a few important settings:\n",
        "- **model**: The name of the model (e.g., GPT-4).\n",
        "- **temperature**: Controls how creative the model is. Higher values = more creative responses.\n",
        "- **max_tokens**: Limits the number of words the model generates.\n",
        "- **stop**: Defines where the model should stop responding.\n",
        "- **api_key**: Used to access the model from a third-party provider.\n",
        "\n",
        "**Example**:\n",
        "- **User**: \"Tell me a creative story about a cat.\"\n",
        "- **Assistant** (with higher temperature): \"Once, a curious cat explored space, chasing stars across the sky.\"\n",
        "\n",
        "\n",
        "\n",
        "### Multimodal Inputs\n",
        "\n",
        "Some chat models can take more than just text, like images or video. For example, **Gemini** can accept videos as inputs, but this feature is still rare.\n",
        "\n",
        "**Example**:\n",
        "- You send an image of a sunset, and the model describes it: \"This is a beautiful sunset over the mountains.\"\n",
        "\n"
      ],
      "metadata": {
        "id": "ciQLERjS0Rwj"
      }
    },
    {
      "cell_type": "code",
      "source": [
        "from google.colab import userdata\n",
        "google_api_key = userdata.get('GEMINI_API_KEY')"
      ],
      "metadata": {
        "id": "9dT8IvQIxFOO"
      },
      "execution_count": null,
      "outputs": []
    },
    {
      "cell_type": "code",
      "source": [
        "import os\n",
        "os.environ[\"GOOGLE_APPLICATION_CREDENTIALS\"] = \"/content/newkey.json\""
      ],
      "metadata": {
        "id": "PX7ugs-R2NAm"
      },
      "execution_count": null,
      "outputs": []
    },
    {
      "cell_type": "code",
      "source": [
        "from langchain_google_genai import ChatGoogleGenerativeAI\n",
        "llm: ChatGoogleGenerativeAI = ChatGoogleGenerativeAI(model=\"gemini-1.5-flash\", api_key=google_api_key)\n",
        "result = llm.invoke(messages)\n",
        "type(result)"
      ],
      "metadata": {
        "colab": {
          "base_uri": "https://localhost:8080/",
          "height": 187
        },
        "id": "eyaIk40N3Mx5",
        "outputId": "2b571b30-fe63-42d5-a971-f797c468a02c"
      },
      "execution_count": null,
      "outputs": [
        {
          "output_type": "execute_result",
          "data": {
            "text/plain": [
              "langchain_core.messages.ai.AIMessage"
            ],
            "text/html": [
              "<div style=\"max-width:800px; border: 1px solid var(--colab-border-color);\"><style>\n",
              "      pre.function-repr-contents {\n",
              "        overflow-x: auto;\n",
              "        padding: 8px 12px;\n",
              "        max-height: 500px;\n",
              "      }\n",
              "\n",
              "      pre.function-repr-contents.function-repr-contents-collapsed {\n",
              "        cursor: pointer;\n",
              "        max-height: 100px;\n",
              "      }\n",
              "    </style>\n",
              "    <pre style=\"white-space: initial; background:\n",
              "         var(--colab-secondary-surface-color); padding: 8px 12px;\n",
              "         border-bottom: 1px solid var(--colab-border-color);\"><b>langchain_core.messages.ai.AIMessage</b><br/>def __init__(content: Union[str, list[Union[str, dict]]], **kwargs: Any) -&gt; None</pre><pre class=\"function-repr-contents function-repr-contents-collapsed\" style=\"\"><a class=\"filepath\" style=\"display:none\" href=\"#\">/usr/local/lib/python3.10/dist-packages/langchain_core/messages/ai.py</a>Message from an AI.\n",
              "\n",
              "AIMessage is returned from a chat model as a response to a prompt.\n",
              "\n",
              "This message represents the output of the model and consists of both\n",
              "the raw output as returned by the model together standardized fields\n",
              "(e.g., tool calls, usage metadata) added by the LangChain framework.</pre>\n",
              "      <script>\n",
              "      if (google.colab.kernel.accessAllowed && google.colab.files && google.colab.files.view) {\n",
              "        for (const element of document.querySelectorAll('.filepath')) {\n",
              "          element.style.display = 'block'\n",
              "          element.onclick = (event) => {\n",
              "            event.preventDefault();\n",
              "            event.stopPropagation();\n",
              "            google.colab.files.view(element.textContent, 141);\n",
              "          };\n",
              "        }\n",
              "      }\n",
              "      for (const element of document.querySelectorAll('.function-repr-contents')) {\n",
              "        element.onclick = (event) => {\n",
              "          event.preventDefault();\n",
              "          event.stopPropagation();\n",
              "          element.classList.toggle('function-repr-contents-collapsed');\n",
              "        };\n",
              "      }\n",
              "      </script>\n",
              "      </div>"
            ]
          },
          "metadata": {},
          "execution_count": 27
        }
      ]
    },
    {
      "cell_type": "code",
      "source": [
        "result"
      ],
      "metadata": {
        "colab": {
          "base_uri": "https://localhost:8080/"
        },
        "id": "pBY4ZKdo35V5",
        "outputId": "f5f48d9d-db31-4c77-ddf5-7af36a608cb6"
      },
      "execution_count": null,
      "outputs": [
        {
          "output_type": "execute_result",
          "data": {
            "text/plain": [
              "AIMessage(content=\"That's a great question! You're in luck, as the US has some fantastic places to see orcas, also known as killer whales.  Here are a few of the best spots, with some key considerations:\\n\\n**1. The San Juan Islands, Washington:**\\n\\n* **Pros:** This is arguably the most reliable place in the US to see orcas in the wild. The Salish Sea, which includes the San Juan Islands, is home to a resident population of orcas that frequent the area year-round.\\n* **Cons:**  Whale watching tours are popular here, so expect crowds and potential for boat traffic.\\n\\n**2. Alaska:**\\n\\n* **Pros:**  Alaska offers a variety of orca viewing opportunities, from boat tours in Southeast Alaska to land-based viewing in Glacier Bay National Park.  You'll have a chance to see both resident and transient orcas.\\n* **Cons:**  Alaska is a vast and remote area, so travel can be expensive and time-consuming.  Weather can be unpredictable, especially in the fall and winter.\\n\\n**3. California:**\\n\\n* **Pros:**  Orcas can be spotted off the coast of California, particularly in the Monterey Bay area.\\n* **Cons:**  Orca sightings are less frequent and predictable in California compared to the San Juan Islands or Alaska.\\n\\n**Key Considerations When Choosing a Destination:**\\n\\n* **Time of year:**  The best time to see orcas varies depending on the location. For example, the San Juan Islands are best visited during the summer months, while Alaska is best in the summer and fall.\\n* **Type of orca:**  Do you want to see resident orcas (those that stay in a specific area) or transient orcas (those that travel long distances)?\\n* **Budget:**  Whale watching tours can be expensive, so factor that into your budget.\\n* **Experience:**  Are you looking for a casual whale watching experience or a more immersive adventure?\\n\\nI hope this helps!  Let me know if you have any other questions. \\n\", additional_kwargs={}, response_metadata={'prompt_feedback': {'block_reason': 0, 'safety_ratings': []}, 'finish_reason': 'STOP', 'safety_ratings': [{'category': 'HARM_CATEGORY_SEXUALLY_EXPLICIT', 'probability': 'NEGLIGIBLE', 'blocked': False}, {'category': 'HARM_CATEGORY_HATE_SPEECH', 'probability': 'NEGLIGIBLE', 'blocked': False}, {'category': 'HARM_CATEGORY_HARASSMENT', 'probability': 'NEGLIGIBLE', 'blocked': False}, {'category': 'HARM_CATEGORY_DANGEROUS_CONTENT', 'probability': 'NEGLIGIBLE', 'blocked': False}]}, id='run-e1883167-cea4-4acd-a90b-efb42efd775c-0', usage_metadata={'input_tokens': 46, 'output_tokens': 428, 'total_tokens': 474})"
            ]
          },
          "metadata": {},
          "execution_count": 28
        }
      ]
    },
    {
      "cell_type": "code",
      "source": [
        "result.response_metadata"
      ],
      "metadata": {
        "colab": {
          "base_uri": "https://localhost:8080/"
        },
        "id": "QlqidHin372w",
        "outputId": "83c7594d-2220-41b5-93a7-4998c2107552"
      },
      "execution_count": null,
      "outputs": [
        {
          "output_type": "execute_result",
          "data": {
            "text/plain": [
              "{'prompt_feedback': {'block_reason': 0, 'safety_ratings': []},\n",
              " 'finish_reason': 'STOP',\n",
              " 'safety_ratings': [{'category': 'HARM_CATEGORY_SEXUALLY_EXPLICIT',\n",
              "   'probability': 'NEGLIGIBLE',\n",
              "   'blocked': False},\n",
              "  {'category': 'HARM_CATEGORY_HATE_SPEECH',\n",
              "   'probability': 'NEGLIGIBLE',\n",
              "   'blocked': False},\n",
              "  {'category': 'HARM_CATEGORY_HARASSMENT',\n",
              "   'probability': 'NEGLIGIBLE',\n",
              "   'blocked': False},\n",
              "  {'category': 'HARM_CATEGORY_DANGEROUS_CONTENT',\n",
              "   'probability': 'NEGLIGIBLE',\n",
              "   'blocked': False}]}"
            ]
          },
          "metadata": {},
          "execution_count": 29
        }
      ]
    },
    {
      "cell_type": "markdown",
      "source": [
        "## Tools\n",
        "\n",
        "### What is a Tool?\n",
        "\n",
        "In LangChain, **tools** are used when a language model needs to interact with an external system, like an API. Tools help the model understand how to communicate with these systems by providing the necessary input formats, such as schemas or payloads, instead of just natural language.\n",
        "\n",
        "For example, if you want the model to get weather information from a weather API, you would bind the API as a **tool**. The model will then know how to format its request according to the API's requirements and return the output in the correct format.\n",
        "\n",
        "### How Tools Work:\n",
        "1. **User Input**: The user asks the model for something, like \"What's the weather in New York?\"\n",
        "2. **Tool Call**: The model recognizes that it needs to use a tool (the weather API) and formats the request based on the tool's schema.\n",
        "3. **Tool Output**: The API returns the response, which the model then delivers back to the user.\n",
        "\n",
        "### Example:\n",
        "\n",
        "Let’s say we bind a weather API as a tool. The model will use it like this:\n",
        "\n",
        "- **User**: \"What's the weather in New York?\"\n",
        "- **Model (via tool)**: Calls the weather API with the correct schema.\n",
        "- **Tool output**: \"The weather in New York is 75°F and sunny.\"\n",
        "  \n",
        "### Using Tools in LangChain:\n",
        "\n",
        "In LangChain, integrating tools is simple. You can bind a Python function or external system to the model using `ChatModel.bind_tools()`.\n",
        "\n",
        "```python\n",
        "from langchain_core.models import ChatModel\n",
        "\n",
        "# Example of a tool (Python function)\n",
        "def get_weather(location):\n",
        "    return f\"The weather in {location} is 75°F and sunny.\"\n",
        "\n",
        "# Bind the tool to the model\n",
        "model = ChatModel.bind_tools(get_weather)\n",
        "\n",
        "# Use the tool in a conversation\n",
        "user_input = \"What is the weather in New York?\"\n",
        "output = model.run(user_input)\n",
        "print(output)  # The weather in New York is 75°F and sunny.\n",
        "```\n",
        "\n",
        "### Why Tools are Important:\n",
        "- **Extend model capabilities**: Tools allow language models to fetch real-time information or perform actions that go beyond text generation.\n",
        "- **Schema-based communication**: Tools ensure that models interact with external systems using the right format, making it more reliable.\n",
        "\n",
        "Many LLM providers support tool-calling, and LangChain makes it easy to bind tools to models and integrate them into conversations. This is particularly useful when dealing with APIs or other structured data formats.\n",
        "\n",
        "[Many LLM providers support tool calling](https://python.langchain.com/v0.1/docs/integrations/chat/) and [tool calling interface](https://blog.langchain.dev/improving-core-tool-interfaces-and-docs-in-langchain/) in LangChain is simple.\n",
        "\n",
        "You can simply pass any Python `function` into `ChatModel.bind_tools(function)`.\n",
        "\n",
        "![Screenshot 2024-08-19 at 7.46.28 PM.png](https://cdn.prod.website-files.com/65b8cd72835ceeacd4449a53/66dbab08dc1c17a7a57f9960_chain2.png)"
      ],
      "metadata": {
        "id": "7MUsAXQw4cBH"
      }
    },
    {
      "cell_type": "markdown",
      "source": [
        "This `multiply` function is our tool call"
      ],
      "metadata": {
        "id": "hj2y-XQ26zTY"
      }
    },
    {
      "cell_type": "code",
      "source": [
        "def multiply(a: int, b: int) -> int:\n",
        "    \"\"\"Multiply a and b.\n",
        "\n",
        "    Args:\n",
        "        a: first int\n",
        "        b: second int\n",
        "    \"\"\"\n",
        "    return a * b\n",
        "\n",
        "llm_with_tools = llm.bind_tools([multiply])"
      ],
      "metadata": {
        "colab": {
          "base_uri": "https://localhost:8080/"
        },
        "id": "benEOBys4W5g",
        "outputId": "5ec67f5a-d937-461f-a01a-9f0e559d1272"
      },
      "execution_count": null,
      "outputs": [
        {
          "output_type": "stream",
          "name": "stderr",
          "text": [
            "WARNING:langchain_google_genai._function_utils:Key 'title' is not supported in schema, ignoring\n",
            "WARNING:langchain_google_genai._function_utils:Key 'title' is not supported in schema, ignoring\n",
            "WARNING:langchain_google_genai._function_utils:Key 'title' is not supported in schema, ignoring\n"
          ]
        }
      ]
    },
    {
      "cell_type": "markdown",
      "source": [
        "If we pass an input - e.g., `\"What is 2 multiplied by 3\"` - we see a tool call returned.\n",
        "\n",
        "The tool call has specific arguments that match the input schema of our function along with the name of the function to call.\n",
        "\n",
        "```\n",
        "{'arguments': '{\"a\":2,\"b\":3}', 'name': 'multiply'}\n",
        "```"
      ],
      "metadata": {
        "id": "TmvmSvzY9Kqh"
      }
    },
    {
      "cell_type": "code",
      "source": [
        "function_call = llm_with_tools.invoke([HumanMessage(content=f\"What is 2 multiplied by 3\", name=\"Lance\")])\n",
        "function_call"
      ],
      "metadata": {
        "colab": {
          "base_uri": "https://localhost:8080/"
        },
        "id": "DpuwUflr9K8F",
        "outputId": "3a8825d5-8e63-4397-dbd0-cfe1448919ce"
      },
      "execution_count": null,
      "outputs": [
        {
          "output_type": "stream",
          "name": "stdout",
          "text": [
            "{'name': 'multiply', 'description': 'Multiply a and b.\\n\\n    Args:\\n        a: first int\\n        b: second int', 'parameters': {'type_': 6, 'description': 'Multiply a and b.\\n\\nArgs:\\n    a: first int\\n    b: second int', 'properties': {'a': {'type_': 3, 'format_': '', 'description': '', 'nullable': False, 'enum': [], 'max_items': '0', 'min_items': '0', 'properties': {}, 'required': []}, 'b': {'type_': 3, 'format_': '', 'description': '', 'nullable': False, 'enum': [], 'max_items': '0', 'min_items': '0', 'properties': {}, 'required': []}}, 'required': ['a', 'b'], 'format_': '', 'nullable': False, 'enum': [], 'max_items': '0', 'min_items': '0'}}\n"
          ]
        },
        {
          "output_type": "execute_result",
          "data": {
            "text/plain": [
              "AIMessage(content='', additional_kwargs={'function_call': {'name': 'multiply', 'arguments': '{\"a\": 2.0, \"b\": 3.0}'}}, response_metadata={'prompt_feedback': {'block_reason': 0, 'safety_ratings': []}, 'finish_reason': 'STOP', 'safety_ratings': [{'category': 'HARM_CATEGORY_SEXUALLY_EXPLICIT', 'probability': 'NEGLIGIBLE', 'blocked': False}, {'category': 'HARM_CATEGORY_HATE_SPEECH', 'probability': 'NEGLIGIBLE', 'blocked': False}, {'category': 'HARM_CATEGORY_HARASSMENT', 'probability': 'NEGLIGIBLE', 'blocked': False}, {'category': 'HARM_CATEGORY_DANGEROUS_CONTENT', 'probability': 'NEGLIGIBLE', 'blocked': False}]}, id='run-cb22bb89-f01a-4368-8f89-a58ecfa288e7-0', tool_calls=[{'name': 'multiply', 'args': {'a': 2.0, 'b': 3.0}, 'id': 'e7ff741f-6565-42f0-85ec-9cf317a8d5bf', 'type': 'tool_call'}], usage_metadata={'input_tokens': 71, 'output_tokens': 18, 'total_tokens': 89})"
            ]
          },
          "metadata": {},
          "execution_count": 14
        }
      ]
    },
    {
      "cell_type": "code",
      "source": [
        "function_call.additional_kwargs['function_call']"
      ],
      "metadata": {
        "colab": {
          "base_uri": "https://localhost:8080/"
        },
        "id": "88YBqO0j9g1H",
        "outputId": "77719f2d-0ca7-4e89-9735-0e9ad2bd927e"
      },
      "execution_count": null,
      "outputs": [
        {
          "output_type": "execute_result",
          "data": {
            "text/plain": [
              "{'name': 'multiply', 'arguments': '{\"a\": 2.0, \"b\": 3.0}'}"
            ]
          },
          "metadata": {},
          "execution_count": 15
        }
      ]
    },
    {
      "cell_type": "markdown",
      "source": [
        "## Using messages as state\n",
        "\n",
        "With these foundations in place, we can now use [`messages`](https://python.langchain.com/v0.2/docs/concepts/#messages) in our graph state.\n",
        "\n",
        "Let's define our state, `MessagesState`, as a `TypedDict` with a single key: `messages`.\n",
        "\n",
        "`messages` is simply a list of messages, as we defined above (e.g., `HumanMessage`, etc)."
      ],
      "metadata": {
        "id": "FOHp_xklAs0U"
      }
    },
    {
      "cell_type": "code",
      "source": [
        "from typing_extensions import TypedDict\n",
        "from langchain_core.messages import AnyMessage\n",
        "\n",
        "class MessagesState(TypedDict):\n",
        "    messages: list[AnyMessage]"
      ],
      "metadata": {
        "id": "0x_w1Bap9rFq"
      },
      "execution_count": null,
      "outputs": []
    },
    {
      "cell_type": "markdown",
      "source": [
        "## Reducers\n",
        "\n",
        "Now, we have a minor problem!\n",
        "\n",
        "As we discussed, each node will return a new value for our state key `messages`.\n",
        "\n",
        "But, this new value will [will override](https://langchain-ai.github.io/langgraph/concepts/low_level/#reducers) the prior `messages` value.\n",
        "\n",
        "As our graph runs, we want to **append** messages to our `messages` state key.\n",
        "\n",
        "We can use [reducer functions](https://langchain-ai.github.io/langgraph/concepts/low_level/#reducers) address this.\n",
        "\n",
        "Reducers allow us to specify how state updates are performed.\n",
        "\n",
        "If no reducer function is specified, then it is assumed that updates to the key should *override it* as we saw before.\n",
        "\n",
        "But, to append messages, we can use the pre-built `add_messages` reducer.\n",
        "\n",
        "This ensures that any messages are appended to the existing list of messages.\n",
        "\n",
        "We annotate simply need to annotate our `messages` key with the `add_messages` reducer function as metadata."
      ],
      "metadata": {
        "id": "ZSoqQC_7BINl"
      }
    },
    {
      "cell_type": "code",
      "source": [
        "from typing import Annotated\n",
        "from langgraph.graph.message import add_messages\n",
        "\n",
        "class MessagesState(TypedDict):\n",
        "    messages: Annotated[list[AnyMessage], add_messages]"
      ],
      "metadata": {
        "id": "w_OHIN3DBFMj"
      },
      "execution_count": null,
      "outputs": []
    },
    {
      "cell_type": "markdown",
      "source": [
        "Since having a list of messages in graph state is so common, LangGraph has a pre-built [`MessagesState`](https://langchain-ai.github.io/langgraph/concepts/low_level/#messagesstate)!\n",
        "\n",
        "`MessagesState` is defined:\n",
        "\n",
        "* With a pre-build single `messages` key\n",
        "* This is a list of `AnyMessage` objects\n",
        "* It uses the `add_messages` reducer\n",
        "\n",
        "We'll usually use `MessagesState` because it is less verbose than defining a custom `TypedDict`, as shown above."
      ],
      "metadata": {
        "id": "TQEnFCysCXWc"
      }
    },
    {
      "cell_type": "code",
      "source": [
        "from langgraph.graph import MessagesState\n",
        "\n",
        "class MessagesState(MessagesState):\n",
        "    # Add any keys needed beyond messages, which is pre-built\n",
        "    pass"
      ],
      "metadata": {
        "id": "tuMrLxW4CRC9"
      },
      "execution_count": null,
      "outputs": []
    },
    {
      "cell_type": "markdown",
      "source": [
        "To go a bit deeper, we can see how the `add_messages` reducer works in isolation."
      ],
      "metadata": {
        "id": "tJHb2G3hCgEr"
      }
    },
    {
      "cell_type": "code",
      "source": [
        "# Initial state\n",
        "initial_messages = [AIMessage(content=\"Hello! How can I assist you?\", name=\"Model\"),\n",
        "                    HumanMessage(content=\"I'm looking for information on marine biology.\", name=\"Lance\")\n",
        "                   ]\n",
        "\n",
        "# New message to add\n",
        "new_message = AIMessage(content=\"Sure, I can help with that. What specifically are you interested in?\", name=\"Model\")\n",
        "\n",
        "# Test\n",
        "add_messages(initial_messages , new_message)"
      ],
      "metadata": {
        "colab": {
          "base_uri": "https://localhost:8080/"
        },
        "id": "LJlm82_5CbqZ",
        "outputId": "fb894734-f553-4010-c9f4-48966c104572"
      },
      "execution_count": null,
      "outputs": [
        {
          "output_type": "execute_result",
          "data": {
            "text/plain": [
              "[AIMessage(content='Hello! How can I assist you?', additional_kwargs={}, response_metadata={}, name='Model', id='2aa6291e-b7e2-4e50-bbeb-7879f4952684'),\n",
              " HumanMessage(content=\"I'm looking for information on marine biology.\", additional_kwargs={}, response_metadata={}, name='Lance', id='5ab70ee6-aab1-49c4-847b-7d8d6015b360'),\n",
              " AIMessage(content='Sure, I can help with that. What specifically are you interested in?', additional_kwargs={}, response_metadata={}, name='Model', id='6016ad35-ba66-46bb-bd09-bc67cd7b6506')]"
            ]
          },
          "metadata": {},
          "execution_count": 19
        }
      ]
    },
    {
      "cell_type": "markdown",
      "source": [
        "## Our graph\n",
        "\n",
        "Now, lets use `MessagesState` with a graph."
      ],
      "metadata": {
        "id": "gFNXtR02DdzS"
      }
    },
    {
      "cell_type": "code",
      "source": [
        "from IPython.display import Image, display\n",
        "from langgraph.graph import StateGraph, START, END\n",
        "\n",
        "# Node\n",
        "def tool_calling_llm(state: MessagesState):\n",
        "    return {\"messages\": [llm_with_tools.invoke(state[\"messages\"])]}\n",
        "\n",
        "# Build graph\n",
        "builder = StateGraph(MessagesState)\n",
        "builder.add_node(\"tool_calling_llm\", tool_calling_llm)\n",
        "builder.add_edge(START, \"tool_calling_llm\")\n",
        "builder.add_edge(\"tool_calling_llm\", END)\n",
        "graph = builder.compile()\n",
        "\n",
        "# View\n",
        "display(Image(graph.get_graph().draw_mermaid_png()))"
      ],
      "metadata": {
        "colab": {
          "base_uri": "https://localhost:8080/",
          "height": 251
        },
        "id": "FAEQcWrwDT64",
        "outputId": "5edbfa98-1646-4cdf-aaa8-5ec827da6749"
      },
      "execution_count": null,
      "outputs": [
        {
          "output_type": "display_data",
          "data": {
            "image/jpeg": "[encoded data removed]",
            "text/plain": [
              "<IPython.core.display.Image object>"
            ]
          },
          "metadata": {}
        }
      ]
    },
    {
      "cell_type": "markdown",
      "source": [
        "If we pass in `Hello!`, the LLM responds without any tool calls."
      ],
      "metadata": {
        "id": "b0YC5alkDnEp"
      }
    },
    {
      "cell_type": "code",
      "source": [
        "messages = graph.invoke({\"messages\": HumanMessage(content=\"Hello!\")})\n",
        "for m in messages['messages']:\n",
        "    m.pretty_print()"
      ],
      "metadata": {
        "colab": {
          "base_uri": "https://localhost:8080/"
        },
        "id": "0-3HpXD9DhfI",
        "outputId": "87f08181-af21-448d-8fc2-b66a59369dc7"
      },
      "execution_count": null,
      "outputs": [
        {
          "output_type": "stream",
          "name": "stdout",
          "text": [
            "{'name': 'multiply', 'description': 'Multiply a and b.\\n\\n    Args:\\n        a: first int\\n        b: second int', 'parameters': {'type_': 6, 'description': 'Multiply a and b.\\n\\nArgs:\\n    a: first int\\n    b: second int', 'properties': {'a': {'type_': 3, 'format_': '', 'description': '', 'nullable': False, 'enum': [], 'max_items': '0', 'min_items': '0', 'properties': {}, 'required': []}, 'b': {'type_': 3, 'format_': '', 'description': '', 'nullable': False, 'enum': [], 'max_items': '0', 'min_items': '0', 'properties': {}, 'required': []}}, 'required': ['a', 'b'], 'format_': '', 'nullable': False, 'enum': [], 'max_items': '0', 'min_items': '0'}}\n",
            "================================\u001b[1m Human Message \u001b[0m=================================\n",
            "\n",
            "Hello!\n",
            "==================================\u001b[1m Ai Message \u001b[0m==================================\n",
            "\n",
            "Hello! 👋 How can I help you today?\n"
          ]
        }
      ]
    },
    {
      "cell_type": "code",
      "source": [
        "messages = graph.invoke({\"messages\": HumanMessage(content=\"Multiply 2 and 3\")})\n",
        "for m in messages['messages']:\n",
        "    m.pretty_print()"
      ],
      "metadata": {
        "colab": {
          "base_uri": "https://localhost:8080/"
        },
        "id": "36v-OToODpVn",
        "outputId": "00249758-89e7-49ad-886f-6b5595e2ba0e"
      },
      "execution_count": null,
      "outputs": [
        {
          "output_type": "stream",
          "name": "stdout",
          "text": [
            "{'name': 'multiply', 'description': 'Multiply a and b.\\n\\n    Args:\\n        a: first int\\n        b: second int', 'parameters': {'type_': 6, 'description': 'Multiply a and b.\\n\\nArgs:\\n    a: first int\\n    b: second int', 'properties': {'a': {'type_': 3, 'format_': '', 'description': '', 'nullable': False, 'enum': [], 'max_items': '0', 'min_items': '0', 'properties': {}, 'required': []}, 'b': {'type_': 3, 'format_': '', 'description': '', 'nullable': False, 'enum': [], 'max_items': '0', 'min_items': '0', 'properties': {}, 'required': []}}, 'required': ['a', 'b'], 'format_': '', 'nullable': False, 'enum': [], 'max_items': '0', 'min_items': '0'}}\n",
            "================================\u001b[1m Human Message \u001b[0m=================================\n",
            "\n",
            "Multiply 2 and 3\n",
            "==================================\u001b[1m Ai Message \u001b[0m==================================\n",
            "Tool Calls:\n",
            "  multiply (5937c612-86b0-431c-9dde-255c423e005b)\n",
            " Call ID: 5937c612-86b0-431c-9dde-255c423e005b\n",
            "  Args:\n",
            "    b: 3.0\n",
            "    a: 2.0\n"
          ]
        }
      ]
    },
    {
      "cell_type": "markdown",
      "source": [
        "# Router\n",
        "\n",
        "### What is a Router in LangGraph?\n",
        "\n",
        "In LangGraph, a **Router** is a mechanism that decides whether a language model should respond directly to the user or call a tool to provide the answer. This decision is based on the user’s input, so the model can \"route\" between two actions:\n",
        "1. **Returning a natural language response**.\n",
        "2. **Calling a tool** (like an API) to gather more information before responding.\n",
        "\n",
        "### Example:\n",
        "\n",
        "Imagine you're interacting with an AI, and you ask:\n",
        "- **User**: \"What is the weather in New York?\"\n",
        "\n",
        "The **Router** can:\n",
        "- Either **return a direct response**: \"The weather is nice today.\"\n",
        "- Or **call a weather tool** to get real-time data from an API and return a more accurate answer: \"It’s 75°F and sunny in New York.\"\n",
        "\n",
        "### Goals of a Router:\n",
        "\n",
        "1. **Call a tool** when the user asks for external information.\n",
        "2. **Respond naturally** when the information is already available.\n",
        "\n",
        "\n",
        "### Extending the Graph:\n",
        "\n",
        "To make the router work effectively, you need to add two key components:\n",
        "\n",
        "1. **Node for calling the tool**: This node in the graph will represent where the model goes if it needs to call a tool, like a weather API.\n",
        "   \n",
        "2. **Conditional edge**: This edge will check the model’s output. If the model decides to call a tool, it routes the flow to the tool node; otherwise, it ends with a direct response.\n",
        "\n",
        "### Example in Action:\n",
        "\n",
        "1. **User**: \"What’s the capital of France?\"\n",
        "   - Since the model knows this answer, it returns a **direct response**: \"The capital of France is Paris.\"\n",
        "\n",
        "2. **User**: \"What’s the current weather in Paris?\"\n",
        "   - The router recognizes that it doesn’t have the current weather information, so it **calls the weather API tool** and returns: \"It’s 68°F and cloudy in Paris.\"\n",
        "\n",
        "\n",
        "### Visualization:\n",
        "\n",
        "Imagine a flowchart (like the one in the image):\n",
        "- At the top is the **user input**.\n",
        "- The **router** decides whether to follow the path to a **direct response** or to call a **tool**.\n",
        "- If it’s a tool call, the tool provides the needed information, and then the model gives the final response to the user.\n",
        "\n",
        "---\n",
        "\n",
        "### Who Decides the Path?\n",
        "\n",
        "The **LLM (Large Language Model)** doesn’t directly decide the path. Instead, it generates an output based on the user's input. The **edges** in LangGraph decide the path by interpreting that output and routing the conversation flow.\n",
        "\n",
        "### LLM's Role\n",
        "\n",
        "- The LLM processes the user's input and creates an **output**.\n",
        "- This output can either be a **direct response** or an indication that a tool (like an API) needs to be called.\n",
        "\n",
        "### Edges' Role\n",
        "\n",
        "- The edges evaluate the LLM's output and make the decision:\n",
        "  - If the LLM can answer directly, the edge routes the flow to a **response node**.\n",
        "  - If a tool is needed, the edge directs the flow to a **tool-calling node**.\n",
        "\n",
        "### Example\n",
        "\n",
        "1. **User**: \"What's the weather in New York?\"\n",
        "2. **LLM Output**: \"I need to call a weather API tool.\"\n",
        "3. **Edges**: Detect that a tool call is needed and route to the tool node.\n",
        "4. **Tool**: Calls the weather API and returns the information.\n",
        "\n",
        "### Summary\n",
        "\n",
        "- **LLM**: Generates the output.\n",
        "- **Edges**: Decide whether to respond directly or call a tool.\n",
        "\n",
        "The edges ensure that the flow of the conversation is properly managed based on the LLM's output."
      ],
      "metadata": {
        "id": "MyE-Gr5KL7SJ"
      }
    },
    {
      "cell_type": "markdown",
      "source": [
        "This is an simple example of an agent, where the LLM is directing the control flow either by calling a tool or just responding directly.\n",
        "\n",
        "![Screenshot 2024-08-21 at 9.24.09 AM.png](https://cdn.prod.website-files.com/65b8cd72835ceeacd4449a53/66dbac6543c3d4df239a4ed1_router1.png)\n",
        "\n",
        "Let's extend our graph to work with either output!"
      ],
      "metadata": {
        "id": "fixTsV2pRlt3"
      }
    },
    {
      "cell_type": "code",
      "source": [
        "from langchain_google_genai import ChatGoogleGenerativeAI\n",
        "\n",
        "def multiply(a: int, b: int) -> int:\n",
        "    \"\"\"Multiply a and b.\n",
        "\n",
        "    Args:\n",
        "        a: first int\n",
        "        b: second int\n",
        "    \"\"\"\n",
        "    return a * b\n",
        "\n",
        "llm = ChatGoogleGenerativeAI(model=\"gemini-1.5-flash\")\n",
        "llm_with_tools = llm.bind_tools([multiply])"
      ],
      "metadata": {
        "colab": {
          "base_uri": "https://localhost:8080/"
        },
        "id": "ihkSnq-WDumC",
        "outputId": "cb0bc48b-4931-4406-b56d-cca38f322961"
      },
      "execution_count": null,
      "outputs": [
        {
          "output_type": "stream",
          "name": "stderr",
          "text": [
            "WARNING:langchain_google_genai._function_utils:Key 'title' is not supported in schema, ignoring\n",
            "WARNING:langchain_google_genai._function_utils:Key 'title' is not supported in schema, ignoring\n",
            "WARNING:langchain_google_genai._function_utils:Key 'title' is not supported in schema, ignoring\n"
          ]
        }
      ]
    },
    {
      "cell_type": "markdown",
      "source": [
        " We use the [built-in `ToolNode`](https://langchain-ai.github.io/langgraph/reference/prebuilt/?h=tools+condition#toolnode) and simply pass a list of our tools to initialize it.\n",
        "\n",
        " We use the [built-in `tools_condition`](https://langchain-ai.github.io/langgraph/reference/prebuilt/?h=tools+condition#tools_condition) as our conditional edge."
      ],
      "metadata": {
        "id": "kF_VSJwrTATr"
      }
    },
    {
      "cell_type": "code",
      "source": [
        "from IPython.display import Image, display\n",
        "from langgraph.graph import StateGraph, START, END\n",
        "from langgraph.graph import MessagesState\n",
        "from langgraph.prebuilt import ToolNode\n",
        "from langgraph.prebuilt import tools_condition\n",
        "\n",
        "# Node\n",
        "def tool_calling_llm(state: MessagesState):\n",
        "    return {\"messages\": [llm_with_tools.invoke(state[\"messages\"])]}\n",
        "\n",
        "# Build graph\n",
        "builder = StateGraph(MessagesState)\n",
        "\n",
        "# Add Nodes\n",
        "builder.add_node(\"tool_calling_llm\", tool_calling_llm)\n",
        "builder.add_node(\"tools\", ToolNode([multiply]))\n",
        "\n",
        "# Add Edges\n",
        "builder.add_edge(START, \"tool_calling_llm\")\n",
        "builder.add_conditional_edges(\n",
        "    \"tool_calling_llm\",\n",
        "    # If the latest message (result) from assistant is a tool call -> tools_condition routes to tools\n",
        "    # If the latest message (result) from assistant is a not a tool call -> tools_condition routes to END\n",
        "    tools_condition,\n",
        ")\n",
        "builder.add_edge(\"tools\", END)\n",
        "graph = builder.compile()\n",
        "\n",
        "# View\n",
        "display(Image(graph.get_graph().draw_mermaid_png()))"
      ],
      "metadata": {
        "colab": {
          "base_uri": "https://localhost:8080/",
          "height": 350
        },
        "id": "VtlzV78aS6Bh",
        "outputId": "6b2b3050-6e9e-4836-834d-bec968804254"
      },
      "execution_count": null,
      "outputs": [
        {
          "output_type": "display_data",
          "data": {
            "image/jpeg": "[encoded data removed]",
            "text/plain": [
              "<IPython.core.display.Image object>"
            ]
          },
          "metadata": {}
        }
      ]
    },
    {
      "cell_type": "code",
      "source": [
        "from langchain_core.messages import HumanMessage\n",
        "messages = [HumanMessage(content=\"Hello world.\")]\n",
        "messages = graph.invoke({\"messages\": messages})\n",
        "for m in messages['messages']:\n",
        "    m.pretty_print()"
      ],
      "metadata": {
        "colab": {
          "base_uri": "https://localhost:8080/"
        },
        "id": "u07s0gloVa7o",
        "outputId": "3841be72-28bd-41c2-90c5-261812a8d524"
      },
      "execution_count": null,
      "outputs": [
        {
          "output_type": "stream",
          "name": "stdout",
          "text": [
            "{'name': 'multiply', 'description': 'Multiply a and b.\\n\\n    Args:\\n        a: first int\\n        b: second int', 'parameters': {'type_': 6, 'description': 'Multiply a and b.\\n\\nArgs:\\n    a: first int\\n    b: second int', 'properties': {'b': {'type_': 3, 'format_': '', 'description': '', 'nullable': False, 'enum': [], 'max_items': '0', 'min_items': '0', 'properties': {}, 'required': []}, 'a': {'type_': 3, 'format_': '', 'description': '', 'nullable': False, 'enum': [], 'max_items': '0', 'min_items': '0', 'properties': {}, 'required': []}}, 'required': ['a', 'b'], 'format_': '', 'nullable': False, 'enum': [], 'max_items': '0', 'min_items': '0'}}\n",
            "================================\u001b[1m Human Message \u001b[0m=================================\n",
            "\n",
            "Hello world.\n",
            "==================================\u001b[1m Ai Message \u001b[0m==================================\n",
            "\n",
            "Hello! How can I help you today?\n"
          ]
        }
      ]
    },
    {
      "cell_type": "code",
      "source": [
        "from langchain_core.messages import HumanMessage\n",
        "messages = [HumanMessage(content=\"Multiply 2 and 3.\")]\n",
        "messages = graph.invoke({\"messages\": messages})\n",
        "for m in messages['messages']:\n",
        "    m.pretty_print()"
      ],
      "metadata": {
        "colab": {
          "base_uri": "https://localhost:8080/"
        },
        "id": "leuNkvKSVmgz",
        "outputId": "3eb6cf82-0945-4b43-9b82-38348ba9585c"
      },
      "execution_count": null,
      "outputs": [
        {
          "output_type": "stream",
          "name": "stdout",
          "text": [
            "{'name': 'multiply', 'description': 'Multiply a and b.\\n\\n    Args:\\n        a: first int\\n        b: second int', 'parameters': {'type_': 6, 'description': 'Multiply a and b.\\n\\nArgs:\\n    a: first int\\n    b: second int', 'properties': {'b': {'type_': 3, 'format_': '', 'description': '', 'nullable': False, 'enum': [], 'max_items': '0', 'min_items': '0', 'properties': {}, 'required': []}, 'a': {'type_': 3, 'format_': '', 'description': '', 'nullable': False, 'enum': [], 'max_items': '0', 'min_items': '0', 'properties': {}, 'required': []}}, 'required': ['a', 'b'], 'format_': '', 'nullable': False, 'enum': [], 'max_items': '0', 'min_items': '0'}}\n",
            "================================\u001b[1m Human Message \u001b[0m=================================\n",
            "\n",
            "Multiply 2 and 3.\n",
            "==================================\u001b[1m Ai Message \u001b[0m==================================\n",
            "Tool Calls:\n",
            "  multiply (11e5d788-abc9-4f0d-ba51-b04d53dce316)\n",
            " Call ID: 11e5d788-abc9-4f0d-ba51-b04d53dce316\n",
            "  Args:\n",
            "    a: 2.0\n",
            "    b: 3.0\n",
            "=================================\u001b[1m Tool Message \u001b[0m=================================\n",
            "Name: multiply\n",
            "\n",
            "6\n"
          ]
        }
      ]
    },
    {
      "cell_type": "markdown",
      "source": [
        "# Agents:\n",
        "\n",
        "## Review\n",
        "\n",
        "We built a router.\n",
        "\n",
        "* Our chat model will decide to make a tool call or not based upon the user input\n",
        "* We use a conditional edge to route to a node that will call our tool or simply end\n",
        "\n",
        "![Screenshot 2024-08-21 at 12.44.33 PM.png](https://cdn.prod.website-files.com/65b8cd72835ceeacd4449a53/66dbac0ba0bd34b541c448cc_agent1.png)\n",
        "## Goals\n",
        "\n",
        "Now, we can extend this into a generic agent architecture.\n",
        "\n",
        "In the above router, we invoked the model and, if it chose to call a tool, we returned a `ToolMessage` to the user.\n",
        "\n",
        "But, what if we simply pass that `ToolMessage` *back to the model*?\n",
        "\n",
        "We can let it either (1) call another tool or (2) respond directly.\n",
        "\n",
        "This is the intuition behind [ReAct](https://react-lm.github.io/), a general agent architecture.\n",
        "  \n",
        "* `act` - let the model call specific tools\n",
        "* `observe` - pass the tool output back to the model\n",
        "* `reason` - let the model reason about the tool output to decide what to do next (e.g., call another tool or just respond directly)\n",
        "\n",
        "This [general purpose architecture](https://blog.langchain.dev/planning-for-agents/) can be applied to many types of tools.\n",
        "\n",
        "![Screenshot 2024-08-21 at 12.45.43 PM.png](https://cdn.prod.website-files.com/65b8cd72835ceeacd4449a53/66dbac0b4a2c1e5e02f3e78b_agent2.png)\n",
        "\n",
        "\n",
        "## What is the ReAct Agent Architecture?\n",
        "\n",
        "The **ReAct architecture** stands for **Reasoning and Acting**. It is designed to allow AI models to:\n",
        "\n",
        "1. **Act**: The model calls a specific tool (e.g., to look up information).\n",
        "2. **Observe**: It gets back the output from the tool.\n",
        "3. **Reason**: It then thinks about what to do next—whether to call another tool or provide a final response.\n",
        "\n",
        "The ReAct process helps the model decide how to continue based on the information it gathers.\n",
        "\n",
        "---\n",
        "\n",
        "### Core Steps in ReAct\n",
        "\n",
        "- **Act**: The model calls tools based on the task at hand.\n",
        "- **Observe**: The model gets the tool's output and understands what has changed or been learned.\n",
        "- **Reason**: The model analyzes the tool’s output and decides whether to call another tool or respond to the user.\n",
        "\n",
        "---\n",
        "\n",
        "### Example 1: Weather and Restaurant Recommendation\n",
        "\n",
        "Let’s start with an easy example:\n",
        "\n",
        "- **User**: “Can you tell me the weather in Paris and suggest a good café nearby?”\n",
        "\n",
        "**Step 1: Act**\n",
        "\n",
        "The agent will act by calling a **Weather API tool** to get the weather in Paris.\n",
        "\n",
        "- **Agent** calls the weather tool:\n",
        "  - **Tool Output**: “It’s 22°C and sunny in Paris.”\n",
        "\n",
        "**Step 2: Observe**\n",
        "\n",
        "The agent observes the tool's output and sees that it now has the weather information.\n",
        "\n",
        "**Step 3: Reason**\n",
        "\n",
        "The agent now reasons, thinking: \"Okay, I got the weather. But I also need to find cafés.\"\n",
        "\n",
        "- The agent **calls** another tool, such as **Google Maps** to find nearby cafés.\n",
        "  - **Tool Output**: “Here are three cafés: Café de Paris, Le Bistro, and La Terrasse.”\n",
        "\n",
        "Finally, the agent **responds** to the user with both pieces of information:\n",
        "\n",
        "- **Agent**: “It’s 22°C and sunny in Paris. Here are three cafés nearby: Café de Paris, Le Bistro, and La Terrasse.”\n",
        "\n",
        "---\n",
        "\n",
        "### Example 2: Meeting Planning with Traffic and Weather\n",
        "\n",
        "Let’s make it a bit more complex. Imagine you want to know if you'll be able to make it to your meeting on time given the current traffic and weather conditions.\n",
        "\n",
        "- **User**: “I have a meeting in two hours. Can you check the quickest route and tell me if it will rain?”\n",
        "\n",
        "**Step 1: Act**\n",
        "\n",
        "The agent will act by first using a **Maps API** to find the fastest route.\n",
        "\n",
        "- **Agent** calls the Maps API tool:\n",
        "  - **Tool Output**: “The fastest route to your meeting is via Main St. It will take 45 minutes.”\n",
        "\n",
        "**Step 2: Observe**\n",
        "\n",
        "The agent now observes that it has the route information but still needs weather details.\n",
        "\n",
        "**Step 3: Reason**\n",
        "\n",
        "The agent reasons that it also needs to know if it will rain, so it calls a **Weather API tool**.\n",
        "\n",
        "- **Tool Output**: “It will start raining in 1 hour.”\n",
        "\n",
        "Now the agent combines both outputs and gives you the final response:\n",
        "\n",
        "- **Agent**: “The fastest route to your meeting is via Main St. It will take 45 minutes, but it will start raining in 1 hour. You should leave soon and take an umbrella!”\n",
        "\n",
        "---\n",
        "\n",
        "## Key Points to Remember\n",
        "\n",
        "- **Act**: The agent makes decisions to call tools based on the query.\n",
        "- **Observe**: It gathers and processes tool outputs.\n",
        "- **Reason**: It evaluates the output and decides the next action—whether to call another tool or respond.\n",
        "\n",
        "---\n",
        "\n",
        "### How the ReAct Architecture Enhances AI Agents\n",
        "\n",
        "- **Efficiency**: The agent doesn't waste time or resources—it only calls tools as needed.\n",
        "- **Flexibility**: It can handle complex, multi-step queries like those we saw in the examples.\n",
        "- **Modularity**: The architecture is flexible enough to add new tools easily as the system evolves.\n",
        "\n",
        "---\n",
        "\n",
        "### Practical Application Exercise\n",
        "\n",
        "Now, let’s apply the ReAct architecture in a real-world case:\n",
        "\n",
        "1. **User**: “Can you find the nearest pharmacy and tell me if it’s open?”\n",
        "\n",
        "2. **Act**: The agent first calls a Maps API to find nearby pharmacies.\n",
        "   - **Tool Output**: “The nearest pharmacy is CityPharma.”\n",
        "\n",
        "3. **Observe**: The agent has the pharmacy name but needs to check if it’s open.\n",
        "\n",
        "4. **Reason**: The agent calls a **Business Hours API** to check the opening hours.\n",
        "   - **Tool Output**: “CityPharma is open until 8 PM today.”\n",
        "\n",
        "5. **Response**: “The nearest pharmacy is CityPharma, and it’s open until 8 PM today.”\n",
        "\n",
        "\n"
      ],
      "metadata": {
        "id": "-iDhswZhhLHn"
      }
    },
    {
      "cell_type": "code",
      "source": [
        "%%capture --no-stderr\n",
        "%pip install --quiet -U langchain_google_genai langchain_core langgraph"
      ],
      "metadata": {
        "id": "SGaVGbQQV9c9"
      },
      "execution_count": null,
      "outputs": []
    },
    {
      "cell_type": "code",
      "source": [
        "import os, getpass\n",
        "\n",
        "def _set_env(var: str):\n",
        "    if not os.environ.get(var):\n",
        "        os.environ[var] = getpass.getpass(f\"{var}: \")\n",
        "\n",
        "_set_env(\"GEMINI_API_KEY\")"
      ],
      "metadata": {
        "colab": {
          "base_uri": "https://localhost:8080/"
        },
        "id": "tAXfys1cy4mz",
        "outputId": "19bbdba8-f2f3-470d-dfc3-e98fcf213d00"
      },
      "execution_count": null,
      "outputs": [
        {
          "name": "stdout",
          "output_type": "stream",
          "text": [
            "GEMINI_API_KEY: ··········\n"
          ]
        }
      ]
    },
    {
      "cell_type": "markdown",
      "source": [
        "Here, we'll use [LangSmith](https://docs.smith.langchain.com/) for [tracing](https://docs.smith.langchain.com/concepts/tracing).\n",
        "\n",
        "We'll log to a project, `langchain-academy`."
      ],
      "metadata": {
        "id": "2o9wjzzU0MBo"
      }
    },
    {
      "cell_type": "code",
      "source": [
        "from google.colab import userdata\n",
        "langsmith_key = userdata.get('LANGCHAIN_API_KEY')"
      ],
      "metadata": {
        "id": "BotIBEwp0lE3"
      },
      "execution_count": null,
      "outputs": []
    },
    {
      "cell_type": "code",
      "source": [
        "os.environ[\"LANGCHAIN_API_KEY\"] = langsmith_key\n",
        "os.environ[\"LANGCHAIN_TRACING_V2\"] = \"true\"\n",
        "os.environ[\"LANGCHAIN_PROJECT\"] = \"langchain-academy\""
      ],
      "metadata": {
        "id": "M7L-JixczW1b"
      },
      "execution_count": null,
      "outputs": []
    },
    {
      "cell_type": "markdown",
      "source": [
        "**Note:** Obtain the necessary json key from the Google Cloud Console by following the instructions outlined in step 21_langchain_ecosystem/langchain/-01_gemini_standalone/Gemini_API_python.ipynb file. Once acquired, load the json key in Google Colab to proceed with the project."
      ],
      "metadata": {
        "id": "XrBWkFCq1Nq1"
      }
    },
    {
      "cell_type": "code",
      "source": [
        "import os\n",
        "os.environ[\"GOOGLE_APPLICATION_CREDENTIALS\"] = \"/content/newkey.json\""
      ],
      "metadata": {
        "id": "C3s-XCCE0QtT"
      },
      "execution_count": null,
      "outputs": []
    },
    {
      "cell_type": "code",
      "source": [
        "from langchain_google_genai import ChatGoogleGenerativeAI\n",
        "\n",
        "def multiply(a: int, b: int) -> int:\n",
        "    \"\"\"Multiply a and b.\n",
        "\n",
        "    Args:\n",
        "        a: first int\n",
        "        b: second int\n",
        "    \"\"\"\n",
        "    return a * b\n",
        "\n",
        "# This will be a tool\n",
        "def add(a: int, b: int) -> int:\n",
        "    \"\"\"Adds a and b.\n",
        "\n",
        "    Args:\n",
        "        a: first int\n",
        "        b: second int\n",
        "    \"\"\"\n",
        "    return a + b\n",
        "\n",
        "def divide(a: int, b: int) -> float:\n",
        "    \"\"\"Divide a and b.\n",
        "\n",
        "    Args:\n",
        "        a: first int\n",
        "        b: second int\n",
        "    \"\"\"\n",
        "    return a / b\n",
        "\n",
        "tools = [add, multiply, divide]\n",
        "llm = ChatGoogleGenerativeAI(model=\"gemini-1.5-flash\")\n",
        "llm_with_tools = llm.bind_tools(tools)"
      ],
      "metadata": {
        "colab": {
          "base_uri": "https://localhost:8080/"
        },
        "id": "gq8EEyBp3Nw4",
        "outputId": "a5ba33aa-5a21-4ecc-9052-815d960ce741"
      },
      "execution_count": null,
      "outputs": [
        {
          "output_type": "stream",
          "name": "stderr",
          "text": [
            "WARNING:langchain_google_genai._function_utils:Key 'title' is not supported in schema, ignoring\n",
            "WARNING:langchain_google_genai._function_utils:Key 'title' is not supported in schema, ignoring\n",
            "WARNING:langchain_google_genai._function_utils:Key 'title' is not supported in schema, ignoring\n",
            "WARNING:langchain_google_genai._function_utils:Key 'title' is not supported in schema, ignoring\n",
            "WARNING:langchain_google_genai._function_utils:Key 'title' is not supported in schema, ignoring\n",
            "WARNING:langchain_google_genai._function_utils:Key 'title' is not supported in schema, ignoring\n",
            "WARNING:langchain_google_genai._function_utils:Key 'title' is not supported in schema, ignoring\n",
            "WARNING:langchain_google_genai._function_utils:Key 'title' is not supported in schema, ignoring\n",
            "WARNING:langchain_google_genai._function_utils:Key 'title' is not supported in schema, ignoring\n"
          ]
        }
      ]
    },
    {
      "cell_type": "markdown",
      "source": [
        "Let's create our LLM and prompt it with the overall desired agent behavior."
      ],
      "metadata": {
        "id": "pDj2udsV3fiC"
      }
    },
    {
      "cell_type": "code",
      "source": [
        "from langgraph.graph import MessagesState\n",
        "from langchain_core.messages import HumanMessage, SystemMessage\n",
        "\n",
        "# System message\n",
        "sys_msg = SystemMessage(content=\"You are a helpful assistant tasked with performing arithmetic on a set of inputs.\")\n",
        "\n",
        "# Node\n",
        "def assistant(state: MessagesState):\n",
        "   return {\"messages\": [llm_with_tools.invoke([sys_msg] + state[\"messages\"])]}"
      ],
      "metadata": {
        "id": "54txqV8P3fGt"
      },
      "execution_count": null,
      "outputs": []
    },
    {
      "cell_type": "markdown",
      "source": [
        "As before, we use `MessagesState` and define a `Tools` node with our list of tools.\n",
        "\n",
        "The `Assistant` node is just our model with bound tools.\n",
        "\n",
        "We create a graph with `Assistant` and `Tools` nodes.\n",
        "\n",
        "We add `tools_condition` edge, which routes to `End` or to `Tools` based on  whether the `Assistant` calls a tool.\n",
        "\n",
        "Now, we add one new step:\n",
        "\n",
        "We connect the `Tools` node *back* to the `Assistant`, forming a loop.\n",
        "\n",
        "* After the `assistant` node executes, `tools_condition` checks if the model's output is a tool call.\n",
        "* If it is a tool call, the flow is directed to the `tools` node.\n",
        "* The `tools` node connects back to `assistant`.\n",
        "* This loop continues as long as the model decides to call tools.\n",
        "* If the model response is not a tool call, the flow is directed to END, terminating the process."
      ],
      "metadata": {
        "id": "9CUCiOuN3wbP"
      }
    },
    {
      "cell_type": "code",
      "source": [
        "from langgraph.graph import START, StateGraph\n",
        "from langgraph.prebuilt import tools_condition\n",
        "from langgraph.prebuilt import ToolNode\n",
        "from IPython.display import Image, display\n",
        "\n",
        "# Graph\n",
        "builder = StateGraph(MessagesState)\n",
        "\n",
        "# Define nodes: these do the work\n",
        "builder.add_node(\"assistant\", assistant)\n",
        "builder.add_node(\"tools\", ToolNode(tools))\n",
        "\n",
        "# Define edges: these determine how the control flow moves\n",
        "builder.add_edge(START, \"assistant\")\n",
        "builder.add_conditional_edges(\n",
        "    \"assistant\",\n",
        "    # If the latest message (result) from assistant is a tool call -> tools_condition routes to tools\n",
        "    # If the latest message (result) from assistant is a not a tool call -> tools_condition routes to END\n",
        "    tools_condition,\n",
        ")\n",
        "builder.add_edge(\"tools\", \"assistant\")\n",
        "react_graph = builder.compile()\n",
        "\n",
        "# Show\n",
        "display(Image(react_graph.get_graph(xray=True).draw_mermaid_png()))"
      ],
      "metadata": {
        "colab": {
          "base_uri": "https://localhost:8080/",
          "height": 266
        },
        "id": "Fk4L8HZM3qdB",
        "outputId": "e04ad1c0-caba-4bde-ff93-f6bbc7f83496"
      },
      "execution_count": null,
      "outputs": [
        {
          "output_type": "display_data",
          "data": {
            "image/jpeg": "[encoded data removed]",
            "text/plain": [
              "<IPython.core.display.Image object>"
            ]
          },
          "metadata": {}
        }
      ]
    },
    {
      "cell_type": "code",
      "source": [
        "messages = [HumanMessage(content=\"Add 3 and 4. Multiply the output by 2. Divide the output by 5\")]\n",
        "messages = react_graph.invoke({\"messages\": messages})"
      ],
      "metadata": {
        "colab": {
          "base_uri": "https://localhost:8080/"
        },
        "id": "d7kARD0V5Cfy",
        "outputId": "b52e5307-aaa0-42ca-bcb3-6f4e8fb30acd"
      },
      "execution_count": null,
      "outputs": [
        {
          "output_type": "stream",
          "name": "stdout",
          "text": [
            "{'name': 'add', 'description': 'Adds a and b.\\n\\n    Args:\\n        a: first int\\n        b: second int', 'parameters': {'type_': 6, 'description': 'Adds a and b.\\n\\nArgs:\\n    a: first int\\n    b: second int', 'properties': {'b': {'type_': 3, 'format_': '', 'description': '', 'nullable': False, 'enum': [], 'max_items': '0', 'min_items': '0', 'properties': {}, 'required': []}, 'a': {'type_': 3, 'format_': '', 'description': '', 'nullable': False, 'enum': [], 'max_items': '0', 'min_items': '0', 'properties': {}, 'required': []}}, 'required': ['a', 'b'], 'format_': '', 'nullable': False, 'enum': [], 'max_items': '0', 'min_items': '0'}}\n",
            "{'name': 'multiply', 'description': 'Multiply a and b.\\n\\n    Args:\\n        a: first int\\n        b: second int', 'parameters': {'type_': 6, 'description': 'Multiply a and b.\\n\\nArgs:\\n    a: first int\\n    b: second int', 'properties': {'a': {'type_': 3, 'format_': '', 'description': '', 'nullable': False, 'enum': [], 'max_items': '0', 'min_items': '0', 'properties': {}, 'required': []}, 'b': {'type_': 3, 'format_': '', 'description': '', 'nullable': False, 'enum': [], 'max_items': '0', 'min_items': '0', 'properties': {}, 'required': []}}, 'required': ['a', 'b'], 'format_': '', 'nullable': False, 'enum': [], 'max_items': '0', 'min_items': '0'}}\n",
            "{'name': 'divide', 'description': 'Divide a and b.\\n\\n    Args:\\n        a: first int\\n        b: second int', 'parameters': {'type_': 6, 'description': 'Divide a and b.\\n\\nArgs:\\n    a: first int\\n    b: second int', 'properties': {'b': {'type_': 3, 'format_': '', 'description': '', 'nullable': False, 'enum': [], 'max_items': '0', 'min_items': '0', 'properties': {}, 'required': []}, 'a': {'type_': 3, 'format_': '', 'description': '', 'nullable': False, 'enum': [], 'max_items': '0', 'min_items': '0', 'properties': {}, 'required': []}}, 'required': ['a', 'b'], 'format_': '', 'nullable': False, 'enum': [], 'max_items': '0', 'min_items': '0'}}\n",
            "{'name': 'add', 'description': 'Adds a and b.\\n\\n    Args:\\n        a: first int\\n        b: second int', 'parameters': {'type_': 6, 'description': 'Adds a and b.\\n\\nArgs:\\n    a: first int\\n    b: second int', 'properties': {'b': {'type_': 3, 'format_': '', 'description': '', 'nullable': False, 'enum': [], 'max_items': '0', 'min_items': '0', 'properties': {}, 'required': []}, 'a': {'type_': 3, 'format_': '', 'description': '', 'nullable': False, 'enum': [], 'max_items': '0', 'min_items': '0', 'properties': {}, 'required': []}}, 'required': ['a', 'b'], 'format_': '', 'nullable': False, 'enum': [], 'max_items': '0', 'min_items': '0'}}\n",
            "{'name': 'multiply', 'description': 'Multiply a and b.\\n\\n    Args:\\n        a: first int\\n        b: second int', 'parameters': {'type_': 6, 'description': 'Multiply a and b.\\n\\nArgs:\\n    a: first int\\n    b: second int', 'properties': {'a': {'type_': 3, 'format_': '', 'description': '', 'nullable': False, 'enum': [], 'max_items': '0', 'min_items': '0', 'properties': {}, 'required': []}, 'b': {'type_': 3, 'format_': '', 'description': '', 'nullable': False, 'enum': [], 'max_items': '0', 'min_items': '0', 'properties': {}, 'required': []}}, 'required': ['a', 'b'], 'format_': '', 'nullable': False, 'enum': [], 'max_items': '0', 'min_items': '0'}}\n",
            "{'name': 'divide', 'description': 'Divide a and b.\\n\\n    Args:\\n        a: first int\\n        b: second int', 'parameters': {'type_': 6, 'description': 'Divide a and b.\\n\\nArgs:\\n    a: first int\\n    b: second int', 'properties': {'b': {'type_': 3, 'format_': '', 'description': '', 'nullable': False, 'enum': [], 'max_items': '0', 'min_items': '0', 'properties': {}, 'required': []}, 'a': {'type_': 3, 'format_': '', 'description': '', 'nullable': False, 'enum': [], 'max_items': '0', 'min_items': '0', 'properties': {}, 'required': []}}, 'required': ['a', 'b'], 'format_': '', 'nullable': False, 'enum': [], 'max_items': '0', 'min_items': '0'}}\n",
            "{'name': 'add', 'description': 'Adds a and b.\\n\\n    Args:\\n        a: first int\\n        b: second int', 'parameters': {'type_': 6, 'description': 'Adds a and b.\\n\\nArgs:\\n    a: first int\\n    b: second int', 'properties': {'b': {'type_': 3, 'format_': '', 'description': '', 'nullable': False, 'enum': [], 'max_items': '0', 'min_items': '0', 'properties': {}, 'required': []}, 'a': {'type_': 3, 'format_': '', 'description': '', 'nullable': False, 'enum': [], 'max_items': '0', 'min_items': '0', 'properties': {}, 'required': []}}, 'required': ['a', 'b'], 'format_': '', 'nullable': False, 'enum': [], 'max_items': '0', 'min_items': '0'}}\n",
            "{'name': 'multiply', 'description': 'Multiply a and b.\\n\\n    Args:\\n        a: first int\\n        b: second int', 'parameters': {'type_': 6, 'description': 'Multiply a and b.\\n\\nArgs:\\n    a: first int\\n    b: second int', 'properties': {'a': {'type_': 3, 'format_': '', 'description': '', 'nullable': False, 'enum': [], 'max_items': '0', 'min_items': '0', 'properties': {}, 'required': []}, 'b': {'type_': 3, 'format_': '', 'description': '', 'nullable': False, 'enum': [], 'max_items': '0', 'min_items': '0', 'properties': {}, 'required': []}}, 'required': ['a', 'b'], 'format_': '', 'nullable': False, 'enum': [], 'max_items': '0', 'min_items': '0'}}\n",
            "{'name': 'divide', 'description': 'Divide a and b.\\n\\n    Args:\\n        a: first int\\n        b: second int', 'parameters': {'type_': 6, 'description': 'Divide a and b.\\n\\nArgs:\\n    a: first int\\n    b: second int', 'properties': {'b': {'type_': 3, 'format_': '', 'description': '', 'nullable': False, 'enum': [], 'max_items': '0', 'min_items': '0', 'properties': {}, 'required': []}, 'a': {'type_': 3, 'format_': '', 'description': '', 'nullable': False, 'enum': [], 'max_items': '0', 'min_items': '0', 'properties': {}, 'required': []}}, 'required': ['a', 'b'], 'format_': '', 'nullable': False, 'enum': [], 'max_items': '0', 'min_items': '0'}}\n",
            "{'name': 'add', 'description': 'Adds a and b.\\n\\n    Args:\\n        a: first int\\n        b: second int', 'parameters': {'type_': 6, 'description': 'Adds a and b.\\n\\nArgs:\\n    a: first int\\n    b: second int', 'properties': {'b': {'type_': 3, 'format_': '', 'description': '', 'nullable': False, 'enum': [], 'max_items': '0', 'min_items': '0', 'properties': {}, 'required': []}, 'a': {'type_': 3, 'format_': '', 'description': '', 'nullable': False, 'enum': [], 'max_items': '0', 'min_items': '0', 'properties': {}, 'required': []}}, 'required': ['a', 'b'], 'format_': '', 'nullable': False, 'enum': [], 'max_items': '0', 'min_items': '0'}}\n",
            "{'name': 'multiply', 'description': 'Multiply a and b.\\n\\n    Args:\\n        a: first int\\n        b: second int', 'parameters': {'type_': 6, 'description': 'Multiply a and b.\\n\\nArgs:\\n    a: first int\\n    b: second int', 'properties': {'a': {'type_': 3, 'format_': '', 'description': '', 'nullable': False, 'enum': [], 'max_items': '0', 'min_items': '0', 'properties': {}, 'required': []}, 'b': {'type_': 3, 'format_': '', 'description': '', 'nullable': False, 'enum': [], 'max_items': '0', 'min_items': '0', 'properties': {}, 'required': []}}, 'required': ['a', 'b'], 'format_': '', 'nullable': False, 'enum': [], 'max_items': '0', 'min_items': '0'}}\n",
            "{'name': 'divide', 'description': 'Divide a and b.\\n\\n    Args:\\n        a: first int\\n        b: second int', 'parameters': {'type_': 6, 'description': 'Divide a and b.\\n\\nArgs:\\n    a: first int\\n    b: second int', 'properties': {'b': {'type_': 3, 'format_': '', 'description': '', 'nullable': False, 'enum': [], 'max_items': '0', 'min_items': '0', 'properties': {}, 'required': []}, 'a': {'type_': 3, 'format_': '', 'description': '', 'nullable': False, 'enum': [], 'max_items': '0', 'min_items': '0', 'properties': {}, 'required': []}}, 'required': ['a', 'b'], 'format_': '', 'nullable': False, 'enum': [], 'max_items': '0', 'min_items': '0'}}\n",
            "{'name': 'add', 'description': 'Adds a and b.\\n\\n    Args:\\n        a: first int\\n        b: second int', 'parameters': {'type_': 6, 'description': 'Adds a and b.\\n\\nArgs:\\n    a: first int\\n    b: second int', 'properties': {'b': {'type_': 3, 'format_': '', 'description': '', 'nullable': False, 'enum': [], 'max_items': '0', 'min_items': '0', 'properties': {}, 'required': []}, 'a': {'type_': 3, 'format_': '', 'description': '', 'nullable': False, 'enum': [], 'max_items': '0', 'min_items': '0', 'properties': {}, 'required': []}}, 'required': ['a', 'b'], 'format_': '', 'nullable': False, 'enum': [], 'max_items': '0', 'min_items': '0'}}\n",
            "{'name': 'multiply', 'description': 'Multiply a and b.\\n\\n    Args:\\n        a: first int\\n        b: second int', 'parameters': {'type_': 6, 'description': 'Multiply a and b.\\n\\nArgs:\\n    a: first int\\n    b: second int', 'properties': {'a': {'type_': 3, 'format_': '', 'description': '', 'nullable': False, 'enum': [], 'max_items': '0', 'min_items': '0', 'properties': {}, 'required': []}, 'b': {'type_': 3, 'format_': '', 'description': '', 'nullable': False, 'enum': [], 'max_items': '0', 'min_items': '0', 'properties': {}, 'required': []}}, 'required': ['a', 'b'], 'format_': '', 'nullable': False, 'enum': [], 'max_items': '0', 'min_items': '0'}}\n",
            "{'name': 'divide', 'description': 'Divide a and b.\\n\\n    Args:\\n        a: first int\\n        b: second int', 'parameters': {'type_': 6, 'description': 'Divide a and b.\\n\\nArgs:\\n    a: first int\\n    b: second int', 'properties': {'b': {'type_': 3, 'format_': '', 'description': '', 'nullable': False, 'enum': [], 'max_items': '0', 'min_items': '0', 'properties': {}, 'required': []}, 'a': {'type_': 3, 'format_': '', 'description': '', 'nullable': False, 'enum': [], 'max_items': '0', 'min_items': '0', 'properties': {}, 'required': []}}, 'required': ['a', 'b'], 'format_': '', 'nullable': False, 'enum': [], 'max_items': '0', 'min_items': '0'}}\n"
          ]
        }
      ]
    },
    {
      "cell_type": "code",
      "source": [
        "for m in messages['messages']:\n",
        "    m.pretty_print()"
      ],
      "metadata": {
        "colab": {
          "base_uri": "https://localhost:8080/"
        },
        "id": "R3prxDSL5F8z",
        "outputId": "9fd5ffaa-6758-430c-c2c0-0139618b5723"
      },
      "execution_count": null,
      "outputs": [
        {
          "output_type": "stream",
          "name": "stdout",
          "text": [
            "================================\u001b[1m Human Message \u001b[0m=================================\n",
            "\n",
            "Add 3 and 4. Multiply the output by 2. Divide the output by 5\n",
            "==================================\u001b[1m Ai Message \u001b[0m==================================\n",
            "\n",
            "['\\n', '\\n', '\\nThe answer is 2.8. \\n']\n",
            "Tool Calls:\n",
            "  divide (6dc946d7-0ee4-450a-b792-9c25aa3e0c41)\n",
            " Call ID: 6dc946d7-0ee4-450a-b792-9c25aa3e0c41\n",
            "  Args:\n",
            "    a: None\n",
            "    b: 5.0\n",
            "  add (c79bae18-522a-4673-ace5-4749013fa99e)\n",
            " Call ID: c79bae18-522a-4673-ace5-4749013fa99e\n",
            "  Args:\n",
            "    b: 4.0\n",
            "    a: 3.0\n",
            "  multiply (366e547a-d671-42db-8098-02f62cb6beae)\n",
            " Call ID: 366e547a-d671-42db-8098-02f62cb6beae\n",
            "  Args:\n",
            "    a: None\n",
            "    b: 2.0\n",
            "=================================\u001b[1m Tool Message \u001b[0m=================================\n",
            "Name: divide\n",
            "\n",
            "Error: 1 validation error for divide\n",
            "a\n",
            "  Input should be a valid integer [type=int_type, input_value=None, input_type=NoneType]\n",
            "    For further information visit https://errors.pydantic.dev/2.9/v/int_type\n",
            " Please fix your mistakes.\n",
            "=================================\u001b[1m Tool Message \u001b[0m=================================\n",
            "Name: add\n",
            "\n",
            "7\n",
            "=================================\u001b[1m Tool Message \u001b[0m=================================\n",
            "Name: multiply\n",
            "\n",
            "Error: 1 validation error for multiply\n",
            "a\n",
            "  Input should be a valid integer [type=int_type, input_value=None, input_type=NoneType]\n",
            "    For further information visit https://errors.pydantic.dev/2.9/v/int_type\n",
            " Please fix your mistakes.\n",
            "==================================\u001b[1m Ai Message \u001b[0m==================================\n",
            "Tool Calls:\n",
            "  add (6cc637cb-8498-4a65-997a-d47afe31590e)\n",
            " Call ID: 6cc637cb-8498-4a65-997a-d47afe31590e\n",
            "  Args:\n",
            "    b: 4.0\n",
            "    a: 3.0\n",
            "=================================\u001b[1m Tool Message \u001b[0m=================================\n",
            "Name: add\n",
            "\n",
            "7\n",
            "==================================\u001b[1m Ai Message \u001b[0m==================================\n",
            "Tool Calls:\n",
            "  multiply (00c95069-d42f-4dec-9bcb-1be982dd1a03)\n",
            " Call ID: 00c95069-d42f-4dec-9bcb-1be982dd1a03\n",
            "  Args:\n",
            "    a: 7.0\n",
            "    b: 2.0\n",
            "=================================\u001b[1m Tool Message \u001b[0m=================================\n",
            "Name: multiply\n",
            "\n",
            "14\n",
            "==================================\u001b[1m Ai Message \u001b[0m==================================\n",
            "Tool Calls:\n",
            "  divide (3d03769d-252c-4ba9-9c42-1288061ffb88)\n",
            " Call ID: 3d03769d-252c-4ba9-9c42-1288061ffb88\n",
            "  Args:\n",
            "    b: 5.0\n",
            "    a: 14.0\n",
            "=================================\u001b[1m Tool Message \u001b[0m=================================\n",
            "Name: divide\n",
            "\n",
            "2.8\n",
            "==================================\u001b[1m Ai Message \u001b[0m==================================\n",
            "\n",
            "The answer is 2.8.\n"
          ]
        }
      ]
    },
    {
      "cell_type": "markdown",
      "source": [
        "**Note:** In above error the problem is that multiple chained operations (\"add\", \"multiply\", and \"divide\") are being interpreted incorrectly, likely leading to premature calls to tools without resolving earlier steps as model is following <b>DMAS</b> rule here. So we will improved the prompt and try again"
      ],
      "metadata": {
        "id": "vPH8DmZR5UZQ"
      }
    },
    {
      "cell_type": "code",
      "source": [
        "messages = [HumanMessage(content=\"First Add 3 and 4 then multiply answer with 2 and then divide answer with 5. Dont perform division initially\")]\n",
        "messages = react_graph.invoke({\"messages\": messages})"
      ],
      "metadata": {
        "colab": {
          "base_uri": "https://localhost:8080/"
        },
        "id": "QGcgxz7P5Mif",
        "outputId": "e5a825f7-c97b-4df4-adde-892b069b9d62"
      },
      "execution_count": null,
      "outputs": [
        {
          "output_type": "stream",
          "name": "stdout",
          "text": [
            "{'name': 'add', 'description': 'Adds a and b.\\n\\n    Args:\\n        a: first int\\n        b: second int', 'parameters': {'type_': 6, 'description': 'Adds a and b.\\n\\nArgs:\\n    a: first int\\n    b: second int', 'properties': {'b': {'type_': 3, 'format_': '', 'description': '', 'nullable': False, 'enum': [], 'max_items': '0', 'min_items': '0', 'properties': {}, 'required': []}, 'a': {'type_': 3, 'format_': '', 'description': '', 'nullable': False, 'enum': [], 'max_items': '0', 'min_items': '0', 'properties': {}, 'required': []}}, 'required': ['a', 'b'], 'format_': '', 'nullable': False, 'enum': [], 'max_items': '0', 'min_items': '0'}}\n",
            "{'name': 'multiply', 'description': 'Multiply a and b.\\n\\n    Args:\\n        a: first int\\n        b: second int', 'parameters': {'type_': 6, 'description': 'Multiply a and b.\\n\\nArgs:\\n    a: first int\\n    b: second int', 'properties': {'a': {'type_': 3, 'format_': '', 'description': '', 'nullable': False, 'enum': [], 'max_items': '0', 'min_items': '0', 'properties': {}, 'required': []}, 'b': {'type_': 3, 'format_': '', 'description': '', 'nullable': False, 'enum': [], 'max_items': '0', 'min_items': '0', 'properties': {}, 'required': []}}, 'required': ['a', 'b'], 'format_': '', 'nullable': False, 'enum': [], 'max_items': '0', 'min_items': '0'}}\n",
            "{'name': 'divide', 'description': 'Divide a and b.\\n\\n    Args:\\n        a: first int\\n        b: second int', 'parameters': {'type_': 6, 'description': 'Divide a and b.\\n\\nArgs:\\n    a: first int\\n    b: second int', 'properties': {'b': {'type_': 3, 'format_': '', 'description': '', 'nullable': False, 'enum': [], 'max_items': '0', 'min_items': '0', 'properties': {}, 'required': []}, 'a': {'type_': 3, 'format_': '', 'description': '', 'nullable': False, 'enum': [], 'max_items': '0', 'min_items': '0', 'properties': {}, 'required': []}}, 'required': ['a', 'b'], 'format_': '', 'nullable': False, 'enum': [], 'max_items': '0', 'min_items': '0'}}\n",
            "{'name': 'add', 'description': 'Adds a and b.\\n\\n    Args:\\n        a: first int\\n        b: second int', 'parameters': {'type_': 6, 'description': 'Adds a and b.\\n\\nArgs:\\n    a: first int\\n    b: second int', 'properties': {'b': {'type_': 3, 'format_': '', 'description': '', 'nullable': False, 'enum': [], 'max_items': '0', 'min_items': '0', 'properties': {}, 'required': []}, 'a': {'type_': 3, 'format_': '', 'description': '', 'nullable': False, 'enum': [], 'max_items': '0', 'min_items': '0', 'properties': {}, 'required': []}}, 'required': ['a', 'b'], 'format_': '', 'nullable': False, 'enum': [], 'max_items': '0', 'min_items': '0'}}\n",
            "{'name': 'multiply', 'description': 'Multiply a and b.\\n\\n    Args:\\n        a: first int\\n        b: second int', 'parameters': {'type_': 6, 'description': 'Multiply a and b.\\n\\nArgs:\\n    a: first int\\n    b: second int', 'properties': {'a': {'type_': 3, 'format_': '', 'description': '', 'nullable': False, 'enum': [], 'max_items': '0', 'min_items': '0', 'properties': {}, 'required': []}, 'b': {'type_': 3, 'format_': '', 'description': '', 'nullable': False, 'enum': [], 'max_items': '0', 'min_items': '0', 'properties': {}, 'required': []}}, 'required': ['a', 'b'], 'format_': '', 'nullable': False, 'enum': [], 'max_items': '0', 'min_items': '0'}}\n",
            "{'name': 'divide', 'description': 'Divide a and b.\\n\\n    Args:\\n        a: first int\\n        b: second int', 'parameters': {'type_': 6, 'description': 'Divide a and b.\\n\\nArgs:\\n    a: first int\\n    b: second int', 'properties': {'b': {'type_': 3, 'format_': '', 'description': '', 'nullable': False, 'enum': [], 'max_items': '0', 'min_items': '0', 'properties': {}, 'required': []}, 'a': {'type_': 3, 'format_': '', 'description': '', 'nullable': False, 'enum': [], 'max_items': '0', 'min_items': '0', 'properties': {}, 'required': []}}, 'required': ['a', 'b'], 'format_': '', 'nullable': False, 'enum': [], 'max_items': '0', 'min_items': '0'}}\n",
            "{'name': 'add', 'description': 'Adds a and b.\\n\\n    Args:\\n        a: first int\\n        b: second int', 'parameters': {'type_': 6, 'description': 'Adds a and b.\\n\\nArgs:\\n    a: first int\\n    b: second int', 'properties': {'b': {'type_': 3, 'format_': '', 'description': '', 'nullable': False, 'enum': [], 'max_items': '0', 'min_items': '0', 'properties': {}, 'required': []}, 'a': {'type_': 3, 'format_': '', 'description': '', 'nullable': False, 'enum': [], 'max_items': '0', 'min_items': '0', 'properties': {}, 'required': []}}, 'required': ['a', 'b'], 'format_': '', 'nullable': False, 'enum': [], 'max_items': '0', 'min_items': '0'}}\n",
            "{'name': 'multiply', 'description': 'Multiply a and b.\\n\\n    Args:\\n        a: first int\\n        b: second int', 'parameters': {'type_': 6, 'description': 'Multiply a and b.\\n\\nArgs:\\n    a: first int\\n    b: second int', 'properties': {'a': {'type_': 3, 'format_': '', 'description': '', 'nullable': False, 'enum': [], 'max_items': '0', 'min_items': '0', 'properties': {}, 'required': []}, 'b': {'type_': 3, 'format_': '', 'description': '', 'nullable': False, 'enum': [], 'max_items': '0', 'min_items': '0', 'properties': {}, 'required': []}}, 'required': ['a', 'b'], 'format_': '', 'nullable': False, 'enum': [], 'max_items': '0', 'min_items': '0'}}\n",
            "{'name': 'divide', 'description': 'Divide a and b.\\n\\n    Args:\\n        a: first int\\n        b: second int', 'parameters': {'type_': 6, 'description': 'Divide a and b.\\n\\nArgs:\\n    a: first int\\n    b: second int', 'properties': {'b': {'type_': 3, 'format_': '', 'description': '', 'nullable': False, 'enum': [], 'max_items': '0', 'min_items': '0', 'properties': {}, 'required': []}, 'a': {'type_': 3, 'format_': '', 'description': '', 'nullable': False, 'enum': [], 'max_items': '0', 'min_items': '0', 'properties': {}, 'required': []}}, 'required': ['a', 'b'], 'format_': '', 'nullable': False, 'enum': [], 'max_items': '0', 'min_items': '0'}}\n",
            "{'name': 'add', 'description': 'Adds a and b.\\n\\n    Args:\\n        a: first int\\n        b: second int', 'parameters': {'type_': 6, 'description': 'Adds a and b.\\n\\nArgs:\\n    a: first int\\n    b: second int', 'properties': {'b': {'type_': 3, 'format_': '', 'description': '', 'nullable': False, 'enum': [], 'max_items': '0', 'min_items': '0', 'properties': {}, 'required': []}, 'a': {'type_': 3, 'format_': '', 'description': '', 'nullable': False, 'enum': [], 'max_items': '0', 'min_items': '0', 'properties': {}, 'required': []}}, 'required': ['a', 'b'], 'format_': '', 'nullable': False, 'enum': [], 'max_items': '0', 'min_items': '0'}}\n",
            "{'name': 'multiply', 'description': 'Multiply a and b.\\n\\n    Args:\\n        a: first int\\n        b: second int', 'parameters': {'type_': 6, 'description': 'Multiply a and b.\\n\\nArgs:\\n    a: first int\\n    b: second int', 'properties': {'a': {'type_': 3, 'format_': '', 'description': '', 'nullable': False, 'enum': [], 'max_items': '0', 'min_items': '0', 'properties': {}, 'required': []}, 'b': {'type_': 3, 'format_': '', 'description': '', 'nullable': False, 'enum': [], 'max_items': '0', 'min_items': '0', 'properties': {}, 'required': []}}, 'required': ['a', 'b'], 'format_': '', 'nullable': False, 'enum': [], 'max_items': '0', 'min_items': '0'}}\n",
            "{'name': 'divide', 'description': 'Divide a and b.\\n\\n    Args:\\n        a: first int\\n        b: second int', 'parameters': {'type_': 6, 'description': 'Divide a and b.\\n\\nArgs:\\n    a: first int\\n    b: second int', 'properties': {'b': {'type_': 3, 'format_': '', 'description': '', 'nullable': False, 'enum': [], 'max_items': '0', 'min_items': '0', 'properties': {}, 'required': []}, 'a': {'type_': 3, 'format_': '', 'description': '', 'nullable': False, 'enum': [], 'max_items': '0', 'min_items': '0', 'properties': {}, 'required': []}}, 'required': ['a', 'b'], 'format_': '', 'nullable': False, 'enum': [], 'max_items': '0', 'min_items': '0'}}\n"
          ]
        }
      ]
    },
    {
      "cell_type": "code",
      "source": [
        "for m in messages['messages']:\n",
        "    m.pretty_print()"
      ],
      "metadata": {
        "colab": {
          "base_uri": "https://localhost:8080/"
        },
        "id": "cALk58M15Ypu",
        "outputId": "f7cd753a-dc22-4f52-8b43-ee1e8b2e343c"
      },
      "execution_count": null,
      "outputs": [
        {
          "output_type": "stream",
          "name": "stdout",
          "text": [
            "================================\u001b[1m Human Message \u001b[0m=================================\n",
            "\n",
            "First Add 3 and 4 then multiply answer with 2 and then divide answer with 5. Dont perform division initially\n",
            "==================================\u001b[1m Ai Message \u001b[0m==================================\n",
            "Tool Calls:\n",
            "  add (45777f5d-804a-44c4-a651-948e69403e56)\n",
            " Call ID: 45777f5d-804a-44c4-a651-948e69403e56\n",
            "  Args:\n",
            "    a: 3.0\n",
            "    b: 4.0\n",
            "=================================\u001b[1m Tool Message \u001b[0m=================================\n",
            "Name: add\n",
            "\n",
            "7\n",
            "==================================\u001b[1m Ai Message \u001b[0m==================================\n",
            "Tool Calls:\n",
            "  multiply (4c2b2a00-bb2a-480d-804f-ac6996b56f6d)\n",
            " Call ID: 4c2b2a00-bb2a-480d-804f-ac6996b56f6d\n",
            "  Args:\n",
            "    a: 7.0\n",
            "    b: 2.0\n",
            "=================================\u001b[1m Tool Message \u001b[0m=================================\n",
            "Name: multiply\n",
            "\n",
            "14\n",
            "==================================\u001b[1m Ai Message \u001b[0m==================================\n",
            "Tool Calls:\n",
            "  divide (700e7bac-8bfd-4ff1-8adb-0a5d033810ee)\n",
            " Call ID: 700e7bac-8bfd-4ff1-8adb-0a5d033810ee\n",
            "  Args:\n",
            "    b: 5.0\n",
            "    a: 14.0\n",
            "=================================\u001b[1m Tool Message \u001b[0m=================================\n",
            "Name: divide\n",
            "\n",
            "2.8\n",
            "==================================\u001b[1m Ai Message \u001b[0m==================================\n",
            "\n",
            "The final answer is 2.8.\n"
          ]
        }
      ]
    },
    {
      "cell_type": "markdown",
      "source": [
        "## LangSmith\n",
        "\n",
        "We can look at traces in LangSmith."
      ],
      "metadata": {
        "id": "17xYnFHf5oEd"
      }
    },
    {
      "cell_type": "code",
      "source": [],
      "metadata": {
        "id": "_ynlXdz75cO7"
      },
      "execution_count": null,
      "outputs": []
    }
  ]
}