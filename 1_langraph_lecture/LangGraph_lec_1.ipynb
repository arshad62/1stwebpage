{
  "cells": [
    {
      "cell_type": "markdown",
      "metadata": {
        "id": "view-in-github",
        "colab_type": "text"
      },
      "source": [
        "<a href=\"https://colab.research.google.com/github/arshad62/1stwebpage/blob/master/1_langraph_lecture/LangGraph_lec_1.ipynb\" target=\"_parent\"><img src=\"https://colab.research.google.com/assets/colab-badge.svg\" alt=\"Open In Colab\"/></a>"
      ]
    },
    {
      "cell_type": "markdown",
      "metadata": {
        "id": "ZWGYu-pjkCsC"
      },
      "source": [
        "# We will see about langGraph\n",
        "- What langGraph is?\n",
        "- Why we use langGraph framework?\n",
        "- How we use langGraph?"
      ]
    },
    {
      "cell_type": "markdown",
      "metadata": {
        "id": "B2fAZ9Y4kdz0"
      },
      "source": [
        "## What LangGraph is?\n",
        "LangGraph is a library for building stateful, multi-actor applications with LLMs, used to create agent and multi-agent workflows.\n",
        "\n",
        "### Key Features:\n",
        "\n",
        "- **Cycles and Branching:** Implement loops and conditionals in your apps.\n",
        "  - **Loops:** Imagine a chatbot that needs to ask the user a series of questions to gather information. LangGraph can create a loop that repeatedly asks questions until the user provides all the necessary data.\n",
        "  - **Conditionals:** If you're building a decision-making application, LangGraph can implement conditional statements to choose different paths based on specific criteria. For example, a customer support bot might offer different options based on the user's issue.\n",
        "\n",
        "- **Persistence:** Automatically save state after each step in the graph. Pause and resume the graph execution at any point to support error recovery, human-in-the-loop workflows, time travel and more.\n",
        "  - **State Saving:** LangGraph can automatically save the current state of your application after each step, ensuring that you can resume the workflow from where you left off if there's an interruption.\n",
        "  - **Pause and Resume:** If an error occurs or you need to review the workflow, you can pause the execution and resume it later. This feature is especially useful for human-in-the-loop workflows where a human needs to intervene.\n",
        "\n",
        "- **Human-in-the-Loop:** Interrupt graph execution to approve or edit next action planned by the agent.\n",
        "  - **Manual Intervention:** LangGraph allows you to pause the execution of the workflow and manually review or edit the next planned action. This is helpful for tasks that require human judgment or oversight.\n",
        "\n",
        "- **Streaming Support:** Stream outputs as they are produced by each node (including token streaming).\n",
        "  - **Real-time Outputs:** LangGraph can stream outputs as they are produced by each node, enabling real-time updates and progress tracking. This is particularly useful for applications that generate text or other data in a continuous stream.\n",
        "\n",
        "Integration with LangChain: LangGraph integrates seamlessly with LangChain and LangSmith (but does not require them)."
      ]
    },
    {
      "cell_type": "markdown",
      "metadata": {
        "id": "fOU8i_zXwwAL"
      },
      "source": [
        "## Example:\n",
        "**A Simple Chatbot**\n",
        "\n",
        "Imagine a chatbot that helps users find restaurants. It might follow this workflow:\n",
        "\n",
        "1. Greet the user: Welcome message.\n",
        "2. Ask for cuisine: Prompt the user to choose a cuisine.\n",
        "3. Ask for location: Prompt the user to specify a location.\n",
        "4. Search for restaurants: Use a tool to search for restaurants based on the user's preferences.\n",
        "5. Display results: Show the search results to the user.\n",
        "\n",
        "LangGraph could be used to create this workflow, with nodes representing each step and edges representing the transitions between them. Conditional edges could be used to handle different user responses, while persistence could be used to save the user's preferences for future interactions."
      ]
    },
    {
      "cell_type": "markdown",
      "metadata": {
        "id": "cUauTo8E7pi2"
      },
      "source": [
        "# Workflow Of Chatbot:\n",
        "![Chatbot Node Example](https://github.com/Wania-Kazmi/LangGraph_Lectures/blob/main/Assets/langgraph_example_1.png?raw=1)"
      ]
    },
    {
      "cell_type": "markdown",
      "metadata": {
        "id": "Xf7zfjDbCB1C"
      },
      "source": [
        "# What is State, Node, Edges in LangGraph?\n",
        "- **State:** States define the different stages or points in the application's lifecycle. They can hold data, variables, or other information that influences the application's behavior.\n",
        "  - **State in Above Example:**\n",
        "    - **Start:** This is the initial state of the workflow, where the application begins execution.\n",
        "    - **End:** This is the final state of the workflow, indicating its completion.\n",
        "\n",
        "- **Node:** Nodes provide a clear structure and visualization of the workflow. They help in understanding the different steps or stages an application can go through.\n",
        "  - **Node in Above Example:**\n",
        "    - Chatbot: The central node representing the chatbot's interaction with the user.\n",
        "\n",
        "- **Edges:** Edges define the flow of execution in the application. They determine how the application moves from one state to another based on specific criteria or events. They can be unconditional (always leading to the next node) or conditional (leading to different nodes based on certain conditions).\n",
        "  - **Edges in Above Example:**\n",
        "    - **Start -> Chatbot:** The edge connecting the initial state to the chatbot node, indicating the workflow's progression.\n",
        "    - **Chatbot -> End:** The edge connecting the chatbot node to the final state, representing the completion of the interaction."
      ]
    },
    {
      "cell_type": "code",
      "execution_count": null,
      "metadata": {
        "colab": {
          "base_uri": "https://localhost:8080/"
        },
        "id": "b1klh-xiIIEe",
        "outputId": "aedb6426-91c8-4e35-a5e0-e782c3dde706"
      },
      "outputs": [
        {
          "name": "stdout",
          "output_type": "stream",
          "text": [
            "\u001b[2K     \u001b[90m━━━━━━━━━━━━━━━━━━━━━━━━━━━━━━━━━━━━━━━━\u001b[0m \u001b[32m50.4/50.4 kB\u001b[0m \u001b[31m2.6 MB/s\u001b[0m eta \u001b[36m0:00:00\u001b[0m\n",
            "\u001b[2K   \u001b[90m━━━━━━━━━━━━━━━━━━━━━━━━━━━━━━━━━━━━━━━━\u001b[0m \u001b[32m107.4/107.4 kB\u001b[0m \u001b[31m6.6 MB/s\u001b[0m eta \u001b[36m0:00:00\u001b[0m\n",
            "\u001b[2K   \u001b[90m━━━━━━━━━━━━━━━━━━━━━━━━━━━━━━━━━━━━━━━━\u001b[0m \u001b[32m400.9/400.9 kB\u001b[0m \u001b[31m19.8 MB/s\u001b[0m eta \u001b[36m0:00:00\u001b[0m\n",
            "\u001b[2K   \u001b[90m━━━━━━━━━━━━━━━━━━━━━━━━━━━━━━━━━━━━━━━━\u001b[0m \u001b[32m294.6/294.6 kB\u001b[0m \u001b[31m16.3 MB/s\u001b[0m eta \u001b[36m0:00:00\u001b[0m\n",
            "\u001b[2K   \u001b[90m━━━━━━━━━━━━━━━━━━━━━━━━━━━━━━━━━━━━━━━━\u001b[0m \u001b[32m378.0/378.0 kB\u001b[0m \u001b[31m19.2 MB/s\u001b[0m eta \u001b[36m0:00:00\u001b[0m\n",
            "\u001b[2K   \u001b[90m━━━━━━━━━━━━━━━━━━━━━━━━━━━━━━━━━━━━━━━━\u001b[0m \u001b[32m76.4/76.4 kB\u001b[0m \u001b[31m4.1 MB/s\u001b[0m eta \u001b[36m0:00:00\u001b[0m\n",
            "\u001b[2K   \u001b[90m━━━━━━━━━━━━━━━━━━━━━━━━━━━━━━━━━━━━━━━━\u001b[0m \u001b[32m78.0/78.0 kB\u001b[0m \u001b[31m4.7 MB/s\u001b[0m eta \u001b[36m0:00:00\u001b[0m\n",
            "\u001b[2K   \u001b[90m━━━━━━━━━━━━━━━━━━━━━━━━━━━━━━━━━━━━━━━━\u001b[0m \u001b[32m141.9/141.9 kB\u001b[0m \u001b[31m8.6 MB/s\u001b[0m eta \u001b[36m0:00:00\u001b[0m\n",
            "\u001b[2K   \u001b[90m━━━━━━━━━━━━━━━━━━━━━━━━━━━━━━━━━━━━━━━━\u001b[0m \u001b[32m54.5/54.5 kB\u001b[0m \u001b[31m3.4 MB/s\u001b[0m eta \u001b[36m0:00:00\u001b[0m\n",
            "\u001b[2K   \u001b[90m━━━━━━━━━━━━━━━━━━━━━━━━━━━━━━━━━━━━━━━━\u001b[0m \u001b[32m58.3/58.3 kB\u001b[0m \u001b[31m3.2 MB/s\u001b[0m eta \u001b[36m0:00:00\u001b[0m\n",
            "\u001b[?25h"
          ]
        }
      ],
      "source": [
        "!pip install -q -U langgraph"
      ]
    },
    {
      "cell_type": "code",
      "execution_count": null,
      "metadata": {
        "colab": {
          "base_uri": "https://localhost:8080/"
        },
        "id": "u74b1sjmV9Xi",
        "outputId": "111889ef-7de2-419a-9268-0204b5d7a76b"
      },
      "outputs": [
        {
          "name": "stdout",
          "output_type": "stream",
          "text": [
            "\u001b[?25l   \u001b[90m━━━━━━━━━━━━━━━━━━━━━━━━━━━━━━━━━━━━━━━━\u001b[0m \u001b[32m0.0/1.0 MB\u001b[0m \u001b[31m?\u001b[0m eta \u001b[36m-:--:--\u001b[0m\r\u001b[2K   \u001b[91m━━━━━━━━━━━━━━━━━━━━━━━━━━━━━━━━━━━━━━━\u001b[0m\u001b[91m╸\u001b[0m \u001b[32m1.0/1.0 MB\u001b[0m \u001b[31m33.6 MB/s\u001b[0m eta \u001b[36m0:00:01\u001b[0m\r\u001b[2K   \u001b[90m━━━━━━━━━━━━━━━━━━━━━━━━━━━━━━━━━━━━━━━━\u001b[0m \u001b[32m1.0/1.0 MB\u001b[0m \u001b[31m16.4 MB/s\u001b[0m eta \u001b[36m0:00:00\u001b[0m\n",
            "\u001b[?25h\u001b[?25l   \u001b[90m━━━━━━━━━━━━━━━━━━━━━━━━━━━━━━━━━━━━━━━━\u001b[0m \u001b[32m0.0/2.4 MB\u001b[0m \u001b[31m?\u001b[0m eta \u001b[36m-:--:--\u001b[0m\r\u001b[2K   \u001b[91m━━━━━━━━━━━━━━━━━━━━━━━━━━━━━━━━━━━━━━━\u001b[0m\u001b[91m╸\u001b[0m \u001b[32m2.4/2.4 MB\u001b[0m \u001b[31m71.8 MB/s\u001b[0m eta \u001b[36m0:00:01\u001b[0m\r\u001b[2K   \u001b[90m━━━━━━━━━━━━━━━━━━━━━━━━━━━━━━━━━━━━━━━━\u001b[0m \u001b[32m2.4/2.4 MB\u001b[0m \u001b[31m33.0 MB/s\u001b[0m eta \u001b[36m0:00:00\u001b[0m\n",
            "\u001b[2K   \u001b[90m━━━━━━━━━━━━━━━━━━━━━━━━━━━━━━━━━━━━━━━━\u001b[0m \u001b[32m106.5/106.5 kB\u001b[0m \u001b[31m7.2 MB/s\u001b[0m eta \u001b[36m0:00:00\u001b[0m\n",
            "\u001b[2K   \u001b[90m━━━━━━━━━━━━━━━━━━━━━━━━━━━━━━━━━━━━━━━━\u001b[0m \u001b[32m49.3/49.3 kB\u001b[0m \u001b[31m3.0 MB/s\u001b[0m eta \u001b[36m0:00:00\u001b[0m\n",
            "\u001b[?25h"
          ]
        }
      ],
      "source": [
        "!pip install -q langchain langchain_groq langchain_community langchain_core"
      ]
    },
    {
      "cell_type": "code",
      "execution_count": null,
      "metadata": {
        "id": "CNQfogaxWCBp"
      },
      "outputs": [],
      "source": [
        "from google.colab import userdata\n",
        "groq_key = userdata.get('GROQ_API_KEY')"
      ]
    },
    {
      "cell_type": "code",
      "execution_count": null,
      "metadata": {
        "id": "oDkVDCMYWKaE"
      },
      "outputs": [],
      "source": [
        "from langchain_groq import ChatGroq\n",
        "\n",
        "llm = ChatGroq(groq_api_key=groq_key, model_name = \"Llama3-8b-8192\")\n"
      ]
    },
    {
      "cell_type": "markdown",
      "metadata": {
        "id": "DCCfA-1QIwN5"
      },
      "source": [
        "## State"
      ]
    },
    {
      "cell_type": "code",
      "execution_count": null,
      "metadata": {
        "id": "DIflxxj4H2LK"
      },
      "outputs": [],
      "source": [
        "# How we define a state in code:\n",
        "from typing_extensions import TypedDict\n",
        "\n",
        "class MessagesState(TypedDict):\n",
        "    graph_state: str"
      ]
    },
    {
      "cell_type": "markdown",
      "metadata": {
        "id": "r2U_kERLfrz9"
      },
      "source": [
        "## Construct Graph"
      ]
    },
    {
      "cell_type": "code",
      "execution_count": null,
      "metadata": {
        "colab": {
          "base_uri": "https://localhost:8080/"
        },
        "id": "7LaoOPRtTfsu",
        "outputId": "d7aab428-e6d6-4087-e72e-ef6a9b9eac6d"
      },
      "outputs": [
        {
          "data": {
            "text/plain": [
              "<langgraph.graph.state.StateGraph at 0x7f1fb0c540d0>"
            ]
          },
          "execution_count": 21,
          "metadata": {},
          "output_type": "execute_result"
        }
      ],
      "source": [
        "# For defining nodes and edges we need graph, so construct the graph first\n",
        "from langgraph.graph import StateGraph, START, END\n",
        "\n",
        "# Build graph\n",
        "builder = StateGraph(MessagesState)\n",
        "builder"
      ]
    },
    {
      "cell_type": "markdown",
      "metadata": {
        "id": "RdGQ4v7yfzgD"
      },
      "source": [
        "## Node"
      ]
    },
    {
      "cell_type": "code",
      "execution_count": null,
      "metadata": {
        "colab": {
          "base_uri": "https://localhost:8080/"
        },
        "id": "Ytuo7ms9K_mQ",
        "outputId": "8bfa8829-06f7-41e2-ee4d-18ab5d59d5bd"
      },
      "outputs": [
        {
          "data": {
            "text/plain": [
              "<langgraph.graph.state.StateGraph at 0x7f1fb0c540d0>"
            ]
          },
          "execution_count": 22,
          "metadata": {},
          "output_type": "execute_result"
        }
      ],
      "source": [
        "# We will add node\n",
        "def chatbot(state: MessagesState): #whenever we create any node in this graph builder, we have to pass MessageState in it because based on state message, the state management will keep on changing\n",
        "  return {\"graph_state\": llm.invoke(state[\"graph_state\"])}\n",
        "\n",
        "builder.add_node(\"chatbot\", chatbot)"
      ]
    },
    {
      "cell_type": "markdown",
      "metadata": {
        "id": "43F002Elf1T-"
      },
      "source": [
        "## Edge"
      ]
    },
    {
      "cell_type": "code",
      "execution_count": null,
      "metadata": {
        "colab": {
          "base_uri": "https://localhost:8080/"
        },
        "id": "hYPWQ9DmSZj8",
        "outputId": "6f0cc24c-2197-424f-b166-48d1e5eb4ea2"
      },
      "outputs": [
        {
          "data": {
            "text/plain": [
              "<langgraph.graph.state.StateGraph at 0x7f1fb0c540d0>"
            ]
          },
          "execution_count": 23,
          "metadata": {},
          "output_type": "execute_result"
        }
      ],
      "source": [
        "# we will add edges like this\n",
        "from langgraph.graph import START, END\n",
        "\n",
        "builder.add_edge(START, \"chatbot\")\n",
        "builder.add_edge(\"chatbot\", END)"
      ]
    },
    {
      "cell_type": "markdown",
      "metadata": {
        "id": "dJ5tR_J1f4V2"
      },
      "source": [
        "## Compile the Graph"
      ]
    },
    {
      "cell_type": "code",
      "execution_count": null,
      "metadata": {
        "id": "3K20dcJrVjzO"
      },
      "outputs": [],
      "source": [
        "# compile a graph to view it\n",
        "graph = builder.compile()"
      ]
    },
    {
      "cell_type": "markdown",
      "metadata": {
        "id": "3EkbicGbf8KR"
      },
      "source": [
        "## View Graph"
      ]
    },
    {
      "cell_type": "code",
      "execution_count": null,
      "metadata": {
        "colab": {
          "base_uri": "https://localhost:8080/",
          "height": 251
        },
        "id": "Gyx07xbcVndh",
        "outputId": "8b445516-f8e6-476d-d301-d0a54a35de5b"
      },
      "outputs": [
        {
          "data": {
            "image/jpeg": "[encoded data removed]",
            "text/plain": [
              "<IPython.core.display.Image object>"
            ]
          },
          "metadata": {},
          "output_type": "display_data"
        }
      ],
      "source": [
        "from IPython.display import Image, display\n",
        "\n",
        "# View\n",
        "display(Image(graph.get_graph().draw_mermaid_png()))"
      ]
    },
    {
      "cell_type": "markdown",
      "metadata": {
        "id": "vKQANQ8Hf-28"
      },
      "source": [
        "## Test Application"
      ]
    },
    {
      "cell_type": "code",
      "execution_count": null,
      "metadata": {
        "colab": {
          "base_uri": "https://localhost:8080/",
          "height": 54
        },
        "id": "U4Muf9k0Xn2Z",
        "outputId": "5c038413-f4e2-4ac2-9cb1-06e184a5f040"
      },
      "outputs": [
        {
          "data": {
            "application/vnd.google.colaboratory.intrinsic+json": {
              "type": "string"
            },
            "text/plain": [
              "\"Hello Math Class!\\n\\nThe answer to 10 x 2 is... 20!\\n\\nLet me know if you have any more questions or if there's anything else I can help you with!\""
            ]
          },
          "execution_count": 27,
          "metadata": {},
          "output_type": "execute_result"
        }
      ],
      "source": [
        "# test our agent\n",
        "from langchain_core.messages import AIMessage, HumanMessage\n",
        "result = graph.invoke({\"graph_state\": [HumanMessage(content=\"Hi, this is Math Class. What is 10x2?\")]})\n",
        "result['graph_state'].content"
      ]
    },
    {
      "cell_type": "code",
      "execution_count": null,
      "metadata": {
        "colab": {
          "base_uri": "https://localhost:8080/",
          "height": 145
        },
        "id": "Zt3viYwgfUc9",
        "outputId": "bb0405d4-3a8d-4f9d-fa50-a6871db06b57"
      },
      "outputs": [
        {
          "data": {
            "application/vnd.google.colaboratory.intrinsic+json": {
              "type": "string"
            },
            "text/plain": [
              "'Quantum physics! It\\'s a fascinating and mind-bending subject that has revolutionized our understanding of the universe. Here\\'s a brief introduction to the basics:\\n\\n**What is quantum physics?**\\n\\nQuantum physics, also known as quantum mechanics, is a branch of physics that studies the behavior of matter and energy at an atomic and subatomic level. It\\'s a way to understand the tiny world where classical physics no longer applies.\\n\\n**Key principles:**\\n\\n1. **Wave-particle duality**: Quantum objects, like electrons, can exhibit both wave-like and particle-like behavior depending on how they\\'re observed.\\n2. **Uncertainty principle**: It\\'s impossible to know certain properties of a quantum object, like position and momentum, simultaneously with infinite precision.\\n3. **Superposition**: Quantum objects can exist in multiple states simultaneously, which is known as a superposition of states.\\n4. **Entanglement**: Quantum objects can become \"entangled\" in a way that their properties are connected, even when separated by large distances.\\n5. **Quantization**: Quantum mechanics introduces a fundamental discreteness in the physical world, where certain quantities, like energy, can only take on specific discrete values.\\n\\n**Quantum weirdness:**\\n\\n1. **Schrödinger\\'s cat**: A thought experiment where a cat is in a superposition of states, both alive and dead, until observed.\\n2. **Quantum spin**: Quantum objects can have an intrinsic angular momentum, known as spin, which is neither purely classical nor purely wave-like.\\n3. **Quantum tunneling**: Quantum objects can pass through barriers or gaps that would be classically impossible to traverse.\\n\\n**Applications:**\\n\\n1. **Transistors**: The building blocks of modern electronics rely on quantum mechanics to control the flow of electric current.\\n2. **Lasers**: Quantum mechanics is essential for understanding the behavior of light and its interaction with matter.\\n3. **Computer chips**: Quantum computing and cryptography rely on the principles of quantum mechanics.\\n4. **Medical imaging**: Quantum mechanics is used in MRI and PET scans to visualize the human body.\\n\\n**Challenges and open questions:**\\n\\n1. **Interpretation of quantum mechanics**: There\\'s ongoing debate about the meaning and implications of quantum mechanics, particularly the role of observation and measurement.\\n2. **Quantum gravity**: The integration of quantum mechanics and general relativity, the theory of gravity, is an open problem in physics.\\n3. **Quantum error correction**: Developing practical methods to correct errors in quantum computations and communications.\\n\\nThis is just a brief glimpse into the fascinating world of quantum physics. If you\\'re interested in learning more, I\\'d be happy to provide additional resources and insights!'"
            ]
          },
          "execution_count": 29,
          "metadata": {},
          "output_type": "execute_result"
        }
      ],
      "source": [
        "# test our agent\n",
        "from langchain_core.messages import AIMessage, HumanMessage\n",
        "result = graph.invoke({\"graph_state\": [HumanMessage(content=\"Hi, tell me basics about quantum physics?\")]})\n",
        "result['graph_state'].content"
      ]
    },
    {
      "cell_type": "markdown",
      "metadata": {
        "id": "oYmuZjtxHQ58"
      },
      "source": [
        "## Conditional Edges:\n",
        "Now we know that edges can be conditional and unconditional we have already seen unconditional edge. Now check the Conditional Edge example:"
      ]
    },
    {
      "cell_type": "markdown",
      "metadata": {
        "id": "Gl1lvoCcH9Qg"
      },
      "source": [
        "# The Simplest Graph\n",
        "\n",
        "Let's build a simple graph with 3 nodes and one conditional edge.\n",
        "\n",
        "![Screenshot 2024-08-20 at 3.11.22 PM.png](https://cdn.prod.website-files.com/65b8cd72835ceeacd4449a53/66dba5f465f6e9a2482ad935_simple-graph1.png)"
      ]
    },
    {
      "cell_type": "code",
      "execution_count": null,
      "metadata": {
        "id": "E_tq6l41_M7K"
      },
      "outputs": [],
      "source": [
        "%pip install --quiet -U langgraph # we already install it above so no need here"
      ]
    },
    {
      "cell_type": "markdown",
      "metadata": {
        "id": "2zqnTMVUgkW3"
      },
      "source": [
        "## State\n",
        "\n",
        "First, define the [State](https://langchain-ai.github.io/langgraph/concepts/low_level/#state) of the graph.\n",
        "\n",
        "The State schema serves as the input schema for all Nodes and Edges in the graph.\n",
        "\n",
        "Let's use the `TypedDict` class from python's `typing` module as our schema, which provides type hints for the keys."
      ]
    },
    {
      "cell_type": "code",
      "execution_count": null,
      "metadata": {
        "id": "R3yYqg3Cgg90"
      },
      "outputs": [],
      "source": [
        "from typing_extensions import TypedDict\n",
        "\n",
        "class State(TypedDict):\n",
        "    graph_state: str"
      ]
    },
    {
      "cell_type": "markdown",
      "metadata": {
        "id": "0Zuzc_fsgop0"
      },
      "source": [
        "## Nodes\n",
        "\n",
        "[Nodes](https://langchain-ai.github.io/langgraph/concepts/low_level/#nodes) are just python functions.\n",
        "\n",
        "The first positional argument is the state, as defined above.\n",
        "\n",
        "Because the state is a `TypedDict` with schema as defined above, each node can access the key, `graph_state`, with `state['graph_state']`.\n",
        "\n",
        "Each node returns a new value of the state key `graph_state`.\n",
        "  \n",
        "By default, the new value returned by each node [will override](https://langchain-ai.github.io/langgraph/concepts/low_level/#reducers) the prior state value."
      ]
    },
    {
      "cell_type": "code",
      "execution_count": null,
      "metadata": {
        "id": "ZNEUcNwXgm5G"
      },
      "outputs": [],
      "source": [
        "def node_1(state):\n",
        "    print(\"---Node 1---\")\n",
        "    return {\"graph_state\": state['graph_state'] +\" I am\"}\n",
        "\n",
        "def node_2(state):\n",
        "    print(\"---Node 2---\")\n",
        "    return {\"graph_state\": state['graph_state'] +\" happy!\"}\n",
        "\n",
        "def node_3(state):\n",
        "    print(\"---Node 3---\")\n",
        "    return {\"graph_state\": state['graph_state'] +\" sad!\"}"
      ]
    },
    {
      "cell_type": "markdown",
      "metadata": {
        "id": "yE851LujhDod"
      },
      "source": [
        "## Edges\n",
        "\n",
        "[Edges](https://langchain-ai.github.io/langgraph/concepts/low_level/#edges) connect the nodes.\n",
        "\n",
        "Normal Edges are used if you want to *always* go from, for example, `node_1` to `node_2`.\n",
        "\n",
        "[Conditional Edges](https://langchain-ai.github.io/langgraph/reference/graphs/?h=conditional+edge#langgraph.graph.StateGraph.add_conditional_edges) are used want to *optionally* route between nodes.\n",
        "\n",
        "Conditional edges are implemented as functions that return the next node to visit based upon some logic."
      ]
    },
    {
      "cell_type": "code",
      "execution_count": null,
      "metadata": {
        "id": "aNjkp1b0gyKh"
      },
      "outputs": [],
      "source": [
        "import random\n",
        "from typing import Literal\n",
        "\n",
        "def decide_mood(state) -> Literal[\"node_2\", \"node_3\"]:\n",
        "\n",
        "    # Often, we will use state to decide on the next node to visit\n",
        "    user_input = state['graph_state']\n",
        "\n",
        "    # Here, let's just do a 50 / 50 split between nodes 2, 3\n",
        "    if random.random() < 0.5:\n",
        "\n",
        "        # 50% of the time, we return Node 2\n",
        "        return \"node_2\"\n",
        "\n",
        "    # 50% of the time, we return Node 3\n",
        "    return \"node_3\""
      ]
    },
    {
      "cell_type": "markdown",
      "metadata": {
        "id": "yv393l7LimsS"
      },
      "source": [
        "## Graph Construction\n",
        "\n",
        "Now, we build the graph from our [components](\n",
        "https://langchain-ai.github.io/langgraph/concepts/low_level/) defined above.\n",
        "\n",
        "The [StateGraph class](https://langchain-ai.github.io/langgraph/concepts/low_level/#stategraph) is the graph class that we can use.\n",
        "\n",
        "First, we initialize a StateGraph with the `State` class we defined above.\n",
        "\n",
        "Then, we add our nodes and edges.\n",
        "\n",
        "We use the [`START` Node, a special node](https://langchain-ai.github.io/langgraph/concepts/low_level/#start-node) that sends user input to the graph, to indicate where to start our graph.\n",
        "\n",
        "The [`END` Node](https://langchain-ai.github.io/langgraph/concepts/low_level/#end-node) is a special node that represents a terminal node.\n",
        "\n",
        "Finally, we [compile our graph](https://langchain-ai.github.io/langgraph/concepts/low_level/#compiling-your-graph) to perform a few basic checks on the graph structure.\n",
        "\n",
        "We can visualize the graph as a [Mermaid diagram](https://github.com/mermaid-js/mermaid)."
      ]
    },
    {
      "cell_type": "code",
      "execution_count": null,
      "metadata": {
        "colab": {
          "base_uri": "https://localhost:8080/",
          "height": 350
        },
        "id": "kgY9IfluherI",
        "outputId": "e379a1ea-4fb1-4bb1-a268-ccab750d3c93"
      },
      "outputs": [
        {
          "data": {
            "image/jpeg": "[encoded data removed]",
            "text/plain": [
              "<IPython.core.display.Image object>"
            ]
          },
          "metadata": {},
          "output_type": "display_data"
        }
      ],
      "source": [
        "from IPython.display import Image, display\n",
        "from langgraph.graph import StateGraph, START, END\n",
        "\n",
        "# Build graph\n",
        "builder = StateGraph(State)\n",
        "builder.add_node(\"node_1\", node_1)\n",
        "builder.add_node(\"node_2\", node_2)\n",
        "builder.add_node(\"node_3\", node_3)\n",
        "\n",
        "# Logic\n",
        "builder.add_edge(START, \"node_1\")\n",
        "builder.add_conditional_edges(\"node_1\", decide_mood)\n",
        "builder.add_edge(\"node_2\", END)\n",
        "builder.add_edge(\"node_3\", END)\n",
        "\n",
        "# Add\n",
        "graph = builder.compile()\n",
        "\n",
        "# View\n",
        "display(Image(graph.get_graph().draw_mermaid_png()))"
      ]
    },
    {
      "cell_type": "markdown",
      "metadata": {
        "id": "irCuyOLsjDa9"
      },
      "source": [
        "## Graph Invocation\n",
        "\n",
        "The compiled graph implements the [runnable](https://python.langchain.com/v0.1/docs/expression_language/interface/) protocol.\n",
        "\n",
        "This provides a standard way to execute LangChain components.\n",
        "\n",
        "`invoke` is one of the standard methods in this interface.\n",
        "\n",
        "The input is a dictionary `{\"graph_state\": \"Hi, this is lance.\"}`, which sets the initial value for our graph state dict.\n",
        "\n",
        "When `invoke` is called, the graph starts execution from the `START` node.\n",
        "\n",
        "It progresses through the defined nodes (`node_1`, `node_2`, `node_3`) in order.\n",
        "\n",
        "The conditional edge will traverse from node `1` to node `2` or `3` using a 50/50 decision rule.\n",
        "\n",
        "Each node function receives the current state and returns a new value, which overrides the graph state.\n",
        "\n",
        "The execution continues until it reaches the `END` node."
      ]
    },
    {
      "cell_type": "code",
      "execution_count": null,
      "metadata": {
        "colab": {
          "base_uri": "https://localhost:8080/"
        },
        "id": "qr8JU_Vaipnd",
        "outputId": "de707718-530b-4c77-e4f2-13fb0b352897"
      },
      "outputs": [
        {
          "name": "stdout",
          "output_type": "stream",
          "text": [
            "---Node 1---\n",
            "---Node 3---\n"
          ]
        },
        {
          "data": {
            "text/plain": [
              "{'graph_state': 'Hi, this is Lance. I am sad!'}"
            ]
          },
          "execution_count": 36,
          "metadata": {},
          "output_type": "execute_result"
        }
      ],
      "source": [
        "graph.invoke({\"graph_state\" : \"Hi, this is Lance.\"})"
      ]
    },
    {
      "cell_type": "markdown",
      "metadata": {
        "id": "UKm_PQuljTPY"
      },
      "source": [
        "`invoke` runs the entire graph synchronously.\n",
        "\n",
        "This waits for each step to complete before moving to the next.\n",
        "\n",
        "It returns the final state of the graph after all nodes have executed.\n",
        "\n",
        "In this case, it returns the state after `node_3` has completed:\n",
        "\n",
        "```\n",
        "{'graph_state': 'Hi, this is Lance. I am sad!'}\n",
        "```"
      ]
    }
  ],
  "metadata": {
    "colab": {
      "provenance": [],
      "include_colab_link": true
    },
    "kernelspec": {
      "display_name": "Python 3",
      "name": "python3"
    },
    "language_info": {
      "name": "python"
    }
  },
  "nbformat": 4,
  "nbformat_minor": 0
}